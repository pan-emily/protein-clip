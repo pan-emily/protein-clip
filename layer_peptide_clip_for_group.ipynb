{
  "cells": [
    {
      "cell_type": "markdown",
      "metadata": {
        "id": "view-in-github",
        "colab_type": "text"
      },
      "source": [
        "<a href=\"https://colab.research.google.com/github/pan-emily/protein-clip/blob/main/layer_peptide_clip_for_group.ipynb\" target=\"_parent\"><img src=\"https://colab.research.google.com/assets/colab-badge.svg\" alt=\"Open In Colab\"/></a>"
      ]
    },
    {
      "cell_type": "markdown",
      "metadata": {
        "id": "e3cf5f78-a6fc-43e3-9d29-855b06f43fd3"
      },
      "source": [
        "# Basic CLIP dataloading\n",
        "## 10/5/2023\n",
        "This notebook will walk through the basics of getting some peptide-receptor data, loading and running it through ESM, and discuss some basic ideas we could work on"
      ],
      "id": "e3cf5f78-a6fc-43e3-9d29-855b06f43fd3"
    },
    {
      "cell_type": "markdown",
      "metadata": {
        "id": "fa2e0966-761b-4e2b-80c3-ea9d86a944db"
      },
      "source": [
        "## Get the data\n",
        "A good starting dataset is http://bioinfo.dcc.ufmg.br/propedia/, which contains peptide-protein complexes in fasta format. The fasta format isn't really well-defined, but it's very easy to understand / parse. This code is not meant to be super-efficient, mostly focused on pedagogy, so feel free to change heavily!\n",
        "\n",
        "### NOTE:\n",
        "Python3.12 came out today and is breaking all my workflows. Set to 3.10 or 3.11 in virtual environments!"
      ],
      "id": "fa2e0966-761b-4e2b-80c3-ea9d86a944db"
    },
    {
      "cell_type": "code",
      "execution_count": null,
      "metadata": {
        "colab": {
          "base_uri": "https://localhost:8080/"
        },
        "id": "2893b1be-ae84-41d9-be9d-8064a10ab241",
        "outputId": "b47d2a79-f9ad-499d-949f-da90cb1ccc02"
      },
      "outputs": [
        {
          "output_type": "stream",
          "name": "stdout",
          "text": [
            "Collecting transformers\n",
            "  Downloading transformers-4.34.1-py3-none-any.whl (7.7 MB)\n",
            "\u001b[2K     \u001b[90m━━━━━━━━━━━━━━━━━━━━━━━━━━━━━━━━━━━━━━━━\u001b[0m \u001b[32m7.7/7.7 MB\u001b[0m \u001b[31m44.5 MB/s\u001b[0m eta \u001b[36m0:00:00\u001b[0m\n",
            "\u001b[?25hRequirement already satisfied: filelock in /usr/local/lib/python3.10/dist-packages (from transformers) (3.12.4)\n",
            "Collecting huggingface-hub<1.0,>=0.16.4 (from transformers)\n",
            "  Downloading huggingface_hub-0.18.0-py3-none-any.whl (301 kB)\n",
            "\u001b[2K     \u001b[90m━━━━━━━━━━━━━━━━━━━━━━━━━━━━━━━━━━━━━━━━\u001b[0m \u001b[32m302.0/302.0 kB\u001b[0m \u001b[31m33.8 MB/s\u001b[0m eta \u001b[36m0:00:00\u001b[0m\n",
            "\u001b[?25hRequirement already satisfied: numpy>=1.17 in /usr/local/lib/python3.10/dist-packages (from transformers) (1.23.5)\n",
            "Requirement already satisfied: packaging>=20.0 in /usr/local/lib/python3.10/dist-packages (from transformers) (23.2)\n",
            "Requirement already satisfied: pyyaml>=5.1 in /usr/local/lib/python3.10/dist-packages (from transformers) (6.0.1)\n",
            "Requirement already satisfied: regex!=2019.12.17 in /usr/local/lib/python3.10/dist-packages (from transformers) (2023.6.3)\n",
            "Requirement already satisfied: requests in /usr/local/lib/python3.10/dist-packages (from transformers) (2.31.0)\n",
            "Collecting tokenizers<0.15,>=0.14 (from transformers)\n",
            "  Downloading tokenizers-0.14.1-cp310-cp310-manylinux_2_17_x86_64.manylinux2014_x86_64.whl (3.8 MB)\n",
            "\u001b[2K     \u001b[90m━━━━━━━━━━━━━━━━━━━━━━━━━━━━━━━━━━━━━━━━\u001b[0m \u001b[32m3.8/3.8 MB\u001b[0m \u001b[31m55.7 MB/s\u001b[0m eta \u001b[36m0:00:00\u001b[0m\n",
            "\u001b[?25hCollecting safetensors>=0.3.1 (from transformers)\n",
            "  Downloading safetensors-0.4.0-cp310-cp310-manylinux_2_17_x86_64.manylinux2014_x86_64.whl (1.3 MB)\n",
            "\u001b[2K     \u001b[90m━━━━━━━━━━━━━━━━━━━━━━━━━━━━━━━━━━━━━━━━\u001b[0m \u001b[32m1.3/1.3 MB\u001b[0m \u001b[31m67.5 MB/s\u001b[0m eta \u001b[36m0:00:00\u001b[0m\n",
            "\u001b[?25hRequirement already satisfied: tqdm>=4.27 in /usr/local/lib/python3.10/dist-packages (from transformers) (4.66.1)\n",
            "Requirement already satisfied: fsspec>=2023.5.0 in /usr/local/lib/python3.10/dist-packages (from huggingface-hub<1.0,>=0.16.4->transformers) (2023.6.0)\n",
            "Requirement already satisfied: typing-extensions>=3.7.4.3 in /usr/local/lib/python3.10/dist-packages (from huggingface-hub<1.0,>=0.16.4->transformers) (4.5.0)\n",
            "Collecting huggingface-hub<1.0,>=0.16.4 (from transformers)\n",
            "  Downloading huggingface_hub-0.17.3-py3-none-any.whl (295 kB)\n",
            "\u001b[2K     \u001b[90m━━━━━━━━━━━━━━━━━━━━━━━━━━━━━━━━━━━━━━━━\u001b[0m \u001b[32m295.0/295.0 kB\u001b[0m \u001b[31m27.3 MB/s\u001b[0m eta \u001b[36m0:00:00\u001b[0m\n",
            "\u001b[?25hRequirement already satisfied: charset-normalizer<4,>=2 in /usr/local/lib/python3.10/dist-packages (from requests->transformers) (3.3.0)\n",
            "Requirement already satisfied: idna<4,>=2.5 in /usr/local/lib/python3.10/dist-packages (from requests->transformers) (3.4)\n",
            "Requirement already satisfied: urllib3<3,>=1.21.1 in /usr/local/lib/python3.10/dist-packages (from requests->transformers) (2.0.7)\n",
            "Requirement already satisfied: certifi>=2017.4.17 in /usr/local/lib/python3.10/dist-packages (from requests->transformers) (2023.7.22)\n",
            "Installing collected packages: safetensors, huggingface-hub, tokenizers, transformers\n",
            "Successfully installed huggingface-hub-0.17.3 safetensors-0.4.0 tokenizers-0.14.1 transformers-4.34.1\n"
          ]
        }
      ],
      "source": [
        "!pip install transformers"
      ],
      "id": "2893b1be-ae84-41d9-be9d-8064a10ab241"
    },
    {
      "cell_type": "code",
      "execution_count": null,
      "metadata": {
        "id": "33b77cf2-60a8-4f2f-96b7-cbde0863bf3d"
      },
      "outputs": [],
      "source": [
        "\n",
        "\n",
        "\n",
        "\n",
        "from pathlib import Path\n",
        "import requests"
      ],
      "id": "33b77cf2-60a8-4f2f-96b7-cbde0863bf3d"
    },
    {
      "cell_type": "code",
      "execution_count": null,
      "metadata": {
        "id": "d23d8697-92ea-4632-8ea2-f7a84d3c39af"
      },
      "outputs": [],
      "source": [
        "if not Path('receptor.fasta').exists():\n",
        "    r = requests.get('http://bioinfo.dcc.ufmg.br/propedia/public/download/receptor.fasta')\n",
        "    assert r.ok\n",
        "    with open('receptor.fasta', 'w+') as f:\n",
        "        f.write(r.text)\n",
        "\n",
        "if not Path('peptide.fasta').exists():\n",
        "    r = requests.get('http://bioinfo.dcc.ufmg.br/propedia/public/download/peptide.fasta')\n",
        "    assert r.ok\n",
        "    with open('peptide.fasta', 'w+') as f:\n",
        "        f.write(r.text)"
      ],
      "id": "d23d8697-92ea-4632-8ea2-f7a84d3c39af"
    },
    {
      "cell_type": "code",
      "execution_count": null,
      "metadata": {
        "id": "e1281175-c75a-4fcf-abb0-a5371722a98a"
      },
      "outputs": [],
      "source": [
        "peptides, receptors = [], []\n",
        "with open('receptor.fasta', 'r') as f:\n",
        "    for line in f.readlines():\n",
        "        if not line.startswith('>'):\n",
        "            receptors.append(line.replace('\\n', ''))\n",
        "\n",
        "with open('peptide.fasta', 'r') as f:\n",
        "    for line in f.readlines():\n",
        "        if not line.startswith('>'):\n",
        "            peptides.append(line.replace('\\n', ''))\n",
        "assert len(peptides) == len(receptors)"
      ],
      "id": "e1281175-c75a-4fcf-abb0-a5371722a98a"
    },
    {
      "cell_type": "code",
      "execution_count": null,
      "metadata": {
        "id": "jlMVMAdSzW8Z"
      },
      "outputs": [],
      "source": [
        "peptide_url = 'http://bioinfo.dcc.ufmg.br/propedia/public/download/peptide.fasta'\n",
        "receptor_url = 'http://bioinfo.dcc.ufmg.br/propedia/public/download/receptor.fasta'\n",
        "peptide_data = requests.get(peptide_url).text\n",
        "receptor_data = requests.get(receptor_url).text\n",
        "with open('peptide.fasta', 'w') as f:\n",
        "  f.write(peptide_data)\n",
        "with open('receptor.fasta', 'w') as f:\n",
        "  f.write(receptor_data)"
      ],
      "id": "jlMVMAdSzW8Z"
    },
    {
      "cell_type": "code",
      "execution_count": null,
      "metadata": {
        "colab": {
          "base_uri": "https://localhost:8080/"
        },
        "id": "Vr16ZejtGvKp",
        "outputId": "019fa888-46e3-4332-84ca-257917243596"
      },
      "outputs": [
        {
          "output_type": "stream",
          "name": "stdout",
          "text": [
            "--2023-10-20 17:05:48--  https://mmseqs.com/latest/mmseqs-linux-avx2.tar.gz\n",
            "Resolving mmseqs.com (mmseqs.com)... 147.46.145.74\n",
            "Connecting to mmseqs.com (mmseqs.com)|147.46.145.74|:443... connected.\n",
            "HTTP request sent, awaiting response... 200 OK\n",
            "Length: 45098845 (43M) [application/octet-stream]\n",
            "Saving to: ‘mmseqs-linux-avx2.tar.gz’\n",
            "\n",
            "mmseqs-linux-avx2.t 100%[===================>]  43.01M  4.72MB/s    in 7.2s    \n",
            "\n",
            "2023-10-20 17:05:56 (5.97 MB/s) - ‘mmseqs-linux-avx2.tar.gz’ saved [45098845/45098845]\n",
            "\n",
            "mmseqs/\n",
            "mmseqs/bin/\n",
            "mmseqs/bin/mmseqs\n",
            "mmseqs/matrices/\n",
            "mmseqs/matrices/blosum90.out\n",
            "mmseqs/matrices/blosum50.out\n",
            "mmseqs/matrices/blosum75.out\n",
            "mmseqs/matrices/PAM50.out\n",
            "mmseqs/matrices/blosum45.out\n",
            "mmseqs/matrices/VTML120.out\n",
            "mmseqs/matrices/blosum65.out\n",
            "mmseqs/matrices/PAM60.out\n",
            "mmseqs/matrices/VTML20.out\n",
            "mmseqs/matrices/PAM100.out\n",
            "mmseqs/matrices/PAM10.out\n",
            "mmseqs/matrices/PAM120.out\n",
            "mmseqs/matrices/PAM70.out\n",
            "mmseqs/matrices/PAM40.out\n",
            "mmseqs/matrices/nucleotide.out\n",
            "mmseqs/matrices/blosum85.out\n",
            "mmseqs/matrices/blosum95.out\n",
            "mmseqs/matrices/blosum100.out\n",
            "mmseqs/matrices/blosum40.out\n",
            "mmseqs/matrices/blosum60.out\n",
            "mmseqs/matrices/blosum30.out\n",
            "mmseqs/matrices/PAM140.out\n",
            "mmseqs/matrices/PAM170.out\n",
            "mmseqs/matrices/blosum62.out\n",
            "mmseqs/matrices/PAM20.out\n",
            "mmseqs/matrices/blosum80.out\n",
            "mmseqs/matrices/VTML160.out\n",
            "mmseqs/matrices/PAM110.out\n",
            "mmseqs/matrices/blosum35.out\n",
            "mmseqs/matrices/blosum70.out\n",
            "mmseqs/matrices/PAM30.out\n",
            "mmseqs/matrices/PAM160.out\n",
            "mmseqs/matrices/PAM190.out\n",
            "mmseqs/matrices/VTML10.out\n",
            "mmseqs/matrices/VTML80.out\n",
            "mmseqs/matrices/PAM90.out\n",
            "mmseqs/matrices/blosum55.out\n",
            "mmseqs/matrices/PAM150.out\n",
            "mmseqs/matrices/PAM80.out\n",
            "mmseqs/matrices/VTML40.out\n",
            "mmseqs/matrices/PAM180.out\n",
            "mmseqs/matrices/PAM130.out\n",
            "mmseqs/README.md\n",
            "mmseqs/util/\n",
            "mmseqs/util/bash-completion.sh\n",
            "mmseqs/examples/\n",
            "mmseqs/examples/DB.fasta\n",
            "mmseqs/examples/QUERY.fasta\n",
            "mmseqs/userguide.pdf\n",
            "mmseqs/LICENSE.md\n",
            "Collecting biopython\n",
            "  Downloading biopython-1.81-cp310-cp310-manylinux_2_17_x86_64.manylinux2014_x86_64.whl (3.1 MB)\n",
            "\u001b[2K     \u001b[90m━━━━━━━━━━━━━━━━━━━━━━━━━━━━━━━━━━━━━━━━\u001b[0m \u001b[32m3.1/3.1 MB\u001b[0m \u001b[31m10.6 MB/s\u001b[0m eta \u001b[36m0:00:00\u001b[0m\n",
            "\u001b[?25hRequirement already satisfied: numpy in /usr/local/lib/python3.10/dist-packages (from biopython) (1.23.5)\n",
            "Installing collected packages: biopython\n",
            "Successfully installed biopython-1.81\n"
          ]
        }
      ],
      "source": [
        "!wget https://mmseqs.com/latest/mmseqs-linux-avx2.tar.gz\n",
        "!tar xvzf mmseqs-linux-avx2.tar.gz\n",
        "!cp mmseqs/bin/mmseqs /usr/bin/\n",
        "!pip install biopython"
      ],
      "id": "Vr16ZejtGvKp"
    },
    {
      "cell_type": "code",
      "execution_count": null,
      "metadata": {
        "colab": {
          "base_uri": "https://localhost:8080/"
        },
        "id": "MRYyHIPdG6pv",
        "outputId": "0294456d-edf1-4c49-c8ee-34f7a7c16094"
      },
      "outputs": [
        {
          "output_type": "stream",
          "name": "stdout",
          "text": [
            "createdb peptide.fasta peptides_DB \n",
            "\n",
            "MMseqs Version:       \tbb0a1b3569b9fe115f3bf63e5ba1da234748de23\n",
            "Database type         \t0\n",
            "Shuffle input database\ttrue\n",
            "Createdb mode         \t0\n",
            "Write lookup file     \t1\n",
            "Offset of numeric ids \t0\n",
            "Compressed            \t0\n",
            "Verbosity             \t3\n",
            "\n",
            "Converting sequences\n",
            "[102] 0s 3ms\r[203] 0s 3ms\r[304] 0s 3ms\r[405] 0s 3ms\r[506] 0s 3ms\r[607] 0s 3ms\r[708] 0s 4ms\r[809] 0s 4ms\r[910] 0s 4ms\r[1011] 0s 4ms\r[1112] 0s 4ms\r[1213] 0s 4ms\r[1314] 0s 5ms\r[1415] 0s 5ms\r[1516] 0s 5ms\r[1617] 0s 5ms\r[1718] 0s 5ms\r[1819] 0s 6ms\r[1920] 0s 6ms\r[2021] 0s 6ms\r[2122] 0s 6ms\r[2223] 0s 6ms\r[2324] 0s 7ms\r[2425] 0s 7ms\r[2526] 0s 7ms\r[2627] 0s 7ms\r[2728] 0s 7ms\r[2829] 0s 7ms\r[2930] 0s 7ms\r[3031] 0s 8ms\r[3132] 0s 8ms\r[3233] 0s 8ms\r[3334] 0s 8ms\r[3435] 0s 9ms\r[3536] 0s 9ms\r[3637] 0s 9ms\r[3738] 0s 9ms\r[3839] 0s 10ms\r[3940] 0s 10ms\r[4041] 0s 10ms\r[4142] 0s 10ms\r[4243] 0s 11ms\r[4344] 0s 11ms\r[4445] 0s 11ms\r[4546] 0s 11ms\r[4647] 0s 11ms\r[4748] 0s 11ms\r[4849] 0s 12ms\r[4950] 0s 12ms\r[5051] 0s 12ms\r[5152] 0s 12ms\r[5253] 0s 12ms\r[5354] 0s 13ms\r[5455] 0s 13ms\r[5556] 0s 13ms\r[5657] 0s 13ms\r[5758] 0s 14ms\r[5859] 0s 14ms\r[5960] 0s 14ms\r[6061] 0s 14ms\r[6162] 0s 15ms\r[6263] 0s 15ms\r[6364] 0s 15ms\r[6465] 0s 15ms\r[6566] 0s 15ms\r[6667] 0s 16ms\r[6768] 0s 16ms\r[6869] 0s 16ms\r[6970] 0s 16ms\r[7071] 0s 16ms\r[7172] 0s 16ms\r[7273] 0s 17ms\r[7374] 0s 17ms\r[7475] 0s 17ms\r[7576] 0s 17ms\r[7677] 0s 17ms\r[7778] 0s 17ms\r[7879] 0s 18ms\r[7980] 0s 18ms\r[8081] 0s 18ms\r[8182] 0s 18ms\r[8283] 0s 18ms\r[8384] 0s 18ms\r[8485] 0s 19ms\r[8586] 0s 19ms\r[8687] 0s 19ms\r[8788] 0s 19ms\r[8889] 0s 19ms\r[8990] 0s 19ms\r[9091] 0s 20ms\r[9192] 0s 20ms\r[9293] 0s 20ms\r[9394] 0s 20ms\r[9495] 0s 20ms\r[9596] 0s 21ms\r[9697] 0s 21ms\r[9798] 0s 21ms\r[9899] 0s 21ms\r[10000] 0s 21ms\r[10101] 0s 21ms\r[10202] 0s 22ms\r[10303] 0s 22ms\r[10404] 0s 22ms\r[10505] 0s 22ms\r[10606] 0s 22ms\r[10707] 0s 23ms\r[10808] 0s 23ms\r[10909] 0s 23ms\r[11010] 0s 23ms\r[11111] 0s 23ms\r[11212] 0s 23ms\r[11313] 0s 24ms\r[11414] 0s 24ms\r[11515] 0s 24ms\r[11616] 0s 24ms\r[11717] 0s 24ms\r[11818] 0s 24ms\r[11919] 0s 25ms\r[12020] 0s 25ms\r[12121] 0s 25ms\r[12222] 0s 25ms\r[12323] 0s 25ms\r[12424] 0s 26ms\r[12525] 0s 26ms\r[12626] 0s 26ms\r[12727] 0s 26ms\r[12828] 0s 26ms\r[12929] 0s 26ms\r[13030] 0s 26ms\r[13131] 0s 27ms\r[13232] 0s 27ms\r[13333] 0s 27ms\r[13434] 0s 27ms\r[13535] 0s 27ms\r[13636] 0s 28ms\r[13737] 0s 28ms\r[13838] 0s 28ms\r[13939] 0s 28ms\r[14040] 0s 28ms\r[14141] 0s 28ms\r[14242] 0s 29ms\r[14343] 0s 29ms\r[14444] 0s 29ms\r[14545] 0s 29ms\r[14646] 0s 29ms\r[14747] 0s 29ms\r[14848] 0s 29ms\r[14949] 0s 30ms\r[15050] 0s 30ms\r[15151] 0s 30ms\r[15252] 0s 30ms\r[15353] 0s 30ms\r[15454] 0s 30ms\r[15555] 0s 31ms\r[15656] 0s 31ms\r[15757] 0s 31ms\r[15858] 0s 31ms\r[15959] 0s 31ms\r[16060] 0s 31ms\r[16161] 0s 32ms\r[16262] 0s 32ms\r[16363] 0s 32ms\r[16464] 0s 32ms\r[16565] 0s 32ms\r[16666] 0s 33ms\r[16767] 0s 33ms\r[16868] 0s 33ms\r[16969] 0s 33ms\r[17070] 0s 33ms\r[17171] 0s 33ms\r[17272] 0s 34ms\r[17373] 0s 34ms\r[17474] 0s 34ms\r[17575] 0s 34ms\r[17676] 0s 34ms\r[17777] 0s 34ms\r[17878] 0s 35ms\r[17979] 0s 35ms\r[18080] 0s 35ms\r[18181] 0s 35ms\r[18282] 0s 35ms\r[18383] 0s 36ms\r[18484] 0s 36ms\r[18585] 0s 36ms\r[18686] 0s 36ms\r[18787] 0s 36ms\r[18888] 0s 36ms\r[18989] 0s 37ms\r[19090] 0s 37ms\r[19191] 0s 37ms\r[19292] 0s 37ms\r[19393] 0s 37ms\r[19494] 0s 38ms\r[19595] 0s 38ms\r[19696] 0s 38ms\r[19797] 0s 38ms\r\n",
            "Time for merging to peptides_DB_h: 0h 0m 0s 5ms\n",
            "Time for merging to peptides_DB: 0h 0m 0s 4ms\n",
            "Database type: Aminoacid\n",
            "Time for processing: 0h 0m 0s 87ms\n",
            "Create directory tmp\n",
            "cluster peptides_DB cluster_res tmp --min-seq-id 0.5 \n",
            "\n",
            "MMseqs Version:                     \tbb0a1b3569b9fe115f3bf63e5ba1da234748de23\n",
            "Substitution matrix                 \taa:blosum62.out,nucl:nucleotide.out\n",
            "Seed substitution matrix            \taa:VTML80.out,nucl:nucleotide.out\n",
            "Sensitivity                         \t4\n",
            "k-mer length                        \t0\n",
            "Target search mode                  \t0\n",
            "k-score                             \tseq:2147483647,prof:2147483647\n",
            "Alphabet size                       \taa:21,nucl:5\n",
            "Max sequence length                 \t65535\n",
            "Max results per query               \t20\n",
            "Split database                      \t0\n",
            "Split mode                          \t2\n",
            "Split memory limit                  \t0\n",
            "Coverage threshold                  \t0.8\n",
            "Coverage mode                       \t0\n",
            "Compositional bias                  \t1\n",
            "Compositional bias                  \t1\n",
            "Diagonal scoring                    \ttrue\n",
            "Exact k-mer matching                \t0\n",
            "Mask residues                       \t1\n",
            "Mask residues probability           \t0.9\n",
            "Mask lower case residues            \t0\n",
            "Minimum diagonal score              \t15\n",
            "Selected taxa                       \t\n",
            "Include identical seq. id.          \tfalse\n",
            "Spaced k-mers                       \t1\n",
            "Preload mode                        \t0\n",
            "Pseudo count a                      \tsubstitution:1.100,context:1.400\n",
            "Pseudo count b                      \tsubstitution:4.100,context:5.800\n",
            "Spaced k-mer pattern                \t\n",
            "Local temporary path                \t\n",
            "Threads                             \t2\n",
            "Compressed                          \t0\n",
            "Verbosity                           \t3\n",
            "Add backtrace                       \tfalse\n",
            "Alignment mode                      \t3\n",
            "Alignment mode                      \t0\n",
            "Allow wrapped scoring               \tfalse\n",
            "E-value threshold                   \t0.001\n",
            "Seq. id. threshold                  \t0.5\n",
            "Min alignment length                \t0\n",
            "Seq. id. mode                       \t0\n",
            "Alternative alignments              \t0\n",
            "Max reject                          \t2147483647\n",
            "Max accept                          \t2147483647\n",
            "Score bias                          \t0\n",
            "Realign hits                        \tfalse\n",
            "Realign score bias                  \t-0.2\n",
            "Realign max seqs                    \t2147483647\n",
            "Correlation score weight            \t0\n",
            "Gap open cost                       \taa:11,nucl:5\n",
            "Gap extension cost                  \taa:1,nucl:2\n",
            "Zdrop                               \t40\n",
            "Rescore mode                        \t0\n",
            "Remove hits by seq. id. and coverage\tfalse\n",
            "Sort results                        \t0\n",
            "Cluster mode                        \t0\n",
            "Max connected component depth       \t1000\n",
            "Similarity type                     \t2\n",
            "Weight file name                    \t\n",
            "Cluster Weight threshold            \t0.9\n",
            "Single step clustering              \tfalse\n",
            "Cascaded clustering steps           \t3\n",
            "Cluster reassign                    \tfalse\n",
            "Remove temporary files              \tfalse\n",
            "Force restart with latest tmp       \tfalse\n",
            "MPI runner                          \t\n",
            "k-mers per sequence                 \t21\n",
            "Scale k-mers per sequence           \taa:0.000,nucl:0.200\n",
            "Adjust k-mer length                 \tfalse\n",
            "Shift hash                          \t67\n",
            "Include only extendable             \tfalse\n",
            "Skip repeating k-mers               \tfalse\n",
            "\n",
            "Set cluster sensitivity to -s 3.000000\n",
            "Set cluster mode SET COVER\n",
            "Set cluster iterations to 3\n",
            "linclust peptides_DB tmp/4784593232269356729/clu_redundancy tmp/4784593232269356729/linclust --cluster-mode 0 --max-iterations 1000 --similarity-type 2 --threads 2 --compressed 0 -v 3 --cluster-weight-threshold 0.9 --sub-mat 'aa:blosum62.out,nucl:nucleotide.out' -a 0 --alignment-mode 3 --alignment-output-mode 0 --wrapped-scoring 0 -e 0.001 --min-seq-id 0.5 --min-aln-len 0 --seq-id-mode 0 --alt-ali 0 -c 0.8 --cov-mode 0 --max-seq-len 65535 --comp-bias-corr 1 --comp-bias-corr-scale 1 --max-rejected 2147483647 --max-accept 2147483647 --add-self-matches 0 --db-load-mode 0 --pca substitution:1.100,context:1.400 --pcb substitution:4.100,context:5.800 --score-bias 0 --realign 0 --realign-score-bias -0.2 --realign-max-seqs 2147483647 --corr-score-weight 0 --gap-open aa:11,nucl:5 --gap-extend aa:1,nucl:2 --zdrop 40 --alph-size aa:13,nucl:5 --kmer-per-seq 21 --spaced-kmer-mode 1 --kmer-per-seq-scale aa:0.000,nucl:0.200 --adjust-kmer-len 0 --mask 0 --mask-prob 0.9 --mask-lower-case 0 -k 0 --hash-shift 67 --split-memory-limit 0 --include-only-extendable 0 --ignore-multi-kmer 0 --rescore-mode 0 --filter-hits 0 --sort-results 0 --remove-tmp-files 0 --force-reuse 0 \n",
            "\n",
            "kmermatcher peptides_DB tmp/4784593232269356729/linclust/17048767035676984564/pref --sub-mat 'aa:blosum62.out,nucl:nucleotide.out' --alph-size aa:13,nucl:5 --min-seq-id 0.5 --kmer-per-seq 21 --spaced-kmer-mode 1 --kmer-per-seq-scale aa:0.000,nucl:0.200 --adjust-kmer-len 0 --mask 0 --mask-prob 0.9 --mask-lower-case 0 --cov-mode 0 -k 0 -c 0.8 --max-seq-len 65535 --hash-shift 67 --split-memory-limit 0 --include-only-extendable 0 --ignore-multi-kmer 0 --threads 2 --compressed 0 -v 3 --cluster-weight-threshold 0.9 \n",
            "\n",
            "kmermatcher peptides_DB tmp/4784593232269356729/linclust/17048767035676984564/pref --sub-mat 'aa:blosum62.out,nucl:nucleotide.out' --alph-size aa:13,nucl:5 --min-seq-id 0.5 --kmer-per-seq 21 --spaced-kmer-mode 1 --kmer-per-seq-scale aa:0.000,nucl:0.200 --adjust-kmer-len 0 --mask 0 --mask-prob 0.9 --mask-lower-case 0 --cov-mode 0 -k 0 -c 0.8 --max-seq-len 65535 --hash-shift 67 --split-memory-limit 0 --include-only-extendable 0 --ignore-multi-kmer 0 --threads 2 --compressed 0 -v 3 --cluster-weight-threshold 0.9 \n",
            "\n",
            "Database size: 19813 type: Aminoacid\n",
            "Reduced amino acid alphabet: (A S T) (C) (D B N) (E Q Z) (F Y) (G) (H) (I V) (K R) (L J M) (P) (W) (X) \n",
            "\n",
            "Generate k-mers list for 1 split\n",
            "[=================================================================] 100.00% 19.81K 0s 92ms\n",
            "Sort kmer 0h 0m 0s 15ms\n",
            "Sort by rep. sequence 0h 0m 0s 11ms\n",
            "Time for fill: 0h 0m 0s 1ms\n",
            "Time for merging to pref: 0h 0m 0s 0ms\n",
            "Time for processing: 0h 0m 0s 141ms\n",
            "rescorediagonal peptides_DB peptides_DB tmp/4784593232269356729/linclust/17048767035676984564/pref tmp/4784593232269356729/linclust/17048767035676984564/pref_rescore1 --sub-mat 'aa:blosum62.out,nucl:nucleotide.out' --rescore-mode 0 --wrapped-scoring 0 --filter-hits 0 -e 0.001 -c 0.8 -a 0 --cov-mode 0 --min-seq-id 0.5 --min-aln-len 0 --seq-id-mode 0 --add-self-matches 0 --sort-results 0 --db-load-mode 0 --threads 2 --compressed 0 -v 3 \n",
            "\n",
            "[=================================================================] 100.00% 19.81K 0s 48ms\n",
            "Time for merging to pref_rescore1: 0h 0m 0s 93ms\n",
            "Time for processing: 0h 0m 0s 156ms\n",
            "clust peptides_DB tmp/4784593232269356729/linclust/17048767035676984564/pref_rescore1 tmp/4784593232269356729/linclust/17048767035676984564/pre_clust --cluster-mode 0 --max-iterations 1000 --similarity-type 2 --threads 2 --compressed 0 -v 3 --cluster-weight-threshold 0.9 \n",
            "\n",
            "Clustering mode: Set Cover\n",
            "[=================================================================] 100.00% 19.81K 0s 25ms\n",
            "Sort entries\n",
            "Find missing connections\n",
            "Found 18665 new connections.\n",
            "Reconstruct initial order\n",
            "[=================================================================] 100.00% 19.81K 0s 32ms\n",
            "Add missing connections\n",
            "[=================================================================] 100.00% 19.81K 0s 1ms\n",
            "\n",
            "Time for read in: 0h 0m 0s 114ms\n",
            "Total time: 0h 0m 0s 144ms\n",
            "\n",
            "Size of the sequence database: 19813\n",
            "Size of the alignment database: 19813\n",
            "Number of clusters: 6343\n",
            "\n",
            "Writing results 0h 0m 0s 1ms\n",
            "Time for merging to pre_clust: 0h 0m 0s 0ms\n",
            "Time for processing: 0h 0m 0s 195ms\n",
            "createsubdb tmp/4784593232269356729/linclust/17048767035676984564/order_redundancy peptides_DB tmp/4784593232269356729/linclust/17048767035676984564/input_step_redundancy -v 3 --subdb-mode 1 \n",
            "\n",
            "Time for merging to input_step_redundancy: 0h 0m 0s 0ms\n",
            "Time for processing: 0h 0m 0s 2ms\n",
            "createsubdb tmp/4784593232269356729/linclust/17048767035676984564/order_redundancy tmp/4784593232269356729/linclust/17048767035676984564/pref tmp/4784593232269356729/linclust/17048767035676984564/pref_filter1 -v 3 --subdb-mode 1 \n",
            "\n",
            "Time for merging to pref_filter1: 0h 0m 0s 0ms\n",
            "Time for processing: 0h 0m 0s 4ms\n",
            "filterdb tmp/4784593232269356729/linclust/17048767035676984564/pref_filter1 tmp/4784593232269356729/linclust/17048767035676984564/pref_filter2 --filter-file tmp/4784593232269356729/linclust/17048767035676984564/order_redundancy --threads 2 --compressed 0 -v 3 \n",
            "\n",
            "Filtering using file(s)\n",
            "[=================================================================] 100.00% 6.34K 0s 77ms\n",
            "Time for merging to pref_filter2: 0h 0m 0s 1ms\n",
            "Time for processing: 0h 0m 0s 82ms\n",
            "rescorediagonal tmp/4784593232269356729/linclust/17048767035676984564/input_step_redundancy tmp/4784593232269356729/linclust/17048767035676984564/input_step_redundancy tmp/4784593232269356729/linclust/17048767035676984564/pref_filter2 tmp/4784593232269356729/linclust/17048767035676984564/pref_rescore2 --sub-mat 'aa:blosum62.out,nucl:nucleotide.out' --rescore-mode 1 --wrapped-scoring 0 --filter-hits 1 -e 0.001 -c 0.8 -a 0 --cov-mode 0 --min-seq-id 0.5 --min-aln-len 0 --seq-id-mode 0 --add-self-matches 0 --sort-results 0 --db-load-mode 0 --threads 2 --compressed 0 -v 3 \n",
            "\n",
            "[=================================================================] 100.00% 6.34K 0s 97ms\n",
            "Time for merging to pref_rescore2: 0h 0m 0s 1ms\n",
            "Time for processing: 0h 0m 0s 104ms\n",
            "align tmp/4784593232269356729/linclust/17048767035676984564/input_step_redundancy tmp/4784593232269356729/linclust/17048767035676984564/input_step_redundancy tmp/4784593232269356729/linclust/17048767035676984564/pref_rescore2 tmp/4784593232269356729/linclust/17048767035676984564/aln --sub-mat 'aa:blosum62.out,nucl:nucleotide.out' -a 0 --alignment-mode 3 --alignment-output-mode 0 --wrapped-scoring 0 -e 0.001 --min-seq-id 0.5 --min-aln-len 0 --seq-id-mode 0 --alt-ali 0 -c 0.8 --cov-mode 0 --max-seq-len 65535 --comp-bias-corr 1 --comp-bias-corr-scale 1 --max-rejected 2147483647 --max-accept 2147483647 --add-self-matches 0 --db-load-mode 0 --pca substitution:1.100,context:1.400 --pcb substitution:4.100,context:5.800 --score-bias 0 --realign 0 --realign-score-bias -0.2 --realign-max-seqs 2147483647 --corr-score-weight 0 --gap-open aa:11,nucl:5 --gap-extend aa:1,nucl:2 --zdrop 40 --threads 2 --compressed 0 -v 3 \n",
            "\n",
            "Compute score, coverage and sequence identity\n",
            "Query database size: 6343 type: Aminoacid\n",
            "Target database size: 6343 type: Aminoacid\n",
            "Calculation of alignments\n",
            "[=================================================================] 100.00% 6.34K 0s 98ms\n",
            "Time for merging to aln: 0h 0m 0s 1ms\n",
            "6483 alignments calculated\n",
            "6363 sequence pairs passed the thresholds (0.981490 of overall calculated)\n",
            "1.003153 hits per query sequence\n",
            "Time for processing: 0h 0m 0s 102ms\n",
            "clust tmp/4784593232269356729/linclust/17048767035676984564/input_step_redundancy tmp/4784593232269356729/linclust/17048767035676984564/aln tmp/4784593232269356729/linclust/17048767035676984564/clust --cluster-mode 0 --max-iterations 1000 --similarity-type 2 --threads 2 --compressed 0 -v 3 --cluster-weight-threshold 0.9 \n",
            "\n",
            "Clustering mode: Set Cover\n",
            "[=================================================================] 100.00% 6.34K 0s 92ms\n",
            "Sort entries\n",
            "Find missing connections\n",
            "Found 20 new connections.\n",
            "Reconstruct initial order\n",
            "[=================================================================] 100.00% 6.34K 0s 4ms\n",
            "Add missing connections\n",
            "[=================================================================] 100.00% 6.34K 0s 90ms\n",
            "\n",
            "Time for read in: 0h 0m 0s 188ms\n",
            "Total time: 0h 0m 0s 190ms\n",
            "\n",
            "Size of the sequence database: 6343\n",
            "Size of the alignment database: 6343\n",
            "Number of clusters: 6323\n",
            "\n",
            "Writing results 0h 0m 0s 1ms\n",
            "Time for merging to clust: 0h 0m 0s 0ms\n",
            "Time for processing: 0h 0m 0s 193ms\n",
            "mergeclusters peptides_DB tmp/4784593232269356729/clu_redundancy tmp/4784593232269356729/linclust/17048767035676984564/pre_clust tmp/4784593232269356729/linclust/17048767035676984564/clust --threads 2 --compressed 0 -v 3 \n",
            "\n",
            "Clustering step 1\n",
            "[=================================================================] 100.00% 6.34K 0s 12ms\n",
            "Clustering step 2\n",
            "[=================================================================] 100.00% 6.32K 0s 109ms\n",
            "Write merged clustering\n",
            "[=================================================================] 100.00% 19.81K 0s 124ms\n",
            "Time for merging to clu_redundancy: 0h 0m 0s 1ms\n",
            "Time for processing: 0h 0m 0s 145ms\n",
            "createsubdb tmp/4784593232269356729/clu_redundancy peptides_DB tmp/4784593232269356729/input_step_redundancy -v 3 --subdb-mode 1 \n",
            "\n",
            "Time for merging to input_step_redundancy: 0h 0m 0s 0ms\n",
            "Time for processing: 0h 0m 0s 2ms\n",
            "prefilter tmp/4784593232269356729/input_step_redundancy tmp/4784593232269356729/input_step_redundancy tmp/4784593232269356729/pref_step0 --sub-mat 'aa:blosum62.out,nucl:nucleotide.out' --seed-sub-mat 'aa:VTML80.out,nucl:nucleotide.out' -s 1 -k 0 --target-search-mode 0 --k-score seq:2147483647,prof:2147483647 --alph-size aa:21,nucl:5 --max-seq-len 65535 --max-seqs 20 --split 0 --split-mode 2 --split-memory-limit 0 -c 0.8 --cov-mode 0 --comp-bias-corr 0 --comp-bias-corr-scale 1 --diag-score 0 --exact-kmer-matching 0 --mask 1 --mask-prob 0.9 --mask-lower-case 0 --min-ungapped-score 0 --add-self-matches 0 --spaced-kmer-mode 1 --db-load-mode 0 --pca substitution:1.100,context:1.400 --pcb substitution:4.100,context:5.800 --threads 2 --compressed 0 -v 3 \n",
            "\n",
            "Query database size: 6323 type: Aminoacid\n",
            "Estimated memory consumption: 979M\n",
            "Target database size: 6323 type: Aminoacid\n",
            "Index table k-mer threshold: 154 at k-mer size 6 \n",
            "Index table: counting k-mers\n",
            "[=================================================================] 100.00% 6.32K 0s 32ms\n",
            "Index table: Masked residues: 780\n",
            "Index table: fill\n",
            "[=================================================================] 100.00% 6.32K 0s 5ms\n",
            "Index statistics\n",
            "Entries:          14987\n",
            "DB size:          488 MB\n",
            "Avg k-mer size:   0.000234\n",
            "Top 10 k-mers\n",
            "    HKLRQE\t73\n",
            "    RHIHLQ\t50\n",
            "    GLPFKS\t28\n",
            "    TFIERK\t20\n",
            "    TEHIRL\t20\n",
            "    FYTLEY\t20\n",
            "    GKYTIQ\t19\n",
            "    QEFKKR\t17\n",
            "    TGVKRY\t17\n",
            "    QREYNR\t11\n",
            "Time for index table init: 0h 0m 2s 156ms\n",
            "Process prefiltering step 1 of 1\n",
            "\n",
            "k-mer similarity threshold: 154\n",
            "Starting prefiltering scores calculation (step 1 of 1)\n",
            "Query db start 1 to 6323\n",
            "Target db start 1 to 6323\n",
            "[=================================================================] 100.00% 6.32K 0s 39ms\n",
            "\n",
            "0.574483 k-mers per position\n",
            "6 DB matches per sequence\n",
            "0 overflows\n",
            "1 sequences passed prefiltering per query sequence\n",
            "1 median result list length\n",
            "0 sequences with 0 size result lists\n",
            "Time for merging to pref_step0: 0h 0m 0s 108ms\n",
            "Time for processing: 0h 0m 5s 977ms\n",
            "align tmp/4784593232269356729/input_step_redundancy tmp/4784593232269356729/input_step_redundancy tmp/4784593232269356729/pref_step0 tmp/4784593232269356729/aln_step0 --sub-mat 'aa:blosum62.out,nucl:nucleotide.out' -a 0 --alignment-mode 3 --alignment-output-mode 0 --wrapped-scoring 0 -e 0.001 --min-seq-id 0.5 --min-aln-len 0 --seq-id-mode 0 --alt-ali 0 -c 0.8 --cov-mode 0 --max-seq-len 65535 --comp-bias-corr 0 --comp-bias-corr-scale 1 --max-rejected 2147483647 --max-accept 2147483647 --add-self-matches 0 --db-load-mode 0 --pca substitution:1.100,context:1.400 --pcb substitution:4.100,context:5.800 --score-bias 0 --realign 0 --realign-score-bias -0.2 --realign-max-seqs 2147483647 --corr-score-weight 0 --gap-open aa:11,nucl:5 --gap-extend aa:1,nucl:2 --zdrop 40 --threads 2 --compressed 0 -v 3 \n",
            "\n",
            "Compute score, coverage and sequence identity\n",
            "Query database size: 6323 type: Aminoacid\n",
            "Target database size: 6323 type: Aminoacid\n",
            "Calculation of alignments\n",
            "[=================================================================] 100.00% 6.32K 0s 160ms\n",
            "Time for merging to aln_step0: 0h 0m 0s 64ms\n",
            "9545 alignments calculated\n",
            "8957 sequence pairs passed the thresholds (0.938397 of overall calculated)\n",
            "1.416574 hits per query sequence\n",
            "Time for processing: 0h 0m 0s 375ms\n",
            "clust tmp/4784593232269356729/input_step_redundancy tmp/4784593232269356729/aln_step0 tmp/4784593232269356729/clu_step0 --cluster-mode 0 --max-iterations 1000 --similarity-type 2 --threads 2 --compressed 0 -v 3 --cluster-weight-threshold 0.9 \n",
            "\n",
            "Clustering mode: Set Cover\n",
            "[=================================================================] 100.00% 6.32K 0s 9ms\n",
            "Sort entries\n",
            "Find missing connections\n",
            "Found 244 new connections.\n",
            "Reconstruct initial order\n",
            "[=================================================================] 100.00% 6.32K 0s 72ms\n",
            "Add missing connections\n",
            "[=================================================================] 100.00% 6.32K 0s 3ms\n",
            "\n",
            "Time for read in: 0h 0m 0s 106ms\n",
            "Total time: 0h 0m 0s 201ms\n",
            "\n",
            "Size of the sequence database: 6323\n",
            "Size of the alignment database: 6323\n",
            "Number of clusters: 5849\n",
            "\n",
            "Writing results 0h 0m 0s 1ms\n",
            "Time for merging to clu_step0: 0h 0m 0s 0ms\n",
            "Time for processing: 0h 0m 0s 237ms\n",
            "createsubdb tmp/4784593232269356729/clu_step0 tmp/4784593232269356729/input_step_redundancy tmp/4784593232269356729/input_step1 -v 3 --subdb-mode 1 \n",
            "\n",
            "Time for merging to input_step1: 0h 0m 0s 0ms\n",
            "Time for processing: 0h 0m 0s 17ms\n",
            "prefilter tmp/4784593232269356729/input_step1 tmp/4784593232269356729/input_step1 tmp/4784593232269356729/pref_step1 --sub-mat 'aa:blosum62.out,nucl:nucleotide.out' --seed-sub-mat 'aa:VTML80.out,nucl:nucleotide.out' -s 2 -k 0 --target-search-mode 0 --k-score seq:2147483647,prof:2147483647 --alph-size aa:21,nucl:5 --max-seq-len 65535 --max-seqs 20 --split 0 --split-mode 2 --split-memory-limit 0 -c 0.8 --cov-mode 0 --comp-bias-corr 1 --comp-bias-corr-scale 1 --diag-score 1 --exact-kmer-matching 0 --mask 1 --mask-prob 0.9 --mask-lower-case 0 --min-ungapped-score 15 --add-self-matches 0 --spaced-kmer-mode 1 --db-load-mode 0 --pca substitution:1.100,context:1.400 --pcb substitution:4.100,context:5.800 --threads 2 --compressed 0 -v 3 \n",
            "\n",
            "Query database size: 5849 type: Aminoacid\n",
            "Estimated memory consumption: 979M\n",
            "Target database size: 5849 type: Aminoacid\n",
            "Index table k-mer threshold: 145 at k-mer size 6 \n",
            "Index table: counting k-mers\n",
            "[=================================================================] 100.00% 5.85K 0s 16ms\n",
            "Index table: Masked residues: 774\n",
            "Index table: fill\n",
            "[=================================================================] 100.00% 5.85K 0s 8ms\n",
            "Index statistics\n",
            "Entries:          19238\n",
            "DB size:          488 MB\n",
            "Avg k-mer size:   0.000301\n",
            "Top 10 k-mers\n",
            "    HKLRQE\t30\n",
            "    NALYDK\t20\n",
            "    HKVLTT\t15\n",
            "    ARSGAP\t11\n",
            "    APTGKP\t8\n",
            "    ETAKRQ\t8\n",
            "    NMLARK\t6\n",
            "    SGGGGL\t6\n",
            "    PAGVPH\t5\n",
            "    TFDWLP\t5\n",
            "Time for index table init: 0h 0m 1s 20ms\n",
            "Process prefiltering step 1 of 1\n",
            "\n",
            "k-mer similarity threshold: 145\n",
            "Starting prefiltering scores calculation (step 1 of 1)\n",
            "Query db start 1 to 5849\n",
            "Target db start 1 to 5849\n",
            "[=================================================================] 100.00% 5.85K 0s 747ms\n",
            "\n",
            "1.395574 k-mers per position\n",
            "3 DB matches per sequence\n",
            "0 overflows\n",
            "1 sequences passed prefiltering per query sequence\n",
            "1 median result list length\n",
            "0 sequences with 0 size result lists\n",
            "Time for merging to pref_step1: 0h 0m 0s 6ms\n",
            "Time for processing: 0h 0m 7s 341ms\n",
            "align tmp/4784593232269356729/input_step1 tmp/4784593232269356729/input_step1 tmp/4784593232269356729/pref_step1 tmp/4784593232269356729/aln_step1 --sub-mat 'aa:blosum62.out,nucl:nucleotide.out' -a 0 --alignment-mode 3 --alignment-output-mode 0 --wrapped-scoring 0 -e 0.001 --min-seq-id 0.5 --min-aln-len 0 --seq-id-mode 0 --alt-ali 0 -c 0.8 --cov-mode 0 --max-seq-len 65535 --comp-bias-corr 1 --comp-bias-corr-scale 1 --max-rejected 2147483647 --max-accept 2147483647 --add-self-matches 0 --db-load-mode 0 --pca substitution:1.100,context:1.400 --pcb substitution:4.100,context:5.800 --score-bias 0 --realign 0 --realign-score-bias -0.2 --realign-max-seqs 2147483647 --corr-score-weight 0 --gap-open aa:11,nucl:5 --gap-extend aa:1,nucl:2 --zdrop 40 --threads 2 --compressed 0 -v 3 \n",
            "\n",
            "Compute score, coverage and sequence identity\n",
            "Query database size: 5849 type: Aminoacid\n",
            "Target database size: 5849 type: Aminoacid\n",
            "Calculation of alignments\n",
            "[=================================================================] 100.00% 5.85K 0s 50ms\n",
            "Time for merging to aln_step1: 0h 0m 0s 8ms\n",
            "6335 alignments calculated\n",
            "6015 sequence pairs passed the thresholds (0.949487 of overall calculated)\n",
            "1.028381 hits per query sequence\n",
            "Time for processing: 0h 0m 0s 172ms\n",
            "clust tmp/4784593232269356729/input_step1 tmp/4784593232269356729/aln_step1 tmp/4784593232269356729/clu_step1 --cluster-mode 0 --max-iterations 1000 --similarity-type 2 --threads 2 --compressed 0 -v 3 --cluster-weight-threshold 0.9 \n",
            "\n",
            "Clustering mode: Set Cover\n",
            "[=================================================================] 100.00% 5.85K 0s 9ms\n",
            "Sort entries\n",
            "Find missing connections\n",
            "Found 64 new connections.\n",
            "Reconstruct initial order\n",
            "[=================================================================] 100.00% 5.85K 0s 54ms\n",
            "Add missing connections\n",
            "[=================================================================] 100.00% 5.85K 0s 4ms\n",
            "\n",
            "Time for read in: 0h 0m 0s 133ms\n",
            "Total time: 0h 0m 0s 187ms\n",
            "\n",
            "Size of the sequence database: 5849\n",
            "Size of the alignment database: 5849\n",
            "Number of clusters: 5773\n",
            "\n",
            "Writing results 0h 0m 0s 3ms\n",
            "Time for merging to clu_step1: 0h 0m 0s 0ms\n",
            "Time for processing: 0h 0m 0s 259ms\n",
            "createsubdb tmp/4784593232269356729/clu_step1 tmp/4784593232269356729/input_step1 tmp/4784593232269356729/input_step2 -v 3 --subdb-mode 1 \n",
            "\n",
            "Time for merging to input_step2: 0h 0m 0s 0ms\n",
            "Time for processing: 0h 0m 0s 3ms\n",
            "prefilter tmp/4784593232269356729/input_step2 tmp/4784593232269356729/input_step2 tmp/4784593232269356729/pref_step2 --sub-mat 'aa:blosum62.out,nucl:nucleotide.out' --seed-sub-mat 'aa:VTML80.out,nucl:nucleotide.out' -s 3 -k 0 --target-search-mode 0 --k-score seq:2147483647,prof:2147483647 --alph-size aa:21,nucl:5 --max-seq-len 65535 --max-seqs 20 --split 0 --split-mode 2 --split-memory-limit 0 -c 0.8 --cov-mode 0 --comp-bias-corr 1 --comp-bias-corr-scale 1 --diag-score 1 --exact-kmer-matching 0 --mask 1 --mask-prob 0.9 --mask-lower-case 0 --min-ungapped-score 15 --add-self-matches 0 --spaced-kmer-mode 1 --db-load-mode 0 --pca substitution:1.100,context:1.400 --pcb substitution:4.100,context:5.800 --threads 2 --compressed 0 -v 3 \n",
            "\n",
            "Query database size: 5773 type: Aminoacid\n",
            "Estimated memory consumption: 979M\n",
            "Target database size: 5773 type: Aminoacid\n",
            "Index table k-mer threshold: 136 at k-mer size 6 \n",
            "Index table: counting k-mers\n",
            "[=================================================================] 100.00% 5.77K 0s 27ms\n",
            "Index table: Masked residues: 774\n",
            "Index table: fill\n",
            "[=================================================================] 100.00% 5.77K 0s 30ms\n",
            "Index statistics\n",
            "Entries:          24902\n",
            "DB size:          488 MB\n",
            "Avg k-mer size:   0.000389\n",
            "Top 10 k-mers\n",
            "    HKLRQE\t27\n",
            "    RTQAST\t19\n",
            "    HKVLTT\t15\n",
            "    ARSGAP\t11\n",
            "    APTGKP\t8\n",
            "    ETAKRQ\t8\n",
            "    TRLEAS\t8\n",
            "    SLNIST\t7\n",
            "    NNKSIV\t7\n",
            "    LANKTV\t7\n",
            "Time for index table init: 0h 0m 1s 892ms\n",
            "Process prefiltering step 1 of 1\n",
            "\n",
            "k-mer similarity threshold: 136\n",
            "Starting prefiltering scores calculation (step 1 of 1)\n",
            "Query db start 1 to 5773\n",
            "Target db start 1 to 5773\n",
            "[=================================================================] 100.00% 5.77K 1s 261ms\n",
            "\n",
            "3.960162 k-mers per position\n",
            "4 DB matches per sequence\n",
            "0 overflows\n",
            "1 sequences passed prefiltering per query sequence\n",
            "1 median result list length\n",
            "0 sequences with 0 size result lists\n",
            "Time for merging to pref_step2: 0h 0m 0s 54ms\n",
            "Time for processing: 0h 0m 8s 362ms\n",
            "align tmp/4784593232269356729/input_step2 tmp/4784593232269356729/input_step2 tmp/4784593232269356729/pref_step2 tmp/4784593232269356729/aln_step2 --sub-mat 'aa:blosum62.out,nucl:nucleotide.out' -a 0 --alignment-mode 3 --alignment-output-mode 0 --wrapped-scoring 0 -e 0.001 --min-seq-id 0.5 --min-aln-len 0 --seq-id-mode 0 --alt-ali 0 -c 0.8 --cov-mode 0 --max-seq-len 65535 --comp-bias-corr 1 --comp-bias-corr-scale 1 --max-rejected 2147483647 --max-accept 2147483647 --add-self-matches 0 --db-load-mode 0 --pca substitution:1.100,context:1.400 --pcb substitution:4.100,context:5.800 --score-bias 0 --realign 0 --realign-score-bias -0.2 --realign-max-seqs 2147483647 --corr-score-weight 0 --gap-open aa:11,nucl:5 --gap-extend aa:1,nucl:2 --zdrop 40 --threads 2 --compressed 0 -v 3 \n",
            "\n",
            "Compute score, coverage and sequence identity\n",
            "Query database size: 5773 type: Aminoacid\n",
            "Target database size: 5773 type: Aminoacid\n",
            "Calculation of alignments\n",
            "[=================================================================] 100.00% 5.77K 0s 108ms\n",
            "Time for merging to aln_step2: 0h 0m 0s 71ms\n",
            "6162 alignments calculated\n",
            "5872 sequence pairs passed the thresholds (0.952937 of overall calculated)\n",
            "1.017149 hits per query sequence\n",
            "Time for processing: 0h 0m 0s 219ms\n",
            "clust tmp/4784593232269356729/input_step2 tmp/4784593232269356729/aln_step2 tmp/4784593232269356729/clu_step2 --cluster-mode 0 --max-iterations 1000 --similarity-type 2 --threads 2 --compressed 0 -v 3 --cluster-weight-threshold 0.9 \n",
            "\n",
            "Clustering mode: Set Cover\n",
            "[=================================================================] 100.00% 5.77K 0s 24ms\n",
            "Sort entries\n",
            "Find missing connections\n",
            "Found 27 new connections.\n",
            "Reconstruct initial order\n",
            "[=================================================================] 100.00% 5.77K 0s 21ms\n",
            "Add missing connections\n",
            "[=================================================================] 100.00% 5.77K 0s 0ms\n",
            "\n",
            "Time for read in: 0h 0m 0s 71ms\n",
            "Total time: 0h 0m 0s 120ms\n",
            "\n",
            "Size of the sequence database: 5773\n",
            "Size of the alignment database: 5773\n",
            "Number of clusters: 5715\n",
            "\n",
            "Writing results 0h 0m 0s 6ms\n",
            "Time for merging to clu_step2: 0h 0m 0s 0ms\n",
            "Time for processing: 0h 0m 0s 168ms\n",
            "mergeclusters peptides_DB cluster_res tmp/4784593232269356729/clu_redundancy tmp/4784593232269356729/clu_step0 tmp/4784593232269356729/clu_step1 tmp/4784593232269356729/clu_step2 --threads 2 --compressed 0 -v 3 \n",
            "\n",
            "Clustering step 1\n",
            "[=================================================================] 100.00% 6.32K 0s 29ms\n",
            "Clustering step 2\n",
            "[=================================================================] 100.00% 5.85K 0s 37ms\n",
            "Clustering step 3\n",
            "[=================================================================] 100.00% 5.77K 0s 131ms\n",
            "Clustering step 4\n",
            "[=================================================================] 100.00% 5.72K 0s 146ms\n",
            "Write merged clustering\n",
            "[=================================================================] 100.00% 19.81K 0s 239ms\n",
            "Time for merging to cluster_res: 0h 0m 0s 49ms\n",
            "Time for processing: 0h 0m 0s 331ms\n",
            "createtsv peptides_DB peptides_DB cluster_res cluster_res.tsv \n",
            "\n",
            "MMseqs Version:                 \tbb0a1b3569b9fe115f3bf63e5ba1da234748de23\n",
            "First sequence as representative\tfalse\n",
            "Target column                   \t1\n",
            "Add full header                 \tfalse\n",
            "Sequence source                 \t0\n",
            "Database output                 \tfalse\n",
            "Threads                         \t2\n",
            "Compressed                      \t0\n",
            "Verbosity                       \t3\n",
            "\n",
            "Time for merging to cluster_res.tsv: 0h 0m 0s 40ms\n",
            "Time for processing: 0h 0m 0s 176ms\n"
          ]
        }
      ],
      "source": [
        "import os\n",
        "import glob\n",
        "from Bio import SeqIO\n",
        "\n",
        "for filename in glob.glob('*cluster_res*'):\n",
        "  try:\n",
        "    os.remove(filename)\n",
        "    print(f'Deleted: {filename}')\n",
        "  except OSError as e:\n",
        "    print(f'Error: {filename} : {e.strerror}')\n",
        "\n",
        "# creating a database from the peptide fasta file\n",
        "!mmseqs createdb peptide.fasta peptides_DB\n",
        "\n",
        "# clustering the sequences\n",
        "!mmseqs cluster peptides_DB cluster_res tmp --min-seq-id 0.5\n",
        "\n",
        "# convert cluster results to flat file format\n",
        "!mmseqs createtsv peptides_DB peptides_DB cluster_res cluster_res.tsv\n",
        "\n",
        "peptide_to_cluster = {}\n",
        "cluster_list = []\n",
        "with open('cluster_res.tsv', 'r') as f:\n",
        "  for line in f:\n",
        "    cluster_id, peptide_id = line.strip().split('\\t')\n",
        "    peptide_to_cluster[peptide_id] = cluster_id\n",
        "    cluster_list.append(cluster_id)\n",
        "\n",
        "# creating a list of cluster indices for peptides in original order\n",
        "cluster_indices = []\n",
        "peptides = list(SeqIO.parse('peptide.fasta', 'fasta'))\n",
        "for peptide in peptides:\n",
        "  cluster_indices.append(cluster_list.index(peptide_to_cluster[peptide.id]))"
      ],
      "id": "MRYyHIPdG6pv"
    },
    {
      "cell_type": "code",
      "execution_count": null,
      "metadata": {
        "colab": {
          "base_uri": "https://localhost:8080/",
          "height": 510
        },
        "id": "WXeYkTRnIm-0",
        "outputId": "86819595-1d15-4856-92e1-88ade7de251b"
      },
      "outputs": [
        {
          "output_type": "stream",
          "name": "stdout",
          "text": [
            "[389, 328, 302, 212, 201, 200, 189, 182, 181, 176, 176, 168, 165, 130, 124, 116, 115, 101, 94, 92, 84, 81, 80, 76, 74, 71, 70, 60, 59, 57, 54, 50, 48, 48, 48, 47, 45, 45, 44, 44, 42, 41, 41, 41, 41, 38, 38, 37, 36, 36, 35, 34, 34, 32, 32, 31, 31, 30, 30, 30, 30, 30, 30, 29, 28, 28, 28, 27, 26, 26, 25, 25, 24, 24, 24, 24, 23, 23, 23, 23, 22, 22, 22, 22, 22, 21, 21, 21, 21, 20, 20, 20, 20, 20, 20, 20, 19, 19, 19, 19, 19, 19, 18, 18, 18, 18, 18, 18, 18, 18, 18, 18, 18, 17, 17, 17, 17, 17, 16, 16, 16, 16, 16, 16, 16, 16, 16, 16, 16, 16, 15, 15, 15, 15, 15, 15, 15, 15, 15, 15, 15, 15, 15, 14, 14, 14, 14, 14, 14, 14, 14, 14, 14, 14, 14, 14, 13, 13, 13, 13, 13, 13, 13, 13, 13, 13, 13, 13, 13, 12, 12, 12, 12, 12, 12, 12, 12, 12, 12, 12, 12, 12, 12, 12, 12, 12, 12, 12, 12, 12, 12, 12, 12, 12, 12, 12, 12, 12, 12, 12, 12, 11, 11, 11, 11, 11, 11, 11, 11, 11, 11, 11, 11, 11, 11, 11, 11, 11, 11, 11, 11, 11, 11, 11, 11, 10, 10, 10, 10, 10, 10, 10, 10, 10, 10, 10, 10, 10, 10, 10, 10, 10, 10, 10, 10, 10, 10, 10, 10, 10, 10, 10, 10, 10, 10, 10, 10, 10, 10, 10, 10, 10, 10, 10, 10, 10, 10, 10, 10, 10, 9, 9, 9, 9, 9, 9, 9, 9, 9, 9, 9, 9, 9, 9, 9, 9, 9, 9, 9, 9, 9, 9, 9, 9, 9, 9, 9, 9, 9, 9, 8, 8, 8, 8, 8, 8, 8, 8, 8, 8, 8, 8, 8, 8, 8, 8, 8, 8, 8, 8, 8, 8, 8, 8, 8, 8, 8, 8, 8, 8, 8, 8, 8, 8, 8, 8, 8, 8, 8, 8, 8, 8, 8, 8, 8, 8, 8, 8, 8, 8, 8, 8, 8, 8, 8, 8, 8, 8, 8, 8, 8, 8, 8, 8, 8, 8, 8, 8, 8, 8, 8, 8, 8, 8, 8, 8, 8, 8, 8, 8, 8, 8, 8, 8, 8, 8, 7, 7, 7, 7, 7, 7, 7, 7, 7, 7, 7, 7, 7, 7, 7, 7, 7, 7, 7, 7, 7, 7, 7, 7, 7, 7, 7, 7, 7, 7, 7, 7, 7, 7, 7, 7, 7, 7, 7, 7, 7, 7, 7, 7, 7, 7, 7, 7, 7, 7, 7, 7, 7, 7, 7, 7, 7, 7, 7, 7, 7, 7, 7, 7, 7, 7, 7, 7, 7, 7, 7, 7, 7, 7, 6, 6, 6, 6, 6, 6, 6, 6, 6, 6, 6, 6, 6, 6, 6, 6, 6, 6, 6, 6, 6, 6, 6, 6, 6, 6, 6, 6, 6, 6, 6, 6, 6, 6, 6, 6, 6, 6, 6, 6, 6, 6, 6, 6, 6, 6, 6, 6, 6, 6, 6, 6, 6, 6, 6, 6, 6, 6, 6, 6, 6, 6, 6, 6, 6, 6, 6, 6, 6, 6, 6, 6, 6, 6, 6, 6, 6, 6, 6, 6, 6, 6, 6, 6, 6, 6, 6, 6, 6, 6, 6, 6, 6, 6, 6, 6, 6, 6, 6, 6, 6, 6, 6, 6, 6, 6, 6, 6, 6, 6, 6, 6, 6, 6, 6, 6, 6, 6, 6, 6, 5, 5, 5, 5, 5, 5, 5, 5, 5, 5, 5, 5, 5, 5, 5, 5, 5, 5, 5, 5, 5, 5, 5, 5, 5, 5, 5, 5, 5, 5, 5, 5, 5, 5, 5, 5, 5, 5, 5, 5, 5, 5, 5, 5, 5, 5, 5, 5, 5, 5, 5, 5, 5, 5, 5, 5, 5, 5, 5, 5, 5, 5, 5, 5, 5, 5, 5, 5, 5, 5, 5, 5, 5, 5, 5, 5, 5, 5, 5, 5, 5, 5, 5, 5, 5, 5, 5, 5, 5, 5, 5, 5, 5, 5, 5, 5, 5, 5, 5, 5, 5, 5, 5, 5, 5, 5, 5, 5, 5, 5, 5, 5, 5, 5, 5, 5, 5, 4, 4, 4, 4, 4, 4, 4, 4, 4, 4, 4, 4, 4, 4, 4, 4, 4, 4, 4, 4, 4, 4, 4, 4, 4, 4, 4, 4, 4, 4, 4, 4, 4, 4, 4, 4, 4, 4, 4, 4, 4, 4, 4, 4, 4, 4, 4, 4, 4, 4, 4, 4, 4, 4, 4, 4, 4, 4, 4, 4, 4, 4, 4, 4, 4, 4, 4, 4, 4, 4, 4, 4, 4, 4, 4, 4, 4, 4, 4, 4, 4, 4, 4, 4, 4, 4, 4, 4, 4, 4, 4, 4, 4, 4, 4, 4, 4, 4, 4, 4, 4, 4, 4, 4, 4, 4, 4, 4, 4, 4, 4, 4, 4, 4, 4, 4, 4, 4, 4, 4, 4, 4, 4, 4, 4, 4, 4, 4, 4, 4, 4, 4, 4, 4, 4, 4, 4, 4, 4, 4, 4, 4, 4, 4, 4, 4, 4, 4, 4, 4, 4, 4, 4, 4, 4, 4, 4, 4, 4, 4, 4, 4, 4, 4, 4, 4, 4, 4, 4, 4, 4, 4, 4, 4, 4, 4, 4, 4, 4, 4, 4, 4, 4, 4, 4, 4, 4, 4, 4, 4, 4, 4, 4, 4, 4, 4, 4, 4, 4, 4, 4, 4, 4, 4, 4, 4, 4, 4, 4, 4, 4, 4, 4, 4, 4, 4, 4, 4, 4, 4, 4, 4, 4, 4, 4, 4, 4, 4, 4, 4, 4, 4, 4, 4, 4, 4, 4, 4, 4, 4, 4, 4, 4, 4, 4, 4, 4, 4, 4, 4, 4, 4, 4, 4, 4, 4, 4, 4, 4, 4, 4, 4, 4, 4, 4, 4, 4, 4, 4, 4, 4, 4, 4, 4, 4, 4, 4, 4, 4, 4, 4, 4, 4, 4, 4, 4, 4, 4, 4, 4, 4, 4, 4, 4, 4, 4, 4, 4, 4, 4, 4, 4, 4, 4, 4, 4, 4, 4, 4, 4, 4, 4, 4, 4, 4, 4, 4, 4, 4, 4, 4, 4, 4, 4, 4, 4, 4, 4, 4, 4, 4, 4, 4, 4, 4, 4, 4, 4, 4, 4, 4, 4, 4, 4, 4, 4, 4, 4, 4, 4, 4, 4, 4, 4, 4, 4, 4, 4, 4, 4, 4, 4, 4, 4, 4, 4, 4, 4, 4, 4, 4, 4, 4, 4, 4, 4, 4, 4, 4, 4, 4, 4, 4, 4, 4, 4, 4, 4, 4, 4, 4, 4, 4, 4, 4, 4, 4, 4, 4, 4, 4, 4, 4, 4, 4, 4, 4, 4, 4, 4, 4, 4, 4, 4, 4, 4, 4, 4, 4, 4, 4, 4, 4, 4, 4, 4, 4, 4, 4, 4, 4, 4, 4, 4, 4, 4, 4, 4, 4, 4, 4, 4, 4, 4, 4, 4, 4, 4, 4, 4, 4, 3, 3, 3, 3, 3, 3, 3, 3, 3, 3, 3, 3, 3, 3, 3, 3, 3, 3, 3, 3, 3, 3, 3, 3, 3, 3, 3, 3, 3, 3, 3, 3, 3, 3, 3, 3, 3, 3, 3, 3, 3, 3, 3, 3, 3, 3, 3, 3, 3, 3, 3, 3, 3, 3, 3, 3, 3, 3, 3, 3, 3, 3, 3, 3, 3, 3, 3, 3, 3, 3, 3, 3, 3, 3, 3, 3, 3, 3, 3, 3, 3, 3, 3, 3, 3, 3, 3, 3, 3, 3, 3, 3, 3, 3, 3, 3, 3, 3, 3, 3, 3, 3, 3, 3, 3, 3, 3, 3, 3, 3, 3, 3, 3, 3, 3, 3, 3, 3, 3, 3, 3, 3, 3, 3, 3, 3, 3, 3, 3, 3, 3, 3, 3, 3, 3, 3, 3, 3, 3, 3, 3, 3, 3, 3, 3, 3, 3, 3, 3, 3, 3, 3, 3, 3, 3, 3, 3, 3, 3, 3, 3, 3, 3, 3, 3, 3, 3, 3, 3, 3, 3, 3, 3, 3, 3, 3, 3, 3, 3, 3, 3, 3, 3, 3, 3, 3, 3, 3, 3, 3, 3, 3, 3, 3, 3, 3, 3, 3, 3, 3, 3, 3, 3, 3, 3, 3, 3, 3, 3, 3, 3, 3, 3, 3, 3, 3, 3, 3, 3, 3, 3, 3, 3, 3, 3, 3, 3, 3, 3, 3, 3, 3, 3, 3, 3, 3, 3, 3, 3, 3, 3, 3, 3, 3, 3, 3, 3, 3, 3, 3, 3, 3, 3, 3, 3, 3, 3, 3, 3, 3, 3, 3, 3, 3, 3, 3, 3, 3, 3, 3, 3, 3, 3, 3, 3, 3, 3, 3, 3, 3, 3, 3, 3, 3, 3, 3, 3, 3, 3, 3, 3, 3, 3, 3, 3, 3, 3, 3, 3, 3, 3, 3, 3, 3, 3, 3, 3, 3, 3, 3, 3, 3, 3, 3, 3, 3, 3, 3, 3, 3, 3, 3, 3, 3, 3, 3, 3, 3, 3, 3, 3, 3, 3, 3, 3, 3, 3, 3, 3, 3, 3, 3, 3, 3, 3, 3, 3, 3, 3, 3, 3, 3, 3, 3, 3, 3, 3, 3, 3, 3, 3, 3, 3, 3, 3, 3, 3, 3, 3, 3, 3, 3, 3, 3, 3, 3, 3, 2, 2, 2, 2, 2, 2, 2, 2, 2, 2, 2, 2, 2, 2, 2, 2, 2, 2, 2, 2, 2, 2, 2, 2, 2, 2, 2, 2, 2, 2, 2, 2, 2, 2, 2, 2, 2, 2, 2, 2, 2, 2, 2, 2, 2, 2, 2, 2, 2, 2, 2, 2, 2, 2, 2, 2, 2, 2, 2, 2, 2, 2, 2, 2, 2, 2, 2, 2, 2, 2, 2, 2, 2, 2, 2, 2, 2, 2, 2, 2, 2, 2, 2, 2, 2, 2, 2, 2, 2, 2, 2, 2, 2, 2, 2, 2, 2, 2, 2, 2, 2, 2, 2, 2, 2, 2, 2, 2, 2, 2, 2, 2, 2, 2, 2, 2, 2, 2, 2, 2, 2, 2, 2, 2, 2, 2, 2, 2, 2, 2, 2, 2, 2, 2, 2, 2, 2, 2, 2, 2, 2, 2, 2, 2, 2, 2, 2, 2, 2, 2, 2, 2, 2, 2, 2, 2, 2, 2, 2, 2, 2, 2, 2, 2, 2, 2, 2, 2, 2, 2, 2, 2, 2, 2, 2, 2, 2, 2, 2, 2, 2, 2, 2, 2, 2, 2, 2, 2, 2, 2, 2, 2, 2, 2, 2, 2, 2, 2, 2, 2, 2, 2, 2, 2, 2, 2, 2, 2, 2, 2, 2, 2, 2, 2, 2, 2, 2, 2, 2, 2, 2, 2, 2, 2, 2, 2, 2, 2, 2, 2, 2, 2, 2, 2, 2, 2, 2, 2, 2, 2, 2, 2, 2, 2, 2, 2, 2, 2, 2, 2, 2, 2, 2, 2, 2, 2, 2, 2, 2, 2, 2, 2, 2, 2, 2, 2, 2, 2, 2, 2, 2, 2, 2, 2, 2, 2, 2, 2, 2, 2, 2, 2, 2, 2, 2, 2, 2, 2, 2, 2, 2, 2, 2, 2, 2, 2, 2, 2, 2, 2, 2, 2, 2, 2, 2, 2, 2, 2, 2, 2, 2, 2, 2, 2, 2, 2, 2, 2, 2, 2, 2, 2, 2, 2, 2, 2, 2, 2, 2, 2, 2, 2, 2, 2, 2, 2, 2, 2, 2, 2, 2, 2, 2, 2, 2, 2, 2, 2, 2, 2, 2, 2, 2, 2, 2, 2, 2, 2, 2, 2, 2, 2, 2, 2, 2, 2, 2, 2, 2, 2, 2, 2, 2, 2, 2, 2, 2, 2, 2, 2, 2, 2, 2, 2, 2, 2, 2, 2, 2, 2, 2, 2, 2, 2, 2, 2, 2, 2, 2, 2, 2, 2, 2, 2, 2, 2, 2, 2, 2, 2, 2, 2, 2, 2, 2, 2, 2, 2, 2, 2, 2, 2, 2, 2, 2, 2, 2, 2, 2, 2, 2, 2, 2, 2, 2, 2, 2, 2, 2, 2, 2, 2, 2, 2, 2, 2, 2, 2, 2, 2, 2, 2, 2, 2, 2, 2, 2, 2, 2, 2, 2, 2, 2, 2, 2, 2, 2, 2, 2, 2, 2, 2, 2, 2, 2, 2, 2, 2, 2, 2, 2, 2, 2, 2, 2, 2, 2, 2, 2, 2, 2, 2, 2, 2, 2, 2, 2, 2, 2, 2, 2, 2, 2, 2, 2, 2, 2, 2, 2, 2, 2, 2, 2, 2, 2, 2, 2, 2, 2, 2, 2, 2, 2, 2, 2, 2, 2, 2, 2, 2, 2, 2, 2, 2, 2, 2, 2, 2, 2, 2, 2, 2, 2, 2, 2, 2, 2, 2, 2, 2, 2, 2, 2, 2, 2, 2, 2, 2, 2, 2, 2, 2, 2, 2, 2, 2, 2, 2, 2, 2, 2, 2, 2, 2, 2, 2, 2, 2, 2, 2, 2, 2, 2, 2, 2, 2, 2, 2, 2, 2, 2, 2, 2, 2, 2, 2, 2, 2, 2, 2, 2, 2, 2, 2, 2, 2, 2, 2, 2, 2, 2, 2, 2, 2, 2, 2, 2, 2, 2, 2, 2, 2, 2, 2, 2, 2, 2, 2, 2, 2, 2, 2, 2, 2, 2, 2, 2, 2, 2, 2, 2, 2, 2, 2, 2, 2, 2, 2, 2, 2, 2, 2, 2, 2, 2, 2, 2, 2, 2, 2, 2, 2, 2, 2, 2, 2, 2, 2, 2, 2, 2, 2, 2, 2, 2, 2, 2, 2, 2, 2, 2, 2, 2, 2, 2, 2, 2, 2, 2, 2, 2, 2, 2, 2, 2, 2, 2, 2, 2, 2, 2, 2, 2, 2, 2, 2, 2, 2, 2, 2, 2, 2, 2, 2, 2, 2, 2, 2, 2, 2, 2, 2, 2, 2, 2, 2, 2, 2, 2, 2, 2, 2, 2, 2, 2, 2, 2, 2, 2, 2, 2, 2, 2, 2, 2, 2, 2, 2, 2, 2, 2, 2, 2, 2, 2, 2, 2, 2, 2, 2, 2, 2, 2, 2, 2, 2, 2, 2, 2, 2, 2, 2, 2, 2, 2, 2, 2, 2, 2, 2, 2, 2, 2, 2, 2, 2, 2, 2, 2, 2, 2, 2, 2, 2, 2, 2, 2, 2, 2, 2, 2, 2, 2, 2, 2, 2, 2, 2, 2, 2, 2, 2, 2, 2, 2, 2, 2, 2, 2, 2, 2, 2, 2, 2, 2, 2, 2, 2, 2, 2, 2, 2, 2, 2, 2, 2, 2, 2, 2, 2, 2, 2, 2, 2, 2, 2, 2, 2, 2, 2, 2, 2, 2, 2, 2, 2, 2, 2, 2, 2, 2, 2, 2, 2, 2, 2, 2, 2, 2, 2, 2, 2, 2, 2, 2, 2, 2, 2, 2, 2, 2, 2, 2, 2, 2, 2, 2, 2, 2, 2, 2, 2, 2, 2, 2, 2, 2, 2, 2, 2, 2, 2, 2, 2, 2, 2, 2, 2, 2, 2, 2, 2, 2, 2, 2, 2, 2, 2, 2, 2, 2, 2, 2, 2, 2, 2, 2, 2, 2, 2, 2, 2, 2, 2, 2, 2, 2, 2, 2, 2, 2, 2, 2, 2, 2, 2, 2, 2, 2, 2, 2, 2, 2, 2, 2, 2, 2, 2, 2, 2, 2, 2, 2, 2, 2, 2, 2, 2, 2, 2, 2, 2, 2, 2, 2, 2, 2, 2, 2, 2, 2, 2, 2, 2, 2, 2, 2, 2, 2, 2, 2, 2, 2, 2, 2, 2, 2, 2, 2, 2, 2, 2, 2, 2, 2, 2, 2, 2, 2, 2, 2, 2, 2, 2, 2, 2, 2, 2, 2, 2, 2, 2, 2, 2, 2, 2, 2, 2, 2, 2, 2, 2, 2, 2, 2, 2, 2, 2, 2, 2, 2, 2, 2, 2, 2, 2, 2, 2, 2, 2, 2, 2, 2, 2, 2, 2, 2, 2, 2, 2, 2, 2, 2, 2, 2, 2, 2, 2, 2, 2, 2, 2, 2, 2, 2, 2, 2, 2, 2, 2, 2, 2, 2, 2, 2, 2, 2, 2, 2, 2, 2, 2, 2, 2, 2, 2, 2, 2, 2, 2, 2, 2, 2, 2, 2, 2, 2, 2, 2, 2, 2, 2, 2, 2, 2, 2, 2, 2, 2, 2, 2, 2, 2, 2, 2, 2, 2, 2, 2, 2, 2, 2, 2, 2, 2, 2, 2, 2, 2, 2, 2, 2, 2, 2, 2, 2, 2, 2, 2, 2, 2, 2, 2, 2, 2, 2, 2, 2, 2, 2, 2, 2, 2, 2, 2, 2, 2, 2, 2, 2, 2, 2, 2, 2, 2, 2, 2, 2, 2, 2, 2, 2, 2, 2, 2, 2, 2, 2, 2, 2, 2, 2, 2, 2, 2, 2, 2, 2, 2, 2, 2, 2, 2, 2, 2, 2, 2, 2, 2, 2, 2, 2, 2, 2, 2, 2, 2, 2, 2, 2, 2, 2, 2, 2, 2, 2, 2, 2, 2, 2, 2, 2, 2, 2, 2, 2, 2, 2, 2, 2, 2, 2, 2, 2, 2, 2, 2, 2, 2, 2, 2, 2, 2, 2, 2, 2, 2, 2, 2, 2, 2, 2, 2, 2, 2, 2, 2, 2, 2, 2, 2, 2, 2, 2, 2, 2, 2, 2, 2, 2, 2, 2, 2, 2, 1, 1, 1, 1, 1, 1, 1, 1, 1, 1, 1, 1, 1, 1, 1, 1, 1, 1, 1, 1, 1, 1, 1, 1, 1, 1, 1, 1, 1, 1, 1, 1, 1, 1, 1, 1, 1, 1, 1, 1, 1, 1, 1, 1, 1, 1, 1, 1, 1, 1, 1, 1, 1, 1, 1, 1, 1, 1, 1, 1, 1, 1, 1, 1, 1, 1, 1, 1, 1, 1, 1, 1, 1, 1, 1, 1, 1, 1, 1, 1, 1, 1, 1, 1, 1, 1, 1, 1, 1, 1, 1, 1, 1, 1, 1, 1, 1, 1, 1, 1, 1, 1, 1, 1, 1, 1, 1, 1, 1, 1, 1, 1, 1, 1, 1, 1, 1, 1, 1, 1, 1, 1, 1, 1, 1, 1, 1, 1, 1, 1, 1, 1, 1, 1, 1, 1, 1, 1, 1, 1, 1, 1, 1, 1, 1, 1, 1, 1, 1, 1, 1, 1, 1, 1, 1, 1, 1, 1, 1, 1, 1, 1, 1, 1, 1, 1, 1, 1, 1, 1, 1, 1, 1, 1, 1, 1, 1, 1, 1, 1, 1, 1, 1, 1, 1, 1, 1, 1, 1, 1, 1, 1, 1, 1, 1, 1, 1, 1, 1, 1, 1, 1, 1, 1, 1, 1, 1, 1, 1, 1, 1, 1, 1, 1, 1, 1, 1, 1, 1, 1, 1, 1, 1, 1, 1, 1, 1, 1, 1, 1, 1, 1, 1, 1, 1, 1, 1, 1, 1, 1, 1, 1, 1, 1, 1, 1, 1, 1, 1, 1, 1, 1, 1, 1, 1, 1, 1, 1, 1, 1, 1, 1, 1, 1, 1, 1, 1, 1, 1, 1, 1, 1, 1, 1, 1, 1, 1, 1, 1, 1, 1, 1, 1, 1, 1, 1, 1, 1, 1, 1, 1, 1, 1, 1, 1, 1, 1, 1, 1, 1, 1, 1, 1, 1, 1, 1, 1, 1, 1, 1, 1, 1, 1, 1, 1, 1, 1, 1, 1, 1, 1, 1, 1, 1, 1, 1, 1, 1, 1, 1, 1, 1, 1, 1, 1, 1, 1, 1, 1, 1, 1, 1, 1, 1, 1, 1, 1, 1, 1, 1, 1, 1, 1, 1, 1, 1, 1, 1, 1, 1, 1, 1, 1, 1, 1, 1, 1, 1, 1, 1, 1, 1, 1, 1, 1, 1, 1, 1, 1, 1, 1, 1, 1, 1, 1, 1, 1, 1, 1, 1, 1, 1, 1, 1, 1, 1, 1, 1, 1, 1, 1, 1, 1, 1, 1, 1, 1, 1, 1, 1, 1, 1, 1, 1, 1, 1, 1, 1, 1, 1, 1, 1, 1, 1, 1, 1, 1, 1, 1, 1, 1, 1, 1, 1, 1, 1, 1, 1, 1, 1, 1, 1, 1, 1, 1, 1, 1, 1, 1, 1, 1, 1, 1, 1, 1, 1, 1, 1, 1, 1, 1, 1, 1, 1, 1, 1, 1, 1, 1, 1, 1, 1, 1, 1, 1, 1, 1, 1, 1, 1, 1, 1, 1, 1, 1, 1, 1, 1, 1, 1, 1, 1, 1, 1, 1, 1, 1, 1, 1, 1, 1, 1, 1, 1, 1, 1, 1, 1, 1, 1, 1, 1, 1, 1, 1, 1, 1, 1, 1, 1, 1, 1, 1, 1, 1, 1, 1, 1, 1, 1, 1, 1, 1, 1, 1, 1, 1, 1, 1, 1, 1, 1, 1, 1, 1, 1, 1, 1, 1, 1, 1, 1, 1, 1, 1, 1, 1, 1, 1, 1, 1, 1, 1, 1, 1, 1, 1, 1, 1, 1, 1, 1, 1, 1, 1, 1, 1, 1, 1, 1, 1, 1, 1, 1, 1, 1, 1, 1, 1, 1, 1, 1, 1, 1, 1, 1, 1, 1, 1, 1, 1, 1, 1, 1, 1, 1, 1, 1, 1, 1, 1, 1, 1, 1, 1, 1, 1, 1, 1, 1, 1, 1, 1, 1, 1, 1, 1, 1, 1, 1, 1, 1, 1, 1, 1, 1, 1, 1, 1, 1, 1, 1, 1, 1, 1, 1, 1, 1, 1, 1, 1, 1, 1, 1, 1, 1, 1, 1, 1, 1, 1, 1, 1, 1, 1, 1, 1, 1, 1, 1, 1, 1, 1, 1, 1, 1, 1, 1, 1, 1, 1, 1, 1, 1, 1, 1, 1, 1, 1, 1, 1, 1, 1, 1, 1, 1, 1, 1, 1, 1, 1, 1, 1, 1, 1, 1, 1, 1, 1, 1, 1, 1, 1, 1, 1, 1, 1, 1, 1, 1, 1, 1, 1, 1, 1, 1, 1, 1, 1, 1, 1, 1, 1, 1, 1, 1, 1, 1, 1, 1, 1, 1, 1, 1, 1, 1, 1, 1, 1, 1, 1, 1, 1, 1, 1, 1, 1, 1, 1, 1, 1, 1, 1, 1, 1, 1, 1, 1, 1, 1, 1, 1, 1, 1, 1, 1, 1, 1, 1, 1, 1, 1, 1, 1, 1, 1, 1, 1, 1, 1, 1, 1, 1, 1, 1, 1, 1, 1, 1, 1, 1, 1, 1, 1, 1, 1, 1, 1, 1, 1, 1, 1, 1, 1, 1, 1, 1, 1, 1, 1, 1, 1, 1, 1, 1, 1, 1, 1, 1, 1, 1, 1, 1, 1, 1, 1, 1, 1, 1, 1, 1, 1, 1, 1, 1, 1, 1, 1, 1, 1, 1, 1, 1, 1, 1, 1, 1, 1, 1, 1, 1, 1, 1, 1, 1, 1, 1, 1, 1, 1, 1, 1, 1, 1, 1, 1, 1, 1, 1, 1, 1, 1, 1, 1, 1, 1, 1, 1, 1, 1, 1, 1, 1, 1, 1, 1, 1, 1, 1, 1, 1, 1, 1, 1, 1, 1, 1, 1, 1, 1, 1, 1, 1, 1, 1, 1, 1, 1, 1, 1, 1, 1, 1, 1, 1, 1, 1, 1, 1, 1, 1, 1, 1, 1, 1, 1, 1, 1, 1, 1, 1, 1, 1, 1, 1, 1, 1, 1, 1, 1, 1, 1, 1, 1, 1, 1, 1, 1, 1, 1, 1, 1, 1, 1, 1, 1, 1, 1, 1, 1, 1, 1, 1, 1, 1, 1, 1, 1, 1, 1, 1, 1, 1, 1, 1, 1, 1, 1, 1, 1, 1, 1, 1, 1, 1, 1, 1, 1, 1, 1, 1, 1, 1, 1, 1, 1, 1, 1, 1, 1, 1, 1, 1, 1, 1, 1, 1, 1, 1, 1, 1, 1, 1, 1, 1, 1, 1, 1, 1, 1, 1, 1, 1, 1, 1, 1, 1, 1, 1, 1, 1, 1, 1, 1, 1, 1, 1, 1, 1, 1, 1, 1, 1, 1, 1, 1, 1, 1, 1, 1, 1, 1, 1, 1, 1, 1, 1, 1, 1, 1, 1, 1, 1, 1, 1, 1, 1, 1, 1, 1, 1, 1, 1, 1, 1, 1, 1, 1, 1, 1, 1, 1, 1, 1, 1, 1, 1, 1, 1, 1, 1, 1, 1, 1, 1, 1, 1, 1, 1, 1, 1, 1, 1, 1, 1, 1, 1, 1, 1, 1, 1, 1, 1, 1, 1, 1, 1, 1, 1, 1, 1, 1, 1, 1, 1, 1, 1, 1, 1, 1, 1, 1, 1, 1, 1, 1, 1, 1, 1, 1, 1, 1, 1, 1, 1, 1, 1, 1, 1, 1, 1, 1, 1, 1, 1, 1, 1, 1, 1, 1, 1, 1, 1, 1, 1, 1, 1, 1, 1, 1, 1, 1, 1, 1, 1, 1, 1, 1, 1, 1, 1, 1, 1, 1, 1, 1, 1, 1, 1, 1, 1, 1, 1, 1, 1, 1, 1, 1, 1, 1, 1, 1, 1, 1, 1, 1, 1, 1, 1, 1, 1, 1, 1, 1, 1, 1, 1, 1, 1, 1, 1, 1, 1, 1, 1, 1, 1, 1, 1, 1, 1, 1, 1, 1, 1, 1, 1, 1, 1, 1, 1, 1, 1, 1, 1, 1, 1, 1, 1, 1, 1, 1, 1, 1, 1, 1, 1, 1, 1, 1, 1, 1, 1, 1, 1, 1, 1, 1, 1, 1, 1, 1, 1, 1, 1, 1, 1, 1, 1, 1, 1, 1, 1, 1, 1, 1, 1, 1, 1, 1, 1, 1, 1, 1, 1, 1, 1, 1, 1, 1, 1, 1, 1, 1, 1, 1, 1, 1, 1, 1, 1, 1, 1, 1, 1, 1, 1, 1, 1, 1, 1, 1, 1, 1, 1, 1, 1, 1, 1, 1, 1, 1, 1, 1, 1, 1, 1, 1, 1, 1, 1, 1, 1, 1, 1, 1, 1, 1, 1, 1, 1, 1, 1, 1, 1, 1, 1, 1, 1, 1, 1, 1, 1, 1, 1, 1, 1, 1, 1, 1, 1, 1, 1, 1, 1, 1, 1, 1, 1, 1, 1, 1, 1, 1, 1, 1, 1, 1, 1, 1, 1, 1, 1, 1, 1, 1, 1, 1, 1, 1, 1, 1, 1, 1, 1, 1, 1, 1, 1, 1, 1, 1, 1, 1, 1, 1, 1, 1, 1, 1, 1, 1, 1, 1, 1, 1, 1, 1, 1, 1, 1, 1, 1, 1, 1, 1, 1, 1, 1, 1, 1, 1, 1, 1, 1, 1, 1, 1, 1, 1, 1, 1, 1, 1, 1, 1, 1, 1, 1, 1, 1, 1, 1, 1, 1, 1, 1, 1, 1, 1, 1, 1, 1, 1, 1, 1, 1, 1, 1, 1, 1, 1, 1, 1, 1, 1, 1, 1, 1, 1, 1, 1, 1, 1, 1, 1, 1, 1, 1, 1, 1, 1, 1, 1, 1, 1, 1, 1, 1, 1, 1, 1, 1, 1, 1, 1, 1, 1, 1, 1, 1, 1, 1, 1, 1, 1, 1, 1, 1, 1, 1, 1, 1, 1, 1, 1, 1, 1, 1, 1, 1, 1, 1, 1, 1, 1, 1, 1, 1, 1, 1, 1, 1, 1, 1, 1, 1, 1, 1, 1, 1, 1, 1, 1, 1, 1, 1, 1, 1, 1, 1, 1, 1, 1, 1, 1, 1, 1, 1, 1, 1, 1, 1, 1, 1, 1, 1, 1, 1, 1, 1, 1, 1, 1, 1, 1, 1, 1, 1, 1, 1, 1, 1, 1, 1, 1, 1, 1, 1, 1, 1, 1, 1, 1, 1, 1, 1, 1, 1, 1, 1, 1, 1, 1, 1, 1, 1, 1, 1, 1, 1, 1, 1, 1, 1, 1, 1, 1, 1, 1, 1, 1, 1, 1, 1, 1, 1, 1, 1, 1, 1, 1, 1, 1, 1, 1, 1, 1, 1, 1, 1, 1, 1, 1, 1, 1, 1, 1, 1, 1, 1, 1, 1, 1, 1, 1, 1, 1, 1, 1, 1, 1, 1, 1, 1, 1, 1, 1, 1, 1, 1, 1, 1, 1, 1, 1, 1, 1, 1, 1, 1, 1, 1, 1, 1, 1, 1, 1, 1, 1, 1, 1, 1, 1, 1, 1, 1, 1, 1, 1, 1, 1, 1, 1, 1, 1, 1, 1, 1, 1, 1, 1, 1, 1, 1, 1, 1, 1, 1, 1, 1, 1, 1, 1, 1, 1, 1, 1, 1, 1, 1, 1, 1, 1, 1, 1, 1, 1, 1, 1, 1, 1, 1, 1, 1, 1, 1, 1, 1, 1, 1, 1, 1, 1, 1, 1, 1, 1, 1, 1, 1, 1, 1, 1, 1, 1, 1, 1, 1, 1, 1, 1, 1, 1, 1, 1, 1, 1, 1, 1, 1, 1, 1, 1, 1, 1, 1, 1, 1, 1, 1, 1, 1, 1, 1, 1, 1, 1, 1, 1, 1, 1, 1, 1, 1, 1, 1, 1, 1, 1, 1, 1, 1, 1, 1, 1, 1, 1, 1, 1, 1, 1, 1, 1, 1, 1, 1, 1, 1, 1, 1, 1, 1, 1, 1, 1, 1, 1, 1, 1, 1, 1, 1, 1, 1, 1, 1, 1, 1, 1, 1, 1, 1, 1, 1, 1, 1, 1, 1, 1, 1, 1, 1, 1, 1, 1, 1, 1, 1, 1, 1, 1, 1, 1, 1, 1, 1, 1, 1, 1, 1, 1, 1, 1, 1, 1, 1, 1, 1, 1, 1, 1, 1, 1, 1, 1, 1, 1, 1, 1, 1, 1, 1, 1, 1, 1, 1, 1, 1, 1, 1, 1, 1, 1, 1, 1, 1, 1, 1, 1, 1, 1, 1, 1, 1, 1, 1, 1, 1, 1, 1, 1, 1, 1, 1, 1, 1, 1, 1, 1, 1, 1, 1, 1, 1, 1, 1, 1, 1, 1, 1, 1, 1, 1, 1, 1, 1, 1, 1, 1, 1, 1, 1, 1, 1, 1, 1, 1, 1, 1, 1, 1, 1, 1, 1, 1, 1, 1, 1, 1, 1, 1, 1, 1, 1, 1, 1, 1, 1, 1, 1, 1, 1, 1, 1, 1, 1, 1, 1, 1, 1, 1, 1, 1, 1, 1, 1, 1, 1, 1, 1, 1, 1, 1, 1, 1, 1, 1, 1, 1, 1, 1, 1, 1, 1, 1, 1, 1, 1, 1, 1, 1, 1, 1, 1, 1, 1, 1, 1, 1, 1, 1, 1, 1, 1, 1, 1, 1, 1, 1, 1, 1, 1, 1, 1, 1, 1, 1, 1, 1, 1, 1, 1, 1, 1, 1, 1, 1, 1, 1, 1, 1, 1, 1, 1, 1, 1, 1, 1, 1, 1, 1, 1, 1, 1, 1, 1, 1, 1, 1, 1, 1, 1, 1, 1, 1, 1, 1, 1, 1, 1, 1, 1, 1, 1, 1, 1, 1, 1, 1, 1, 1, 1, 1, 1, 1, 1, 1, 1, 1, 1, 1, 1, 1, 1, 1, 1, 1, 1, 1, 1, 1, 1, 1, 1, 1, 1, 1, 1, 1, 1, 1, 1, 1, 1, 1, 1, 1, 1, 1, 1, 1, 1, 1, 1, 1, 1, 1, 1, 1, 1, 1, 1, 1, 1, 1, 1, 1, 1, 1, 1, 1, 1, 1, 1, 1, 1, 1, 1, 1, 1, 1, 1, 1, 1, 1, 1, 1, 1, 1, 1, 1, 1, 1, 1, 1, 1, 1, 1, 1, 1, 1, 1, 1, 1, 1, 1, 1, 1, 1, 1, 1, 1, 1, 1, 1, 1, 1, 1, 1, 1, 1, 1, 1, 1, 1, 1, 1, 1, 1, 1, 1, 1, 1, 1, 1, 1, 1, 1, 1, 1, 1, 1, 1, 1, 1, 1, 1, 1, 1, 1, 1, 1, 1, 1, 1, 1, 1, 1, 1, 1, 1, 1, 1, 1, 1, 1, 1, 1, 1, 1, 1, 1, 1, 1, 1, 1, 1, 1, 1, 1, 1, 1, 1, 1, 1, 1, 1, 1, 1, 1, 1, 1, 1, 1, 1, 1, 1, 1, 1, 1, 1, 1, 1, 1, 1, 1, 1, 1, 1, 1, 1, 1, 1, 1, 1, 1, 1, 1, 1, 1, 1, 1, 1, 1, 1, 1, 1, 1, 1, 1, 1, 1, 1, 1, 1, 1, 1, 1, 1, 1, 1, 1, 1, 1, 1, 1, 1, 1, 1, 1, 1, 1, 1, 1, 1, 1, 1, 1, 1, 1, 1, 1, 1, 1, 1, 1, 1, 1, 1, 1, 1, 1, 1, 1, 1, 1, 1, 1, 1, 1, 1, 1, 1, 1, 1, 1, 1, 1, 1, 1, 1, 1, 1, 1, 1, 1, 1, 1, 1, 1, 1, 1, 1, 1, 1, 1, 1, 1, 1, 1, 1, 1, 1, 1, 1, 1, 1, 1, 1, 1, 1, 1, 1, 1, 1, 1, 1, 1, 1, 1, 1, 1, 1, 1, 1, 1, 1, 1, 1, 1, 1, 1, 1, 1, 1, 1, 1, 1, 1, 1, 1, 1, 1, 1, 1, 1, 1, 1, 1, 1, 1, 1, 1, 1, 1, 1, 1, 1, 1, 1, 1, 1, 1, 1, 1, 1, 1, 1, 1, 1, 1, 1, 1, 1, 1, 1, 1, 1, 1, 1, 1, 1, 1, 1, 1, 1, 1, 1, 1, 1, 1, 1, 1, 1, 1, 1, 1, 1, 1, 1, 1, 1, 1, 1, 1, 1, 1, 1, 1, 1, 1, 1, 1, 1, 1, 1, 1, 1, 1, 1, 1, 1, 1, 1, 1, 1, 1, 1, 1, 1, 1, 1, 1, 1, 1, 1, 1, 1, 1, 1, 1, 1, 1, 1, 1, 1, 1, 1, 1, 1, 1, 1, 1, 1, 1, 1, 1, 1, 1, 1, 1, 1, 1, 1, 1, 1, 1, 1, 1, 1, 1, 1, 1, 1, 1, 1, 1, 1, 1, 1, 1, 1, 1, 1, 1, 1, 1, 1, 1, 1, 1, 1, 1, 1, 1, 1, 1, 1, 1, 1, 1, 1, 1, 1, 1, 1, 1, 1, 1, 1, 1, 1, 1, 1, 1, 1, 1, 1, 1, 1, 1, 1, 1, 1, 1, 1, 1, 1, 1, 1, 1, 1, 1, 1, 1, 1, 1, 1, 1, 1, 1, 1, 1, 1, 1, 1, 1, 1, 1, 1, 1, 1, 1, 1, 1, 1, 1, 1, 1, 1, 1, 1, 1, 1, 1, 1, 1, 1, 1, 1, 1, 1, 1, 1, 1, 1, 1, 1, 1, 1, 1, 1, 1, 1, 1, 1, 1, 1, 1, 1, 1, 1, 1, 1, 1, 1, 1, 1, 1, 1, 1, 1, 1, 1, 1, 1, 1, 1, 1, 1, 1, 1, 1, 1, 1, 1, 1, 1, 1, 1, 1, 1, 1, 1, 1, 1, 1, 1, 1, 1, 1, 1, 1, 1, 1, 1, 1, 1, 1, 1, 1, 1, 1, 1, 1, 1, 1, 1, 1, 1, 1, 1, 1, 1, 1, 1, 1, 1, 1, 1, 1, 1, 1, 1, 1, 1, 1, 1, 1, 1, 1, 1, 1, 1, 1, 1, 1, 1, 1, 1, 1, 1, 1, 1, 1, 1, 1, 1, 1, 1, 1, 1, 1, 1, 1, 1, 1, 1, 1, 1, 1, 1, 1, 1, 1, 1, 1, 1, 1, 1, 1, 1, 1, 1, 1, 1, 1, 1, 1, 1, 1, 1, 1, 1, 1, 1, 1, 1, 1, 1, 1, 1, 1, 1, 1, 1, 1, 1, 1, 1, 1, 1, 1, 1, 1, 1, 1, 1, 1, 1, 1, 1, 1, 1, 1, 1, 1, 1, 1, 1, 1, 1, 1, 1, 1]\n"
          ]
        },
        {
          "output_type": "display_data",
          "data": {
            "text/plain": [
              "<Figure size 640x480 with 1 Axes>"
            ],
            "image/png": "[encoded data removed]"
          },
          "metadata": {}
        }
      ],
      "source": [
        "from collections import defaultdict\n",
        "import numpy as np\n",
        "import matplotlib.pyplot as plt\n",
        "\n",
        "cluster_id_to_peptides = defaultdict(list)\n",
        "for i in range(len(peptides)):\n",
        "  cluster_id_to_peptides[cluster_indices[i]].append(peptides[i].seq)\n",
        "\n",
        "all = []\n",
        "for i in cluster_id_to_peptides.values():\n",
        "  all.append(len(i))\n",
        "all.sort(reverse=True)\n",
        "\n",
        "plt.hist(all, bins=100)\n",
        "plt.title(\"Distribution of Cluster Sizes with (--min-seq-id 0.5)\")\n",
        "plt.ylabel(\"# of Clusters\")\n",
        "plt.xlabel(\"# Peptides in Cluster\")\n",
        "plt.yscale('log')\n",
        "print(all)"
      ],
      "id": "WXeYkTRnIm-0"
    },
    {
      "cell_type": "code",
      "execution_count": null,
      "metadata": {
        "colab": {
          "base_uri": "https://localhost:8080/"
        },
        "id": "IneXW5NtIst8",
        "outputId": "8c6181fe-db46-4c95-d43c-f64ad0e1e565"
      },
      "outputs": [
        {
          "output_type": "stream",
          "name": "stdout",
          "text": [
            "N Peptides: 19813\n",
            "N Clusters: 5715\n",
            "Train set size: 14029\n",
            "Validation set size: 3390\n",
            "Test set size: 858\n"
          ]
        }
      ],
      "source": [
        "import random\n",
        "import torch\n",
        "import torch.nn as nn\n",
        "import torch.nn.functional as F\n",
        "\n",
        "def set_seed(seed_value=39084320):\n",
        "    random.seed(seed_value)\n",
        "    np.random.seed(seed_value)\n",
        "    torch.manual_seed(seed_value)\n",
        "    if torch.cuda.is_available():\n",
        "        torch.cuda.manual_seed(seed_value)\n",
        "        torch.cuda.manual_seed_all(seed_value)\n",
        "        torch.backends.cudnn.deterministic = True\n",
        "        torch.backends.cudnn.benchmark = False\n",
        "        torch.backends.cudnn.enabled = False\n",
        "\n",
        "set_seed()\n",
        "\n",
        "clusters = list(set(cluster_list))\n",
        "print(f\"N Peptides: {len(cluster_list)}\")\n",
        "print(f\"N Clusters: {len(clusters)}\")\n",
        "random.shuffle(clusters)\n",
        "\n",
        "# Splitting clusters\n",
        "num_clusters = len(clusters)\n",
        "train_cutoff = int(0.7 * num_clusters)\n",
        "val_cutoff = train_cutoff + ((len(clusters) - train_cutoff) // 2)\n",
        "\n",
        "train_clusters = set(clusters[:train_cutoff])\n",
        "val_clusters = set(clusters[train_cutoff:val_cutoff])\n",
        "test_clusters = set(clusters[val_cutoff:])\n",
        "\n",
        "# Extracting peptides based on clusters\n",
        "train_peptides, val_peptides, test_peptides = [], [], []\n",
        "train_receptors, val_receptors, test_receptors = [], [], []\n",
        "\n",
        "assert len(peptides) == len(receptors)\n",
        "\n",
        "for i in range(len(peptides)):\n",
        "    cluster_id = peptide_to_cluster[peptides[i].id]\n",
        "    if cluster_id in train_clusters:\n",
        "        train_peptides.append(peptides[i])\n",
        "        train_receptors.append(receptors[i])\n",
        "    elif cluster_id in val_clusters:\n",
        "        val_peptides.append(peptides[i])\n",
        "        val_receptors.append(receptors[i])\n",
        "\n",
        "# Save the peptides in train, validation and test sets\n",
        "with open(\"train.fasta\", \"w\") as output_handle:\n",
        "    SeqIO.write(train_peptides, output_handle, \"fasta\")\n",
        "\n",
        "with open(\"val.fasta\", \"w\") as output_handle:\n",
        "    SeqIO.write(val_peptides, output_handle, \"fasta\")\n",
        "\n",
        "with open(\"test.fasta\", \"w\") as output_handle:\n",
        "    SeqIO.write(test_peptides, output_handle, \"fasta\")\n",
        "\n",
        "for cluster_id in test_clusters:\n",
        "    idx = next(i for i in range(len(peptides)) if peptide_to_cluster[peptides[i].id] == cluster_id)\n",
        "    test_peptides.append(peptides[idx])\n",
        "    test_receptors.append(receptors[idx])\n",
        "\n",
        "print(f\"Train set size: {len(train_peptides)}\")\n",
        "print(f\"Validation set size: {len(val_peptides)}\")\n",
        "print(f\"Test set size: {len(test_peptides)}\")\n",
        "\n",
        "# Convert peptide object to just its sequence\n",
        "train_peptides = [str(peptide.seq) for peptide in train_peptides]\n",
        "val_peptides = [str(peptide.seq) for peptide in val_peptides]\n",
        "test_peptides = [str(peptide.seq) for peptide in test_peptides]"
      ],
      "id": "IneXW5NtIst8"
    },
    {
      "cell_type": "code",
      "execution_count": null,
      "metadata": {
        "id": "e0d77abb-985e-4ea8-9444-2b6f95e9a117"
      },
      "outputs": [],
      "source": [
        "from transformers import EsmModel, EsmTokenizer"
      ],
      "id": "e0d77abb-985e-4ea8-9444-2b6f95e9a117"
    },
    {
      "cell_type": "code",
      "execution_count": null,
      "metadata": {
        "colab": {
          "base_uri": "https://localhost:8080/",
          "height": 213,
          "referenced_widgets": [
            "02ed16d1c28346cd8938ee0a36e749b9",
            "a9c92034681548789483425283abff6d",
            "975208b20c6d499a9296b7ff0ecc384b",
            "c0589b3db3564bdc8193207792c31d6b",
            "22b918a8f0624b60b42f52850aaf54a0",
            "e7daae43588149e0938f47e2dcab3952",
            "f22646d382ec4ed384a9a5457164d1ba",
            "59adcb114296485eafacf7a1a4a9ad13",
            "516e3513241e4ea2ae75a978abd13d6c",
            "edfa6070e809407db49399e4004190f1",
            "10e99ede9f184dfe951d9b65fdf9aaae",
            "2d6bedbcbfde40c398dcc43c3f785373",
            "e6a4b9e788834909b1597dcf5ca03030",
            "696cf3d8de154220abe1f4dad19b7326",
            "6fee9287269440fdb8e8e925ab1836a8",
            "d24e4cde53f84e7dabb74559f2265342",
            "52aee17cacf64d38a5e5d5d81ddd09e8",
            "47e78349d4e54fd8b0ac8ae1d19f09dd",
            "2d0dc2ed80b94bf18e6d929b67c0ab89",
            "04ecbe7ea4c24355b3c8a192b4fb2f59",
            "2adccb46e4ce42ce92acf097c2e076d8",
            "ff4a3e6d316a470ebe79a6b5db1fc2c4",
            "f0b6410cc13a46b5bfeb1a83f3972dcb",
            "ea36e4fb7e8144d2b270a16fd9beee24",
            "86a4e10be3c2442fa6e75a792fc12612",
            "2d56b3e78a9446fc8246be70140346e1",
            "a6ab8cd8588e41a7a261481f572be1fe",
            "391e88ed18d84ebcbbf8356b4c56ae25",
            "a75b2d2d7f18412686f8f166935c505a",
            "8479b98edcb4466ba0372c5a2ff235c4",
            "98b49377367a4ee1959db7f9fa4429a6",
            "5cbae2115f1c4792af29a2d636c8d404",
            "99878a320aee4017ad881f2cc112c442",
            "5d5d51b167bb4f00a2d3222b9427bac7",
            "e8c890e84bca4a0ea523c207168f2f81",
            "5d8b24a65b554d4da69c484234c8b099",
            "4ca67df9ed0942348e1c36b04a967d3e",
            "6aada024c8464f8e92b6488e41170fdf",
            "2b7051596c464070bc23e4227eb8a5fc",
            "6f681edef1be4f61ad2793676e704c06",
            "2803144bb2a0418dba8ab0baf6688e1e",
            "2978d3c75a2540fe900830b2c7b66522",
            "bffcf3feabd64de7824ebf75af8ca0bf",
            "dfcc455d075d4269b16dc55f274aaf15",
            "9ded71334f2b45fba962198817e0e111",
            "d1e3ab5491194cb499870df86c49fb8b",
            "937c376571de4bba967dc7be6e2acf41",
            "f91337dd60a148249d701ebe4aed9932",
            "67ea05b61cb441b2b6be8780cb5e5ea9",
            "a6010c1b348f4b6f92147b14a4a7c4f9",
            "ddd739855eaf41cc85c45b39bdff72c2",
            "51860bbd50d4468391cfea22d828b34b",
            "e919067c5f394e37baaf2d82521763b7",
            "6c1c5ecbd3854b5db83597f8613adc39",
            "c9ded0492d1d49e795f89c5998fad4b3"
          ]
        },
        "id": "6252e24a-1d5c-4a41-9d05-c6c2fa8555c1",
        "outputId": "bba7058a-cae3-4e2e-97ba-c05f168f5d70"
      },
      "outputs": [
        {
          "output_type": "display_data",
          "data": {
            "text/plain": [
              "Downloading (…)okenizer_config.json:   0%|          | 0.00/95.0 [00:00<?, ?B/s]"
            ],
            "application/vnd.jupyter.widget-view+json": {
              "version_major": 2,
              "version_minor": 0,
              "model_id": "02ed16d1c28346cd8938ee0a36e749b9"
            }
          },
          "metadata": {}
        },
        {
          "output_type": "display_data",
          "data": {
            "text/plain": [
              "Downloading (…)solve/main/vocab.txt:   0%|          | 0.00/93.0 [00:00<?, ?B/s]"
            ],
            "application/vnd.jupyter.widget-view+json": {
              "version_major": 2,
              "version_minor": 0,
              "model_id": "2d6bedbcbfde40c398dcc43c3f785373"
            }
          },
          "metadata": {}
        },
        {
          "output_type": "display_data",
          "data": {
            "text/plain": [
              "Downloading (…)cial_tokens_map.json:   0%|          | 0.00/125 [00:00<?, ?B/s]"
            ],
            "application/vnd.jupyter.widget-view+json": {
              "version_major": 2,
              "version_minor": 0,
              "model_id": "f0b6410cc13a46b5bfeb1a83f3972dcb"
            }
          },
          "metadata": {}
        },
        {
          "output_type": "display_data",
          "data": {
            "text/plain": [
              "Downloading (…)lve/main/config.json:   0%|          | 0.00/775 [00:00<?, ?B/s]"
            ],
            "application/vnd.jupyter.widget-view+json": {
              "version_major": 2,
              "version_minor": 0,
              "model_id": "5d5d51b167bb4f00a2d3222b9427bac7"
            }
          },
          "metadata": {}
        },
        {
          "output_type": "display_data",
          "data": {
            "text/plain": [
              "Downloading model.safetensors:   0%|          | 0.00/31.4M [00:00<?, ?B/s]"
            ],
            "application/vnd.jupyter.widget-view+json": {
              "version_major": 2,
              "version_minor": 0,
              "model_id": "9ded71334f2b45fba962198817e0e111"
            }
          },
          "metadata": {}
        },
        {
          "output_type": "stream",
          "name": "stderr",
          "text": [
            "Some weights of EsmModel were not initialized from the model checkpoint at facebook/esm2_t6_8M_UR50D and are newly initialized: ['esm.pooler.dense.bias', 'esm.pooler.dense.weight']\n",
            "You should probably TRAIN this model on a down-stream task to be able to use it for predictions and inference.\n"
          ]
        }
      ],
      "source": [
        "tokenizer = EsmTokenizer.from_pretrained(\"facebook/esm2_t6_8M_UR50D\")\n",
        "model = EsmModel.from_pretrained(\"facebook/esm2_t6_8M_UR50D\")"
      ],
      "id": "6252e24a-1d5c-4a41-9d05-c6c2fa8555c1"
    },
    {
      "cell_type": "code",
      "execution_count": null,
      "metadata": {
        "colab": {
          "base_uri": "https://localhost:8080/"
        },
        "id": "6073d394-56db-484e-aa84-3e950de04aa0",
        "outputId": "ad9039f6-23d8-4a70-ee05-5648a7771011"
      },
      "outputs": [
        {
          "output_type": "execute_result",
          "data": {
            "text/plain": [
              "SeqRecord(seq=Seq('MIRTMLQGKLHRVKVTHADLHYEG'), id='1aw8-D-E|L-ASPARTATE-ALPHA-DECARBOXYLASE|L-ASPARTATE-ALPHA-DECARBOXYLASE|MIRTMLQGKLHRVKVTHADLHYEG', name='1aw8-D-E|L-ASPARTATE-ALPHA-DECARBOXYLASE|L-ASPARTATE-ALPHA-DECARBOXYLASE|MIRTMLQGKLHRVKVTHADLHYEG', description='1aw8-D-E|L-ASPARTATE-ALPHA-DECARBOXYLASE|L-ASPARTATE-ALPHA-DECARBOXYLASE|MIRTMLQGKLHRVKVTHADLHYEG', dbxrefs=[])"
            ]
          },
          "metadata": {},
          "execution_count": 12
        }
      ],
      "source": [
        "peptides[100]"
      ],
      "id": "6073d394-56db-484e-aa84-3e950de04aa0"
    },
    {
      "cell_type": "code",
      "execution_count": null,
      "metadata": {
        "id": "29f1fe74-1be4-4fe9-9f23-a2c3a4e2944b"
      },
      "outputs": [],
      "source": [
        "# this is all on CPU -- that's why it takes so long. Move to the GPU!\n",
        "# inputs = tokenizer(peptides[100], return_tensors=\"pt\")\n",
        "# outputs = model(**inputs)\n",
        "\n",
        "# last_hidden_states = outputs.last_hidden_state\n",
        "# print(last_hidden_states.shape)"
      ],
      "id": "29f1fe74-1be4-4fe9-9f23-a2c3a4e2944b"
    },
    {
      "cell_type": "code",
      "execution_count": null,
      "metadata": {
        "id": "6168d3e0-453d-4ae3-bdc1-9ccdca234f34"
      },
      "outputs": [],
      "source": [],
      "id": "6168d3e0-453d-4ae3-bdc1-9ccdca234f34"
    },
    {
      "cell_type": "code",
      "execution_count": null,
      "metadata": {
        "id": "064fa0e1-18b8-4da3-9c8a-f2ab186a3a8d"
      },
      "outputs": [],
      "source": [
        "# this is very inefficient batching! Save tokens to disk\n",
        "# instead of tokenizing on the fly. This is just for demo purposes\n",
        "\n",
        "def get_batch(batch_size):\n",
        "    idx = random.sample(range(len(peptides)), k=batch_size)\n",
        "\n",
        "    pep_batch = [str(peptides[k].seq) for k in idx]\n",
        "    rec_batch = [receptors[k] for k in idx]\n",
        "\n",
        "    return (\n",
        "        tokenizer(pep_batch, return_tensors='pt', padding=True),\n",
        "        tokenizer(rec_batch, return_tensors='pt', padding=True),\n",
        "        pep_batch,\n",
        "        rec_batch\n",
        "    )"
      ],
      "id": "064fa0e1-18b8-4da3-9c8a-f2ab186a3a8d"
    },
    {
      "cell_type": "markdown",
      "metadata": {
        "id": "eipGZFALyorz"
      },
      "source": [
        "The receptor encoder and peptide encoder have identical architectures, though they differ in hyperparameters such as the number of layers. Starting with an input l × ei ESM embedding (where l is the input sequence length and ei is the dimension of the ESM embedding), we applied h1 feedforward layers with ReLU activation on each amino acid embedding separately, producing a l × eo embedding, where eo is the output embedding dimension produced by our encoder. Then, we then averaged the embedding over the length dimension, producing an embedding vector of length eo. Finally, we applied h2 feedforward layers with ReLU activation on the embedding vector to get the output embedding. Notably, since the first set of hidden layers operate on single amino acids in isolation, and the second set of hidden layers operate on the embedding averaged over the length dimension, the encoder has minimal dependence on the sequence length."
      ],
      "id": "eipGZFALyorz"
    },
    {
      "cell_type": "code",
      "execution_count": null,
      "metadata": {
        "id": "gjjcHrLiC_Sz"
      },
      "outputs": [],
      "source": [
        "\n",
        "\n",
        "class ExtendedCLIP(nn.Module):\n",
        "    def __init__(self, n_embd, h1, h2, eo):\n",
        "        super().__init__()\n",
        "\n",
        "        # Load the ESM model\n",
        "        self.encoder = EsmModel.from_pretrained('facebook/esm2_t6_8M_UR50D')\n",
        "\n",
        "        # self.encoder.parameters ?\n",
        "\n",
        "        # Freeze all parameters\n",
        "        for param in self.parameters():\n",
        "            param.requires_grad = False\n",
        "\n",
        "        # temp\n",
        "        self.t = nn.Parameter(torch.tensor(1.))\n",
        "\n",
        "        # first set\n",
        "        self.amino_acid_ffn = nn.ModuleList([\n",
        "            nn.Linear(eo, n_embd) for _ in range(h1)\n",
        "        ])\n",
        "\n",
        "        # nn.Sequential(nn.Linear(n_embd, 4*n_embd), nn.ReLU, nn.Linear(4*n_embd, n_embd), nn.LayerNorm(n_embd))\n",
        "\n",
        "        # second set\n",
        "        self.embedding_ffn = nn.ModuleList([\n",
        "            nn.Linear(n_embd, eo) for _ in range(h2)\n",
        "        ])\n",
        "\n",
        "    def to_embedding(self, aa_idx):\n",
        "        h = self.encoder(**aa_idx).last_hidden_state # B, T, D\n",
        "\n",
        "        # h1 feedforward layers\n",
        "        for layer in self.amino_acid_ffn:\n",
        "            h = F.relu(layer(h))\n",
        "\n",
        "        # Average over the sequence length\n",
        "        h = h.mean(1)\n",
        "\n",
        "        # h2 feedforward layers\n",
        "        for layer in self.embedding_ffn:\n",
        "            h = F.relu(layer(h))\n",
        "\n",
        "        # Normalize the embedding\n",
        "        h = h / h.norm(dim=-1, keepdim=True) + 1e-9\n",
        "        return h # B, D'\n",
        "\n",
        "    def forward(self, peptide_idx, receptor_idx):\n",
        "        B = peptide_idx['input_ids'].shape[0]\n",
        "        assert B == receptor_idx['input_ids'].shape[0]\n",
        "        hpep = self.to_embedding(peptide_idx)\n",
        "        hrec = self.to_embedding(receptor_idx)\n",
        "\n",
        "        # logits = (hpep @ hrec.T) * self.t.exp() # B, B\n",
        "        logits = (hpep @ hrec.T) * torch.exp(self.t) # B, B\n",
        "        labels = torch.arange(B, device=peptide_idx['input_ids'].device)\n",
        "\n",
        "        # print(self.t)\n",
        "\n",
        "        loss_r = F.cross_entropy(logits, labels)\n",
        "        loss_c = F.cross_entropy(logits.T, labels)\n",
        "\n",
        "        return (loss_r + loss_c)  / 2.\n",
        "\n",
        "    def get_embedding(self, aa_idx):\n",
        "        return self.to_embedding(aa_idx)\n",
        "\n",
        "    def get_raw_embedding(self, aa_idx):\n",
        "        h = self.encoder(**aa_idx).last_hidden_state.mean(1)\n",
        "        h = h / h.norm(dim=-1, keepdim=True) + 1e-9\n",
        "        return h\n"
      ],
      "id": "gjjcHrLiC_Sz"
    },
    {
      "cell_type": "code",
      "execution_count": null,
      "metadata": {
        "id": "f9b2b732-8c8b-44bd-8335-c5cb03e80c0d"
      },
      "outputs": [],
      "source": [
        "batch_size = 32\n",
        "pep, rec, pep_batch, rec_batch = get_batch(batch_size)"
      ],
      "id": "f9b2b732-8c8b-44bd-8335-c5cb03e80c0d"
    },
    {
      "cell_type": "code",
      "execution_count": null,
      "metadata": {
        "colab": {
          "base_uri": "https://localhost:8080/"
        },
        "id": "WuHTQFPkD0b1",
        "outputId": "38427c6c-5697-4d8e-ced4-744877112ba9"
      },
      "outputs": [
        {
          "output_type": "stream",
          "name": "stderr",
          "text": [
            "Some weights of EsmModel were not initialized from the model checkpoint at facebook/esm2_t6_8M_UR50D and are newly initialized: ['esm.pooler.dense.bias', 'esm.pooler.dense.weight']\n",
            "You should probably TRAIN this model on a down-stream task to be able to use it for predictions and inference.\n"
          ]
        },
        {
          "output_type": "execute_result",
          "data": {
            "text/plain": [
              "(3.4456734657287598, 3.465735912322998)"
            ]
          },
          "metadata": {},
          "execution_count": 41
        }
      ],
      "source": [
        "# Assuming the following hyperparameters for the extended encoder\n",
        "n_embd = 320\n",
        "h1 = 1  # Number of feedforward layers for amino acid embeddings\n",
        "h2 = 1  # Number of feedforward layers for averaged embedding\n",
        "eo = 320  # Output embedding dimension\n",
        "\n",
        "# Create a model instance with the extended encoder\n",
        "extended_model = ExtendedCLIP(n_embd, h1, h2, eo)\n",
        "loss = extended_model(pep, rec)\n",
        "loss.item(), -torch.tensor(1/batch_size).log().item()"
      ],
      "id": "WuHTQFPkD0b1"
    },
    {
      "cell_type": "markdown",
      "metadata": {
        "id": "GxXWII2vw89o"
      },
      "source": [
        "### train"
      ],
      "id": "GxXWII2vw89o"
    },
    {
      "cell_type": "code",
      "execution_count": null,
      "metadata": {
        "colab": {
          "base_uri": "https://localhost:8080/"
        },
        "id": "fng32mTzK_93",
        "outputId": "7ab21b76-b822-404c-a962-be965ce76bab"
      },
      "outputs": [
        {
          "output_type": "execute_result",
          "data": {
            "text/plain": [
              "150"
            ]
          },
          "metadata": {},
          "execution_count": 16
        }
      ],
      "source": [
        "# cleaning gpu ram\n",
        "torch.cuda.empty_cache()\n",
        "import gc\n",
        "gc.collect()"
      ],
      "id": "fng32mTzK_93"
    },
    {
      "cell_type": "code",
      "execution_count": null,
      "metadata": {
        "colab": {
          "base_uri": "https://localhost:8080/",
          "height": 1000
        },
        "id": "MQULg6pXGQ46",
        "outputId": "b8406b4c-3439-4555-8ec0-2d37479d0987"
      },
      "outputs": [
        {
          "output_type": "stream",
          "name": "stderr",
          "text": [
            "Some weights of EsmModel were not initialized from the model checkpoint at facebook/esm2_t6_8M_UR50D and are newly initialized: ['esm.pooler.dense.bias', 'esm.pooler.dense.weight']\n",
            "You should probably TRAIN this model on a down-stream task to be able to use it for predictions and inference.\n"
          ]
        },
        {
          "output_type": "stream",
          "name": "stdout",
          "text": [
            "Epoch 1, Training Loss: 3.4106697857379915\n"
          ]
        },
        {
          "output_type": "display_data",
          "data": {
            "text/plain": [
              "<Figure size 1000x1500 with 4 Axes>"
            ],
            "image/png": "[encoded data removed]"
          },
          "metadata": {}
        },
        {
          "output_type": "stream",
          "name": "stdout",
          "text": [
            "Epoch 1, Test Loss: 3.452736029258141\n",
            "Epoch 2, Training Loss: 3.21278453707695\n"
          ]
        },
        {
          "output_type": "display_data",
          "data": {
            "text/plain": [
              "<Figure size 1000x1500 with 4 Axes>"
            ],
            "image/png": "[encoded data removed]"
          },
          "metadata": {}
        },
        {
          "output_type": "stream",
          "name": "stdout",
          "text": [
            "Epoch 2, Test Loss: 3.4063366193037767\n",
            "Epoch 3, Training Loss: 3.018437007665634\n"
          ]
        },
        {
          "output_type": "display_data",
          "data": {
            "text/plain": [
              "<Figure size 1000x1500 with 4 Axes>"
            ],
            "image/png": "[encoded data removed]"
          },
          "metadata": {}
        },
        {
          "output_type": "stream",
          "name": "stdout",
          "text": [
            "Epoch 3, Test Loss: 3.3494377503028283\n",
            "Epoch 4, Training Loss: 2.9103140914440155\n"
          ]
        },
        {
          "output_type": "display_data",
          "data": {
            "text/plain": [
              "<Figure size 1000x1500 with 4 Axes>"
            ],
            "image/png": "[encoded data removed]"
          },
          "metadata": {}
        },
        {
          "output_type": "stream",
          "name": "stdout",
          "text": [
            "Epoch 4, Test Loss: 3.3159158871724057\n",
            "Epoch 5, Training Loss: 2.842406629323959\n"
          ]
        },
        {
          "output_type": "display_data",
          "data": {
            "text/plain": [
              "<Figure size 1000x1500 with 4 Axes>"
            ],
            "image/png": "[encoded data removed]"
          },
          "metadata": {}
        },
        {
          "output_type": "stream",
          "name": "stdout",
          "text": [
            "Epoch 5, Test Loss: 3.2963820970975437\n",
            "Validation Loss of the Best Model: 3.2051775319235665\n"
          ]
        }
      ],
      "source": [
        "from torch.utils.data import DataLoader, Dataset\n",
        "from torch.optim import Adam\n",
        "from torch.optim.lr_scheduler import LambdaLR\n",
        "\n",
        "class PeptideReceptorDataset(Dataset):\n",
        "    def __init__(self, peptides, receptors):\n",
        "        self.peptides = peptides\n",
        "        self.receptors = receptors\n",
        "\n",
        "    def __len__(self):\n",
        "        return len(self.peptides)\n",
        "\n",
        "    def __getitem__(self, idx):\n",
        "        return self.peptides[idx], self.receptors[idx]\n",
        "\n",
        "set_seed()\n",
        "\n",
        "# create dataset for train, val, and test\n",
        "train_dataset = PeptideReceptorDataset(train_peptides, train_receptors)\n",
        "val_dataset = PeptideReceptorDataset(val_peptides, val_receptors)\n",
        "test_dataset = PeptideReceptorDataset(test_peptides, test_receptors)\n",
        "\n",
        "batch_size = 32\n",
        "train_loader = DataLoader(train_dataset, batch_size=batch_size, shuffle=True, drop_last=True)\n",
        "test_loader = DataLoader(test_dataset, batch_size=batch_size, shuffle=False, drop_last=True)\n",
        "val_loader = DataLoader(val_dataset, batch_size=batch_size, shuffle=False, drop_last=True)\n",
        "\n",
        "n_embed = 320\n",
        "h1 = 1  # Number of feedforward layers for amino acid embeddings\n",
        "h2 = 1  # Number of feedforward layers for averaged embedding\n",
        "eo = 320  # Output embedding dimension\n",
        "device = torch.device('cuda' if torch.cuda.is_available() else 'cpu')\n",
        "trained_extended_model = ExtendedCLIP(n_embed, h1, h2, eo).to(device)\n",
        "\n",
        "# keep track of best model\n",
        "best_test_loss = float('inf')\n",
        "best_model = None\n",
        "train_losses = []\n",
        "test_losses = []\n",
        "val_losses = []\n",
        "\n",
        "# training\n",
        "n_epochs = 5\n",
        "optimizer = Adam(trained_extended_model.parameters(), lr=1e-4)\n",
        "# lr decay to avoid nan loss while learning\n",
        "def lr_lambda(epoch):\n",
        "    initial_lr = 1e-4\n",
        "    final_lr = 1e-4 #2e-6\n",
        "    decay_duration = n_epochs\n",
        "    decay_factor = (final_lr / initial_lr) ** (1.0 / decay_duration)\n",
        "    return decay_factor ** epoch\n",
        "scheduler = LambdaLR(optimizer, lr_lambda=lr_lambda)\n",
        "\n",
        "# plot the gradients\n",
        "def plot_gradients(model, epoch):\n",
        "    fig, axs = plt.subplots(len(list(model.amino_acid_ffn.named_parameters())) + len(list(model.embedding_ffn.named_parameters())), figsize=(10, 15))\n",
        "\n",
        "    # For amino_acid_ffn\n",
        "    for ax, (name, param) in zip(axs[:len(list(model.amino_acid_ffn.named_parameters()))], model.amino_acid_ffn.named_parameters()):\n",
        "        if param.grad is not None:\n",
        "            ax.hist(param.grad.cpu().numpy().flatten(), bins=30)\n",
        "            ax.set_title(f\"Epoch {epoch + 1} - amino_acid_ffn.{name}\")\n",
        "\n",
        "    # For embedding_ffn\n",
        "    for ax, (name, param) in zip(axs[len(list(model.amino_acid_ffn.named_parameters())):], model.embedding_ffn.named_parameters()):\n",
        "        if param.grad is not None:\n",
        "            ax.hist(param.grad.cpu().numpy().flatten(), bins=30)\n",
        "            ax.set_title(f\"Epoch {epoch + 1} - embedding_ffn.{name}\")\n",
        "\n",
        "    plt.tight_layout()\n",
        "    plt.show()\n",
        "\n",
        "for epoch in range(n_epochs):\n",
        "    total_loss = 0\n",
        "    trained_extended_model.train()\n",
        "\n",
        "    skip = 0\n",
        "\n",
        "    for curr_peptides, curr_receptors in train_loader:\n",
        "        optimizer.zero_grad()\n",
        "        pep_tokenized = tokenizer(curr_peptides, return_tensors='pt', padding=True).to(device)\n",
        "        rec_tokenized = tokenizer(curr_receptors, return_tensors='pt', padding=True).to(device)\n",
        "        loss = trained_extended_model(pep_tokenized, rec_tokenized)\n",
        "        loss.backward()\n",
        "        optimizer.step()\n",
        "        total_loss += loss.item()\n",
        "\n",
        "        skip += 1\n",
        "        if skip == 200:\n",
        "          break\n",
        "\n",
        "    print(f\"Epoch {epoch + 1}, Training Loss: {total_loss / skip}\")#len(train_loader)}\")\n",
        "    train_losses.append(total_loss/ skip)# len(train_loader))\n",
        "    scheduler.step()\n",
        "    plot_gradients(trained_extended_model, epoch)\n",
        "\n",
        "\n",
        "    # select model based on test set\n",
        "    test_loss = 0\n",
        "    trained_extended_model.eval()\n",
        "    with torch.no_grad():\n",
        "        for curr_peptides, curr_receptors in test_loader:\n",
        "            pep_tokenized = tokenizer(curr_peptides, return_tensors='pt', padding=True).to(device)\n",
        "            rec_tokenized = tokenizer(curr_receptors, return_tensors='pt', padding=True).to(device)\n",
        "            loss = trained_extended_model(pep_tokenized, rec_tokenized)\n",
        "            test_loss += loss.item()\n",
        "    print(f\"Epoch {epoch + 1}, Test Loss: {test_loss / len(test_loader)}\")\n",
        "    test_losses.append(test_loss/len(test_loader))\n",
        "\n",
        "    # save the model if it has the best test loss\n",
        "    if test_loss < best_test_loss:\n",
        "        best_test_loss = test_loss\n",
        "        best_model = trained_extended_model.state_dict()\n",
        "\n",
        "# load the best model after training and selection\n",
        "trained_extended_model.load_state_dict(best_model)\n",
        "\n",
        "# actual performance using val set\n",
        "val_loss = 0\n",
        "trained_extended_model.eval()\n",
        "with torch.no_grad():\n",
        "    for curr_peptides, curr_receptors in val_loader:\n",
        "        pep_tokenized = tokenizer(curr_peptides, return_tensors='pt', padding=True).to(device)\n",
        "        rec_tokenized = tokenizer(curr_receptors, return_tensors='pt', padding=True).to(device)\n",
        "        loss = trained_extended_model(pep_tokenized, rec_tokenized)\n",
        "        val_loss += loss.item()\n",
        "print(f\"Validation Loss of the Best Model: {val_loss / len(val_loader)}\")\n"
      ],
      "id": "MQULg6pXGQ46"
    },
    {
      "cell_type": "code",
      "execution_count": null,
      "metadata": {
        "colab": {
          "base_uri": "https://localhost:8080/",
          "height": 333
        },
        "id": "szBZd-pSI93_",
        "outputId": "294c2ca3-6a62-43e5-dcb2-3b68ced1a01a"
      },
      "outputs": [
        {
          "output_type": "display_data",
          "data": {
            "text/plain": [
              "<Figure size 600x300 with 1 Axes>"
            ],
            "image/png": "[encoded data removed]"
          },
          "metadata": {}
        }
      ],
      "source": [
        "plt.figure(figsize=(6, 3))\n",
        "plt.plot(range(1, len(train_losses) + 1), train_losses, label=\"Training Loss\", color=\"blue\")\n",
        "plt.plot(range(1, len(test_losses) + 1), test_losses, label=\"Test Loss\", color=\"red\")\n",
        "plt.axhline(y=-torch.tensor(1/batch_size).log().item(), color='green', linestyle='--', label=\"Baseline\")\n",
        "\n",
        "plt.xlabel(\"Epoch\")\n",
        "plt.ylabel(\"Loss\")\n",
        "plt.title(\"Extended CLIP Performance\")\n",
        "plt.legend(loc='center right')\n",
        "plt.grid(True)\n",
        "plt.xticks(range(1, len(train_losses) + 1))\n",
        "plt.show()"
      ],
      "id": "szBZd-pSI93_"
    },
    {
      "cell_type": "code",
      "source": [
        "type(pep_tokenized)"
      ],
      "metadata": {
        "colab": {
          "base_uri": "https://localhost:8080/"
        },
        "id": "NZp5IkZuL6kd",
        "outputId": "deae83c7-9ae7-48a2-9a5a-0c15dca64d82"
      },
      "id": "NZp5IkZuL6kd",
      "execution_count": null,
      "outputs": [
        {
          "output_type": "execute_result",
          "data": {
            "text/plain": [
              "transformers.tokenization_utils_base.BatchEncoding"
            ]
          },
          "metadata": {},
          "execution_count": 34
        }
      ]
    },
    {
      "cell_type": "code",
      "source": [
        "tokenizer.pad_token_id"
      ],
      "metadata": {
        "colab": {
          "base_uri": "https://localhost:8080/"
        },
        "id": "7M3lrRyLMWH2",
        "outputId": "3025ce28-3631-4021-9cd7-f07ffdc54de7"
      },
      "id": "7M3lrRyLMWH2",
      "execution_count": null,
      "outputs": [
        {
          "output_type": "execute_result",
          "data": {
            "text/plain": [
              "1"
            ]
          },
          "metadata": {},
          "execution_count": 40
        }
      ]
    },
    {
      "cell_type": "code",
      "source": [
        "\n",
        "       h = self.encoder(**aa_idx).last_hidden_state # B, T, D\n",
        "\n",
        "        # h1 feedforward layers\n",
        "        for layer in self.amino_acid_ffn:\n",
        "            h = F.relu(layer(h))\n",
        "\n",
        "        # Average over the sequence length\n",
        "        h = h.mean(1)\n",
        "\n",
        "        # h2 feedforward layers\n",
        "        for layer in self.embedding_ffn:\n",
        "            h = F.relu(layer(h))\n",
        "\n",
        "        # Normalize the embedding\n",
        "        h = h / h.norm(dim=-1, keepdim=True) + 1e-9\n",
        "        return h # B, D'\n"
      ],
      "metadata": {
        "id": "9nlsy2-jNcPN"
      },
      "id": "9nlsy2-jNcPN",
      "execution_count": null,
      "outputs": []
    },
    {
      "cell_type": "code",
      "source": [
        "h = trained_extended_model.encoder(**pep_tokenized).last_hidden_state\n",
        "for layer in trained_extended_model.amino_acid_ffn:\n",
        "  h = F.relu(layer(h))\n",
        "\n",
        "h = h.mean(1)"
      ],
      "metadata": {
        "id": "1jtOWCXkNeXI"
      },
      "id": "1jtOWCXkNeXI",
      "execution_count": null,
      "outputs": []
    },
    {
      "cell_type": "code",
      "source": [
        "pep_tokenized['attention_mask']"
      ],
      "metadata": {
        "colab": {
          "base_uri": "https://localhost:8080/"
        },
        "id": "KGQeSfhNRthE",
        "outputId": "71d9031a-8bde-434a-b482-c13826b261bc"
      },
      "id": "KGQeSfhNRthE",
      "execution_count": null,
      "outputs": [
        {
          "output_type": "execute_result",
          "data": {
            "text/plain": [
              "tensor([[1, 1, 1,  ..., 0, 0, 0],\n",
              "        [1, 1, 1,  ..., 0, 0, 0],\n",
              "        [1, 1, 1,  ..., 0, 0, 0],\n",
              "        ...,\n",
              "        [1, 1, 1,  ..., 0, 0, 0],\n",
              "        [1, 1, 1,  ..., 1, 1, 1],\n",
              "        [1, 1, 1,  ..., 0, 0, 0]], device='cuda:0')"
            ]
          },
          "metadata": {},
          "execution_count": 80
        }
      ]
    },
    {
      "cell_type": "code",
      "source": [
        "\n",
        "h"
      ],
      "metadata": {
        "colab": {
          "base_uri": "https://localhost:8080/"
        },
        "id": "m7MjS2jZOMNk",
        "outputId": "328ca6ef-3f80-421f-fd2c-e2432a86cdf5"
      },
      "id": "m7MjS2jZOMNk",
      "execution_count": null,
      "outputs": [
        {
          "output_type": "execute_result",
          "data": {
            "text/plain": [
              "tensor([[0.1323, 0.1103, 0.0000,  ..., 0.1805, 0.1416, 0.1134],\n",
              "        [0.1108, 0.1493, 0.0000,  ..., 0.1075, 0.0919, 0.1353],\n",
              "        [0.1108, 0.1493, 0.0000,  ..., 0.1075, 0.0919, 0.1353],\n",
              "        ...,\n",
              "        [0.1227, 0.1568, 0.0000,  ..., 0.2382, 0.1115, 0.0888],\n",
              "        [0.2285, 0.1765, 0.0000,  ..., 0.1574, 0.2108, 0.0561],\n",
              "        [0.2460, 0.0954, 0.0000,  ..., 0.1562, 0.1371, 0.0905]],\n",
              "       device='cuda:0', grad_fn=<MeanBackward1>)"
            ]
          },
          "metadata": {},
          "execution_count": 73
        }
      ]
    },
    {
      "cell_type": "code",
      "source": [
        "h = trained_extended_model.embedding_ffn[0](h)\n",
        "h"
      ],
      "metadata": {
        "colab": {
          "base_uri": "https://localhost:8080/"
        },
        "id": "f7U0ZAq2N2nA",
        "outputId": "2eb9d1ae-bed6-486f-9979-e884304a5bfe"
      },
      "id": "f7U0ZAq2N2nA",
      "execution_count": null,
      "outputs": [
        {
          "output_type": "execute_result",
          "data": {
            "text/plain": [
              "tensor([[-0.1449, -0.0945, -0.0728,  ..., -0.0516, -0.0702,  0.0146],\n",
              "        [-0.1519, -0.0818, -0.0765,  ..., -0.0355, -0.0423, -0.0068],\n",
              "        [-0.1519, -0.0818, -0.0765,  ..., -0.0355, -0.0423, -0.0068],\n",
              "        ...,\n",
              "        [-0.1406, -0.1110, -0.0592,  ..., -0.1038, -0.0869,  0.0418],\n",
              "        [-0.1453, -0.0301, -0.0793,  ..., -0.0445, -0.0458,  0.0035],\n",
              "        [-0.1372, -0.0903, -0.0670,  ..., -0.0814, -0.0777,  0.0130]],\n",
              "       device='cuda:0', grad_fn=<AddmmBackward0>)"
            ]
          },
          "metadata": {},
          "execution_count": 74
        }
      ]
    },
    {
      "cell_type": "code",
      "source": [
        "F.relu(h)"
      ],
      "metadata": {
        "id": "wca_cSeCOgjb"
      },
      "id": "wca_cSeCOgjb",
      "execution_count": null,
      "outputs": []
    },
    {
      "cell_type": "code",
      "source": [
        "trained_extended_model.embedding_ffn[0].weight"
      ],
      "metadata": {
        "colab": {
          "base_uri": "https://localhost:8080/"
        },
        "id": "tRyVnyirOJzD",
        "outputId": "18c4fc31-dc8e-4149-c998-b9790b2b2688"
      },
      "id": "tRyVnyirOJzD",
      "execution_count": null,
      "outputs": [
        {
          "output_type": "execute_result",
          "data": {
            "text/plain": [
              "Parameter containing:\n",
              "tensor([[ 0.0324, -0.0242, -0.0016,  ..., -0.0020,  0.0356, -0.0270],\n",
              "        [-0.0556, -0.0548, -0.0567,  ...,  0.0448,  0.0523,  0.0206],\n",
              "        [ 0.0353,  0.0388,  0.0377,  ...,  0.0504, -0.0464, -0.0258],\n",
              "        ...,\n",
              "        [-0.0183,  0.0071,  0.0043,  ..., -0.0052,  0.0432, -0.0425],\n",
              "        [-0.0245,  0.0452, -0.0229,  ...,  0.0097, -0.0092,  0.0498],\n",
              "        [-0.0358, -0.0275, -0.0102,  ...,  0.0256, -0.0179,  0.0504]],\n",
              "       device='cuda:0', requires_grad=True)"
            ]
          },
          "metadata": {},
          "execution_count": 66
        }
      ]
    },
    {
      "cell_type": "code",
      "source": [
        "(peptide_embeddings @ receptor_embeddings.T)"
      ],
      "metadata": {
        "colab": {
          "base_uri": "https://localhost:8080/"
        },
        "id": "fckJU4OYPqxm",
        "outputId": "1ab4632c-618c-40de-ca70-0374b4959c23"
      },
      "id": "fckJU4OYPqxm",
      "execution_count": null,
      "outputs": [
        {
          "output_type": "execute_result",
          "data": {
            "text/plain": [
              "tensor(0.0001, device='cuda:0', grad_fn=<MinBackward1>)"
            ]
          },
          "metadata": {},
          "execution_count": 78
        }
      ]
    },
    {
      "cell_type": "code",
      "execution_count": null,
      "metadata": {
        "colab": {
          "base_uri": "https://localhost:8080/",
          "height": 410
        },
        "id": "RmMNUrB-SJYe",
        "outputId": "fe63620e-9005-4e39-8386-c9bccb1587eb"
      },
      "outputs": [
        {
          "output_type": "display_data",
          "data": {
            "text/plain": [
              "<Figure size 600x400 with 2 Axes>"
            ],
            "image/png": "[encoded data removed]"
          },
          "metadata": {}
        }
      ],
      "source": [
        "curr_peptides, curr_receptors = next(iter(val_loader))\n",
        "pep_tokenized = tokenizer(curr_peptides, return_tensors='pt', padding=True).to(device)\n",
        "rec_tokenized = tokenizer(curr_receptors, return_tensors='pt', padding=True).to(device)\n",
        "\n",
        "peptide_embeddings = trained_extended_model.get_embedding(pep_tokenized)\n",
        "receptor_embeddings = trained_extended_model.get_embedding(rec_tokenized)\n",
        "cosine_similarity_matrix = torch.nn.functional.cosine_similarity(peptide_embeddings.unsqueeze(1), receptor_embeddings.unsqueeze(0), dim=2)\n",
        "\n",
        "plt.figure(figsize=(6, 4))\n",
        "plt.imshow(cosine_similarity_matrix.cpu().detach().numpy(), cmap='viridis')#, vmin=-1, vmax=1)\n",
        "plt.colorbar()\n",
        "plt.title(\"Trained Embedding Cosine Similarities\")\n",
        "plt.xlabel(\"Receptor Protein\")\n",
        "plt.ylabel(\"Peptide\")\n",
        "plt.show()"
      ],
      "id": "RmMNUrB-SJYe"
    },
    {
      "cell_type": "code",
      "execution_count": null,
      "metadata": {
        "colab": {
          "base_uri": "https://localhost:8080/",
          "height": 410
        },
        "id": "AXXEgdKMUHaF",
        "outputId": "1891835e-6e72-4bb6-8700-437d6593068a"
      },
      "outputs": [
        {
          "output_type": "display_data",
          "data": {
            "text/plain": [
              "<Figure size 600x400 with 2 Axes>"
            ],
            "image/png": "[encoded data removed]"
          },
          "metadata": {}
        }
      ],
      "source": [
        "free_extended_model\n",
        "raw_peptide_embeddings = trained_extended_model.get_raw_embedding(pep_tokenized)\n",
        "raw_receptor_embeddings = trained_extended_model.get_raw_embedding(rec_tokenized)\n",
        "raw_cosine_similarity_matrix = torch.mm(raw_peptide_embeddings, raw_receptor_embeddings.t())\n",
        "\n",
        "plt.figure(figsize=(6, 4))\n",
        "plt.imshow(raw_cosine_similarity_matrix.cpu().detach().numpy(), cmap='viridis', vmin=0, vmax=1)\n",
        "plt.colorbar()\n",
        "plt.title(\"Raw Embedding Cosine Similarities\")\n",
        "plt.xlabel(\"Receptor Protein\")\n",
        "plt.ylabel(\"Peptide\")\n",
        "plt.show()\n"
      ],
      "id": "AXXEgdKMUHaF"
    },
    {
      "cell_type": "markdown",
      "metadata": {
        "id": "TDP1O7jfw3r-"
      },
      "source": [
        "### old vis"
      ],
      "id": "TDP1O7jfw3r-"
    },
    {
      "cell_type": "code",
      "execution_count": null,
      "metadata": {
        "colab": {
          "base_uri": "https://localhost:8080/"
        },
        "id": "u_cHERjuh1Ak",
        "outputId": "599a7c67-ce46-405a-e22c-023a05aca9d4"
      },
      "outputs": [
        {
          "data": {
            "text/plain": [
              "ExtendedCLIP(\n",
              "  (encoder): EsmModel(\n",
              "    (embeddings): EsmEmbeddings(\n",
              "      (word_embeddings): Embedding(33, 320, padding_idx=1)\n",
              "      (dropout): Dropout(p=0.0, inplace=False)\n",
              "      (position_embeddings): Embedding(1026, 320, padding_idx=1)\n",
              "    )\n",
              "    (encoder): EsmEncoder(\n",
              "      (layer): ModuleList(\n",
              "        (0-5): 6 x EsmLayer(\n",
              "          (attention): EsmAttention(\n",
              "            (self): EsmSelfAttention(\n",
              "              (query): Linear(in_features=320, out_features=320, bias=True)\n",
              "              (key): Linear(in_features=320, out_features=320, bias=True)\n",
              "              (value): Linear(in_features=320, out_features=320, bias=True)\n",
              "              (dropout): Dropout(p=0.0, inplace=False)\n",
              "              (rotary_embeddings): RotaryEmbedding()\n",
              "            )\n",
              "            (output): EsmSelfOutput(\n",
              "              (dense): Linear(in_features=320, out_features=320, bias=True)\n",
              "              (dropout): Dropout(p=0.0, inplace=False)\n",
              "            )\n",
              "            (LayerNorm): LayerNorm((320,), eps=1e-05, elementwise_affine=True)\n",
              "          )\n",
              "          (intermediate): EsmIntermediate(\n",
              "            (dense): Linear(in_features=320, out_features=1280, bias=True)\n",
              "          )\n",
              "          (output): EsmOutput(\n",
              "            (dense): Linear(in_features=1280, out_features=320, bias=True)\n",
              "            (dropout): Dropout(p=0.0, inplace=False)\n",
              "          )\n",
              "          (LayerNorm): LayerNorm((320,), eps=1e-05, elementwise_affine=True)\n",
              "        )\n",
              "      )\n",
              "      (emb_layer_norm_after): LayerNorm((320,), eps=1e-05, elementwise_affine=True)\n",
              "    )\n",
              "    (pooler): EsmPooler(\n",
              "      (dense): Linear(in_features=320, out_features=320, bias=True)\n",
              "      (activation): Tanh()\n",
              "    )\n",
              "    (contact_head): EsmContactPredictionHead(\n",
              "      (regression): Linear(in_features=120, out_features=1, bias=True)\n",
              "      (activation): Sigmoid()\n",
              "    )\n",
              "  )\n",
              "  (amino_acid_ffn): ModuleList(\n",
              "    (0): Linear(in_features=320, out_features=320, bias=True)\n",
              "  )\n",
              "  (embedding_ffn): ModuleList(\n",
              "    (0): Linear(in_features=320, out_features=320, bias=True)\n",
              "  )\n",
              ")"
            ]
          },
          "execution_count": 280,
          "metadata": {},
          "output_type": "execute_result"
        }
      ],
      "source": [
        "extended_model.cpu()"
      ],
      "id": "u_cHERjuh1Ak"
    },
    {
      "cell_type": "code",
      "execution_count": null,
      "metadata": {
        "id": "JbaL4yz-Fv7i"
      },
      "outputs": [],
      "source": [
        "pep_embedding = extended_model.get_embedding(pep)  # Assuming that pep is correctly formatted\n",
        "rec_embedding = extended_model.get_embedding(rec)  # Assuming that rec is correctly formatted\n"
      ],
      "id": "JbaL4yz-Fv7i"
    },
    {
      "cell_type": "code",
      "execution_count": null,
      "metadata": {
        "colab": {
          "base_uri": "https://localhost:8080/"
        },
        "id": "QoJTkyN5EhdY",
        "outputId": "32e8e621-f75a-41ae-b2b3-376c7ff0aba0"
      },
      "outputs": [
        {
          "data": {
            "text/plain": [
              "32"
            ]
          },
          "execution_count": 314,
          "metadata": {},
          "output_type": "execute_result"
        }
      ],
      "source": [
        "len(pep_batch)"
      ],
      "id": "QoJTkyN5EhdY"
    },
    {
      "cell_type": "code",
      "execution_count": null,
      "metadata": {
        "id": "5_AAF0MX8hwb"
      },
      "outputs": [],
      "source": [
        "pep_arr = pep_embedding.detach().numpy()\n",
        "rec_arr = rec_embedding.detach().numpy()"
      ],
      "id": "5_AAF0MX8hwb"
    },
    {
      "cell_type": "code",
      "execution_count": null,
      "metadata": {
        "id": "RavNb8VK8S8f"
      },
      "outputs": [],
      "source": [
        "from torch.nn.functional import cosine_similarity\n",
        "\n",
        "# cosine_sim = cosine_similarity(pep_embedding, rec_embedding, dim=-1)\n",
        "\n",
        "cosine_similarities = [[None for _ in range(len(pep_embedding))] for _ in range(len(rec_embedding))]\n",
        "\n",
        "for i, pep_emb in enumerate(pep_embedding):\n",
        "    for j, rec_emb in enumerate(rec_embedding):\n",
        "        cosine_similarities[i][j] = round(torch.cosine_similarity(pep_emb.unsqueeze(0), rec_emb.unsqueeze(0)).detach().numpy()[0], 2)\n"
      ],
      "id": "RavNb8VK8S8f"
    },
    {
      "cell_type": "code",
      "execution_count": null,
      "metadata": {
        "colab": {
          "base_uri": "https://localhost:8080/"
        },
        "id": "L13a6N7R8U0T",
        "outputId": "7eb7aa9e-61a2-4f54-8f32-764824ae952c"
      },
      "outputs": [
        {
          "name": "stdout",
          "output_type": "stream",
          "text": [
            "32\n"
          ]
        }
      ],
      "source": [
        "print(len(cosine_similarities))"
      ],
      "id": "L13a6N7R8U0T"
    },
    {
      "cell_type": "code",
      "execution_count": null,
      "metadata": {
        "colab": {
          "base_uri": "https://localhost:8080/",
          "height": 492
        },
        "id": "laifsxwX8ahb",
        "outputId": "8be5d637-a036-4423-f06a-7eb47406a4a8"
      },
      "outputs": [
        {
          "data": {
            "image/png": "[encoded data removed]",
            "text/plain": [
              "<Figure size 640x480 with 2 Axes>"
            ]
          },
          "metadata": {},
          "output_type": "display_data"
        }
      ],
      "source": [
        "import matplotlib.pyplot as plt\n",
        "import numpy as np\n",
        "\n",
        "# a = np.random.random((batch_size, batch_size))\n",
        "# plt.imshow(cosine_similarities, cmap='hot', interpolation='nearest')\n",
        "\n",
        "fig, ax = plt.subplots()\n",
        "im = ax.imshow(cosine_similarities, vmin=-1, vmax=1)\n",
        "\n",
        "# for i in range(len(rec_embedding)):\n",
        "#     for j in range(len(pep_embedding)):\n",
        "#         text = ax.text(j, i, cosine_similarities[i][j],\n",
        "#                        ha=\"center\", va=\"center\", color=\"w\")\n",
        "\n",
        "for i, recval in enumerate(rec_batch):\n",
        "  if len(recval) > 5:\n",
        "    rec_batch[i] = recval[:5] + '...'\n",
        "\n",
        "for i, pepval in enumerate(pep_batch):\n",
        "  if len(pepval) > 5:\n",
        "    pep_batch[i] = pepval[:5] + '...'\n",
        "\n",
        "ax.set_xticks(np.arange(batch_size), labels=pep_batch)\n",
        "ax.set_yticks(np.arange(batch_size), labels=rec_batch)\n",
        "\n",
        "# Rotate the tick labels and set their alignment.\n",
        "plt.setp(ax.get_xticklabels(), rotation=45, ha=\"right\",\n",
        "         rotation_mode=\"anchor\")\n",
        "\n",
        "ax.set_title(\"Cosine Similarity Matrix\")\n",
        "plt.colorbar(im)\n",
        "# im = ax.imshow(cosine_similarities, vmin=-1, vmax=1)\n",
        "\n",
        "plt.show()"
      ],
      "id": "laifsxwX8ahb"
    },
    {
      "cell_type": "markdown",
      "metadata": {
        "id": "FOKJPcr3Wedi"
      },
      "source": [
        "### old vis part 2"
      ],
      "id": "FOKJPcr3Wedi"
    },
    {
      "cell_type": "code",
      "execution_count": null,
      "metadata": {
        "colab": {
          "base_uri": "https://localhost:8080/"
        },
        "id": "c4808ic7U8BU",
        "outputId": "4fd61830-82b2-4c73-9457-c5da03dd2300"
      },
      "outputs": [
        {
          "name": "stdout",
          "output_type": "stream",
          "text": [
            "tensor([[27.0904, 29.0739, 29.3262, 22.5194, 28.9205],\n",
            "        [27.2676, 29.0024, 29.0086, 23.7628, 29.9762],\n",
            "        [27.2676, 29.0024, 29.0086, 23.7628, 29.9762],\n",
            "        [24.0312, 27.5137, 28.0483, 19.5663, 25.5034],\n",
            "        [26.5028, 27.4826, 27.4031, 23.1295, 29.4795]], device='cuda:0')\n"
          ]
        }
      ],
      "source": [
        "print(raw_cosine_similarity_matrix[:5, :5])\n"
      ],
      "id": "c4808ic7U8BU"
    },
    {
      "cell_type": "code",
      "execution_count": null,
      "metadata": {
        "colab": {
          "base_uri": "https://localhost:8080/"
        },
        "id": "fcqC4VWUGeAy",
        "outputId": "80466e20-ed36-472c-cc06-c5f83b1302be"
      },
      "outputs": [
        {
          "data": {
            "text/plain": [
              "(21, 29)"
            ]
          },
          "execution_count": 206,
          "metadata": {},
          "output_type": "execute_result"
        }
      ],
      "source": [
        "# pep_tokenized.input_ids.detach().cpu().numpy().shape"
      ],
      "id": "fcqC4VWUGeAy"
    },
    {
      "cell_type": "code",
      "execution_count": null,
      "metadata": {
        "colab": {
          "base_uri": "https://localhost:8080/"
        },
        "id": "_gNVDaIDZXJf",
        "outputId": "77c1d5c7-fe82-4b32-c2cc-1c63e3407f31"
      },
      "outputs": [
        {
          "data": {
            "text/plain": [
              "(21, 667)"
            ]
          },
          "execution_count": 207,
          "metadata": {},
          "output_type": "execute_result"
        }
      ],
      "source": [
        "# rec_tokenized.input_ids.detach().cpu().numpy().shape"
      ],
      "id": "_gNVDaIDZXJf"
    },
    {
      "cell_type": "code",
      "execution_count": null,
      "metadata": {
        "colab": {
          "base_uri": "https://localhost:8080/",
          "height": 193
        },
        "id": "cNggZybNXHuk",
        "outputId": "218e4838-9eaf-47f7-aec8-5d62fc9b4a10"
      },
      "outputs": [
        {
          "ename": "AttributeError",
          "evalue": "ignored",
          "output_type": "error",
          "traceback": [
            "\u001b[0;31m---------------------------------------------------------------------------\u001b[0m",
            "\u001b[0;31mAttributeError\u001b[0m                            Traceback (most recent call last)",
            "\u001b[0;32m<ipython-input-218-56ef89db6914>\u001b[0m in \u001b[0;36m<cell line: 1>\u001b[0;34m()\u001b[0m\n\u001b[1;32m      1\u001b[0m \u001b[0;32mfor\u001b[0m \u001b[0mi\u001b[0m\u001b[0;34m,\u001b[0m \u001b[0mloss\u001b[0m \u001b[0;32min\u001b[0m \u001b[0menumerate\u001b[0m\u001b[0;34m(\u001b[0m\u001b[0mlosses\u001b[0m\u001b[0;34m)\u001b[0m\u001b[0;34m:\u001b[0m\u001b[0;34m\u001b[0m\u001b[0;34m\u001b[0m\u001b[0m\n\u001b[0;32m----> 2\u001b[0;31m   \u001b[0mlosses\u001b[0m\u001b[0;34m[\u001b[0m\u001b[0mi\u001b[0m\u001b[0;34m]\u001b[0m \u001b[0;34m=\u001b[0m \u001b[0mlosses\u001b[0m\u001b[0;34m[\u001b[0m\u001b[0mi\u001b[0m\u001b[0;34m]\u001b[0m\u001b[0;34m.\u001b[0m\u001b[0mdetach\u001b[0m\u001b[0;34m(\u001b[0m\u001b[0;34m)\u001b[0m\u001b[0;34m.\u001b[0m\u001b[0mcpu\u001b[0m\u001b[0;34m(\u001b[0m\u001b[0;34m)\u001b[0m\u001b[0;34m.\u001b[0m\u001b[0mnumpy\u001b[0m\u001b[0;34m(\u001b[0m\u001b[0;34m)\u001b[0m\u001b[0;34m[\u001b[0m\u001b[0;36m0\u001b[0m\u001b[0;34m]\u001b[0m\u001b[0;34m\u001b[0m\u001b[0;34m\u001b[0m\u001b[0m\n\u001b[0m",
            "\u001b[0;31mAttributeError\u001b[0m: 'numpy.ndarray' object has no attribute 'detach'"
          ]
        }
      ],
      "source": [
        "# for i, loss in enumerate(losses):\n",
        "  # losses[i] = losses[i].detach().cpu().numpy()"
      ],
      "id": "cNggZybNXHuk"
    },
    {
      "cell_type": "code",
      "execution_count": null,
      "metadata": {
        "colab": {
          "base_uri": "https://localhost:8080/"
        },
        "id": "IVFL7vLmawFd",
        "outputId": "92f11ece-7f94-4fcd-bf98-0fa7cb23053b"
      },
      "outputs": [
        {
          "data": {
            "text/plain": [
              "[array(3.4478683, dtype=float32),\n",
              " array(3.454324, dtype=float32),\n",
              " array(3.4621668, dtype=float32),\n",
              " array(3.4579875, dtype=float32),\n",
              " array(3.457817, dtype=float32),\n",
              " array(3.45263, dtype=float32),\n",
              " array(3.4454365, dtype=float32),\n",
              " array(3.445618, dtype=float32),\n",
              " array(3.4455502, dtype=float32),\n",
              " array(3.4402013, dtype=float32),\n",
              " array(3.4496312, dtype=float32),\n",
              " array(3.4462962, dtype=float32),\n",
              " array(3.4275775, dtype=float32),\n",
              " array(3.4527836, dtype=float32),\n",
              " array(3.4548857, dtype=float32),\n",
              " array(3.4576502, dtype=float32),\n",
              " array(3.4262807, dtype=float32),\n",
              " array(3.4636912, dtype=float32),\n",
              " array(3.3870392, dtype=float32),\n",
              " array(3.421272, dtype=float32),\n",
              " array(3.4062018, dtype=float32),\n",
              " array(3.4579222, dtype=float32),\n",
              " array(3.4401958, dtype=float32),\n",
              " array(3.4219954, dtype=float32),\n",
              " array(3.4176846, dtype=float32),\n",
              " array(3.4459796, dtype=float32),\n",
              " array(3.42452, dtype=float32),\n",
              " array(3.3708713, dtype=float32),\n",
              " array(3.3589969, dtype=float32),\n",
              " array(3.3236105, dtype=float32),\n",
              " array(3.3450682, dtype=float32),\n",
              " array(3.2772145, dtype=float32),\n",
              " array(3.3130403, dtype=float32),\n",
              " array(3.3308485, dtype=float32),\n",
              " array(3.3038352, dtype=float32),\n",
              " array(3.3404655, dtype=float32),\n",
              " array(3.3609524, dtype=float32),\n",
              " array(3.2355278, dtype=float32),\n",
              " array(3.3371873, dtype=float32),\n",
              " array(3.276475, dtype=float32),\n",
              " array(3.397205, dtype=float32),\n",
              " array(3.335342, dtype=float32),\n",
              " array(3.287748, dtype=float32),\n",
              " array(3.2889528, dtype=float32),\n",
              " array(3.267034, dtype=float32),\n",
              " array(3.2921143, dtype=float32),\n",
              " array(3.2749624, dtype=float32),\n",
              " array(3.2486084, dtype=float32),\n",
              " array(3.3522284, dtype=float32),\n",
              " array(3.0523086, dtype=float32),\n",
              " array(3.1379638, dtype=float32),\n",
              " array(3.3225338, dtype=float32),\n",
              " array(3.2873113, dtype=float32),\n",
              " array(3.2785707, dtype=float32),\n",
              " array(3.0194068, dtype=float32),\n",
              " array(3.3381763, dtype=float32),\n",
              " array(3.2164054, dtype=float32),\n",
              " array(3.300148, dtype=float32),\n",
              " array(3.1136417, dtype=float32),\n",
              " array(3.2237215, dtype=float32),\n",
              " array(3.1231666, dtype=float32),\n",
              " array(3.2165685, dtype=float32),\n",
              " array(3.1629992, dtype=float32),\n",
              " array(3.1020575, dtype=float32),\n",
              " array(3.2290792, dtype=float32),\n",
              " array(3.11002, dtype=float32),\n",
              " array(3.2165916, dtype=float32),\n",
              " array(3.1756043, dtype=float32),\n",
              " array(3.0573728, dtype=float32),\n",
              " array(3.2070165, dtype=float32),\n",
              " array(3.107808, dtype=float32),\n",
              " array(3.1071854, dtype=float32),\n",
              " array(3.14496, dtype=float32),\n",
              " array(3.2576406, dtype=float32),\n",
              " array(3.1336503, dtype=float32),\n",
              " array(3.181601, dtype=float32),\n",
              " array(3.1326585, dtype=float32),\n",
              " array(3.2797775, dtype=float32),\n",
              " array(3.0720935, dtype=float32),\n",
              " array(3.0603867, dtype=float32),\n",
              " array(3.0853503, dtype=float32),\n",
              " array(3.1830878, dtype=float32),\n",
              " array(2.9580543, dtype=float32),\n",
              " array(3.016963, dtype=float32),\n",
              " array(3.0733554, dtype=float32),\n",
              " array(3.101339, dtype=float32),\n",
              " array(3.1289282, dtype=float32),\n",
              " array(3.2322118, dtype=float32),\n",
              " array(3.1819272, dtype=float32),\n",
              " array(3.059708, dtype=float32),\n",
              " array(3.004839, dtype=float32),\n",
              " array(3.1050923, dtype=float32),\n",
              " array(3.1913881, dtype=float32),\n",
              " array(3.2234797, dtype=float32),\n",
              " array(3.1160102, dtype=float32),\n",
              " array(3.0269866, dtype=float32),\n",
              " array(3.1328819, dtype=float32),\n",
              " array(3.0621557, dtype=float32),\n",
              " array(3.103426, dtype=float32),\n",
              " array(3.0413237, dtype=float32),\n",
              " array(3.0704432, dtype=float32),\n",
              " array(3.1602097, dtype=float32),\n",
              " array(3.1697612, dtype=float32),\n",
              " array(3.1650448, dtype=float32),\n",
              " array(3.1807861, dtype=float32),\n",
              " array(3.0081818, dtype=float32),\n",
              " array(2.9573321, dtype=float32),\n",
              " array(3.1758134, dtype=float32),\n",
              " array(3.057241, dtype=float32),\n",
              " array(2.9757824, dtype=float32),\n",
              " array(2.9545617, dtype=float32),\n",
              " array(3.0700896, dtype=float32),\n",
              " array(3.0979433, dtype=float32),\n",
              " array(2.9423175, dtype=float32),\n",
              " array(2.9852188, dtype=float32),\n",
              " array(2.9348638, dtype=float32),\n",
              " array(3.0765998, dtype=float32),\n",
              " array(3.0212965, dtype=float32),\n",
              " array(3.0473576, dtype=float32),\n",
              " array(3.2584307, dtype=float32),\n",
              " array(3.0477896, dtype=float32),\n",
              " array(3.0818124, dtype=float32),\n",
              " array(2.92625, dtype=float32),\n",
              " array(2.9855542, dtype=float32),\n",
              " array(3.1084642, dtype=float32),\n",
              " array(3.141793, dtype=float32),\n",
              " array(2.893107, dtype=float32),\n",
              " array(3.0293357, dtype=float32),\n",
              " array(3.0020533, dtype=float32),\n",
              " array(2.8847947, dtype=float32),\n",
              " array(3.01097, dtype=float32),\n",
              " array(3.1717854, dtype=float32),\n",
              " array(2.9947104, dtype=float32),\n",
              " array(3.0405922, dtype=float32),\n",
              " array(2.915341, dtype=float32),\n",
              " array(3.078906, dtype=float32),\n",
              " array(3.0481455, dtype=float32),\n",
              " array(2.955823, dtype=float32),\n",
              " array(2.9110398, dtype=float32),\n",
              " array(2.9865055, dtype=float32),\n",
              " array(2.8682494, dtype=float32),\n",
              " array(3.099479, dtype=float32),\n",
              " array(3.0077794, dtype=float32),\n",
              " array(3.0585742, dtype=float32),\n",
              " array(3.0896716, dtype=float32),\n",
              " array(3.0939865, dtype=float32),\n",
              " array(3.0269089, dtype=float32),\n",
              " array(3.0836077, dtype=float32),\n",
              " array(2.9920068, dtype=float32),\n",
              " array(3.099088, dtype=float32),\n",
              " array(3.095327, dtype=float32),\n",
              " array(2.8565779, dtype=float32),\n",
              " array(2.9658022, dtype=float32),\n",
              " array(2.8709288, dtype=float32),\n",
              " array(3.0839405, dtype=float32),\n",
              " array(2.9781728, dtype=float32),\n",
              " array(3.1049752, dtype=float32),\n",
              " array(3.1852791, dtype=float32),\n",
              " array(3.1076312, dtype=float32),\n",
              " array(2.8813705, dtype=float32),\n",
              " array(3.0665193, dtype=float32),\n",
              " array(2.8943963, dtype=float32),\n",
              " array(3.157918, dtype=float32),\n",
              " array(2.9484649, dtype=float32),\n",
              " array(3.1458101, dtype=float32),\n",
              " array(3.0793653, dtype=float32),\n",
              " array(3.0670218, dtype=float32),\n",
              " array(3.1526163, dtype=float32),\n",
              " array(2.8870738, dtype=float32),\n",
              " array(2.9915228, dtype=float32),\n",
              " array(3.0995948, dtype=float32),\n",
              " array(2.9791145, dtype=float32),\n",
              " array(3.0267572, dtype=float32),\n",
              " array(2.9572864, dtype=float32),\n",
              " array(3.048827, dtype=float32),\n",
              " array(3.0765917, dtype=float32),\n",
              " array(2.8848057, dtype=float32),\n",
              " array(2.961889, dtype=float32),\n",
              " array(2.8341703, dtype=float32),\n",
              " array(3.0567765, dtype=float32),\n",
              " array(3.0988662, dtype=float32),\n",
              " array(2.9596825, dtype=float32),\n",
              " array(3.1518495, dtype=float32),\n",
              " array(3.0484638, dtype=float32),\n",
              " array(2.8934655, dtype=float32),\n",
              " array(2.9950538, dtype=float32),\n",
              " array(3.0280976, dtype=float32),\n",
              " array(2.943694, dtype=float32),\n",
              " array(3.043395, dtype=float32),\n",
              " array(3.0268936, dtype=float32),\n",
              " array(3.0260127, dtype=float32),\n",
              " array(3.159069, dtype=float32),\n",
              " array(2.979733, dtype=float32),\n",
              " array(3.0091853, dtype=float32),\n",
              " array(2.9165463, dtype=float32),\n",
              " array(2.9509463, dtype=float32),\n",
              " array(3.148582, dtype=float32),\n",
              " array(2.7672668, dtype=float32),\n",
              " array(3.0160615, dtype=float32),\n",
              " array(2.8287914, dtype=float32),\n",
              " array(2.9687202, dtype=float32),\n",
              " array(2.9412346, dtype=float32),\n",
              " array(2.8851476, dtype=float32),\n",
              " array(2.9742484, dtype=float32),\n",
              " array(3.194921, dtype=float32),\n",
              " array(3.0253723, dtype=float32),\n",
              " array(2.957807, dtype=float32),\n",
              " array(2.8805356, dtype=float32),\n",
              " array(2.9740076, dtype=float32),\n",
              " array(2.9795814, dtype=float32),\n",
              " array(2.9777155, dtype=float32),\n",
              " array(3.0031326, dtype=float32),\n",
              " array(2.951308, dtype=float32),\n",
              " array(3.024452, dtype=float32),\n",
              " array(2.836925, dtype=float32),\n",
              " array(2.8314357, dtype=float32),\n",
              " array(3.1563802, dtype=float32),\n",
              " array(2.9984314, dtype=float32),\n",
              " array(2.9821434, dtype=float32),\n",
              " array(3.147861, dtype=float32),\n",
              " array(2.8614311, dtype=float32),\n",
              " array(3.0397172, dtype=float32),\n",
              " array(3.0400555, dtype=float32),\n",
              " array(3.0019662, dtype=float32),\n",
              " array(2.969262, dtype=float32),\n",
              " array(2.8409443, dtype=float32),\n",
              " array(2.7780538, dtype=float32),\n",
              " array(2.9956698, dtype=float32),\n",
              " array(3.006153, dtype=float32),\n",
              " array(2.856215, dtype=float32),\n",
              " array(2.8806639, dtype=float32),\n",
              " array(3.15199, dtype=float32),\n",
              " array(2.9589174, dtype=float32),\n",
              " array(3.1419582, dtype=float32),\n",
              " array(2.8388178, dtype=float32),\n",
              " array(3.0240717, dtype=float32),\n",
              " array(2.9278026, dtype=float32),\n",
              " array(3.052503, dtype=float32),\n",
              " array(3.026904, dtype=float32),\n",
              " array(2.8453457, dtype=float32),\n",
              " array(2.8962855, dtype=float32),\n",
              " array(3.0525277, dtype=float32),\n",
              " array(2.7500944, dtype=float32),\n",
              " array(3.077444, dtype=float32),\n",
              " array(2.8667285, dtype=float32),\n",
              " array(2.8466187, dtype=float32),\n",
              " array(2.8975143, dtype=float32),\n",
              " array(2.8794966, dtype=float32),\n",
              " array(2.9476135, dtype=float32),\n",
              " array(3.027699, dtype=float32),\n",
              " array(3.0293882, dtype=float32),\n",
              " array(3.0713928, dtype=float32),\n",
              " array(2.7996736, dtype=float32),\n",
              " array(2.8462896, dtype=float32),\n",
              " array(2.873022, dtype=float32),\n",
              " array(3.0769978, dtype=float32),\n",
              " array(2.904777, dtype=float32),\n",
              " array(2.8463843, dtype=float32),\n",
              " array(2.9176912, dtype=float32),\n",
              " array(2.8652682, dtype=float32),\n",
              " array(2.692388, dtype=float32),\n",
              " array(2.8246672, dtype=float32),\n",
              " array(2.8154714, dtype=float32),\n",
              " array(3.1123033, dtype=float32),\n",
              " array(2.8982687, dtype=float32),\n",
              " array(2.9092379, dtype=float32),\n",
              " array(2.9455702, dtype=float32),\n",
              " array(3.1414258, dtype=float32),\n",
              " array(3.0355492, dtype=float32),\n",
              " array(2.7733898, dtype=float32),\n",
              " array(2.93086, dtype=float32),\n",
              " array(3.0145264, dtype=float32),\n",
              " array(2.9734511, dtype=float32),\n",
              " array(2.9216971, dtype=float32),\n",
              " array(2.9847646, dtype=float32),\n",
              " array(3.0502048, dtype=float32),\n",
              " array(2.9723203, dtype=float32),\n",
              " array(3.0313783, dtype=float32),\n",
              " array(2.859885, dtype=float32),\n",
              " array(2.9625673, dtype=float32),\n",
              " array(2.7888422, dtype=float32),\n",
              " array(2.972581, dtype=float32),\n",
              " array(3.0315852, dtype=float32),\n",
              " array(2.7990322, dtype=float32),\n",
              " array(3.1595645, dtype=float32),\n",
              " array(2.9592197, dtype=float32),\n",
              " array(2.831817, dtype=float32),\n",
              " array(2.911796, dtype=float32),\n",
              " array(2.8304882, dtype=float32),\n",
              " array(2.899075, dtype=float32),\n",
              " array(2.931817, dtype=float32),\n",
              " array(2.8579025, dtype=float32),\n",
              " array(2.8927674, dtype=float32),\n",
              " array(2.9699638, dtype=float32),\n",
              " array(2.8933344, dtype=float32),\n",
              " array(2.9839756, dtype=float32),\n",
              " array(2.8226087, dtype=float32),\n",
              " array(2.8371396, dtype=float32),\n",
              " array(3.1039543, dtype=float32),\n",
              " array(2.855525, dtype=float32),\n",
              " array(2.929823, dtype=float32),\n",
              " array(2.773911, dtype=float32),\n",
              " array(2.9276724, dtype=float32),\n",
              " array(2.9389424, dtype=float32),\n",
              " array(2.8677669, dtype=float32),\n",
              " array(2.814415, dtype=float32),\n",
              " array(2.9211946, dtype=float32),\n",
              " array(2.9022791, dtype=float32),\n",
              " array(2.9950686, dtype=float32),\n",
              " array(2.9023368, dtype=float32),\n",
              " array(3.0404782, dtype=float32),\n",
              " array(2.945755, dtype=float32),\n",
              " array(2.7451677, dtype=float32),\n",
              " array(3.1265886, dtype=float32),\n",
              " array(3.0937815, dtype=float32),\n",
              " array(2.822204, dtype=float32),\n",
              " array(3.0860863, dtype=float32),\n",
              " array(3.1288614, dtype=float32),\n",
              " array(2.884518, dtype=float32),\n",
              " array(3.0253162, dtype=float32),\n",
              " array(2.810082, dtype=float32),\n",
              " array(2.8906202, dtype=float32),\n",
              " array(2.7581682, dtype=float32),\n",
              " array(2.8444498, dtype=float32),\n",
              " array(2.7583313, dtype=float32),\n",
              " array(2.7685673, dtype=float32),\n",
              " array(3.0721755, dtype=float32),\n",
              " array(3.0232143, dtype=float32),\n",
              " array(3.0292032, dtype=float32),\n",
              " array(2.7649336, dtype=float32)]"
            ]
          },
          "execution_count": 219,
          "metadata": {},
          "output_type": "execute_result"
        }
      ],
      "source": [],
      "id": "IVFL7vLmawFd"
    },
    {
      "cell_type": "code",
      "execution_count": null,
      "metadata": {
        "id": "DVdz5G96KIkT"
      },
      "outputs": [],
      "source": [
        "from google.colab import drive\n",
        "drive.mount('/content/gdrive')\n",
        "PATH = F\"/content/gdrive/My Drive/clip/firstrun\"\n",
        "\n",
        "torch.save(best_model, PATH)"
      ],
      "id": "DVdz5G96KIkT"
    }
  ],
  "metadata": {
    "accelerator": "GPU",
    "colab": {
      "collapsed_sections": [
        "TDP1O7jfw3r-",
        "FOKJPcr3Wedi"
      ],
      "provenance": [],
      "include_colab_link": true
    },
    "kernelspec": {
      "display_name": "Python 3",
      "name": "python3"
    },
    "language_info": {
      "codemirror_mode": {
        "name": "ipython",
        "version": 3
      },
      "file_extension": ".py",
      "mimetype": "text/x-python",
      "name": "python",
      "nbconvert_exporter": "python",
      "pygments_lexer": "ipython3",
      "version": "3.9.13"
    },
    "widgets": {
      "application/vnd.jupyter.widget-state+json": {
        "02ed16d1c28346cd8938ee0a36e749b9": {
          "model_module": "@jupyter-widgets/controls",
          "model_name": "HBoxModel",
          "model_module_version": "1.5.0",
          "state": {
            "_dom_classes": [],
            "_model_module": "@jupyter-widgets/controls",
            "_model_module_version": "1.5.0",
            "_model_name": "HBoxModel",
            "_view_count": null,
            "_view_module": "@jupyter-widgets/controls",
            "_view_module_version": "1.5.0",
            "_view_name": "HBoxView",
            "box_style": "",
            "children": [
              "IPY_MODEL_a9c92034681548789483425283abff6d",
              "IPY_MODEL_975208b20c6d499a9296b7ff0ecc384b",
              "IPY_MODEL_c0589b3db3564bdc8193207792c31d6b"
            ],
            "layout": "IPY_MODEL_22b918a8f0624b60b42f52850aaf54a0"
          }
        },
        "a9c92034681548789483425283abff6d": {
          "model_module": "@jupyter-widgets/controls",
          "model_name": "HTMLModel",
          "model_module_version": "1.5.0",
          "state": {
            "_dom_classes": [],
            "_model_module": "@jupyter-widgets/controls",
            "_model_module_version": "1.5.0",
            "_model_name": "HTMLModel",
            "_view_count": null,
            "_view_module": "@jupyter-widgets/controls",
            "_view_module_version": "1.5.0",
            "_view_name": "HTMLView",
            "description": "",
            "description_tooltip": null,
            "layout": "IPY_MODEL_e7daae43588149e0938f47e2dcab3952",
            "placeholder": "​",
            "style": "IPY_MODEL_f22646d382ec4ed384a9a5457164d1ba",
            "value": "Downloading (…)okenizer_config.json: 100%"
          }
        },
        "975208b20c6d499a9296b7ff0ecc384b": {
          "model_module": "@jupyter-widgets/controls",
          "model_name": "FloatProgressModel",
          "model_module_version": "1.5.0",
          "state": {
            "_dom_classes": [],
            "_model_module": "@jupyter-widgets/controls",
            "_model_module_version": "1.5.0",
            "_model_name": "FloatProgressModel",
            "_view_count": null,
            "_view_module": "@jupyter-widgets/controls",
            "_view_module_version": "1.5.0",
            "_view_name": "ProgressView",
            "bar_style": "success",
            "description": "",
            "description_tooltip": null,
            "layout": "IPY_MODEL_59adcb114296485eafacf7a1a4a9ad13",
            "max": 95,
            "min": 0,
            "orientation": "horizontal",
            "style": "IPY_MODEL_516e3513241e4ea2ae75a978abd13d6c",
            "value": 95
          }
        },
        "c0589b3db3564bdc8193207792c31d6b": {
          "model_module": "@jupyter-widgets/controls",
          "model_name": "HTMLModel",
          "model_module_version": "1.5.0",
          "state": {
            "_dom_classes": [],
            "_model_module": "@jupyter-widgets/controls",
            "_model_module_version": "1.5.0",
            "_model_name": "HTMLModel",
            "_view_count": null,
            "_view_module": "@jupyter-widgets/controls",
            "_view_module_version": "1.5.0",
            "_view_name": "HTMLView",
            "description": "",
            "description_tooltip": null,
            "layout": "IPY_MODEL_edfa6070e809407db49399e4004190f1",
            "placeholder": "​",
            "style": "IPY_MODEL_10e99ede9f184dfe951d9b65fdf9aaae",
            "value": " 95.0/95.0 [00:00&lt;00:00, 1.72kB/s]"
          }
        },
        "22b918a8f0624b60b42f52850aaf54a0": {
          "model_module": "@jupyter-widgets/base",
          "model_name": "LayoutModel",
          "model_module_version": "1.2.0",
          "state": {
            "_model_module": "@jupyter-widgets/base",
            "_model_module_version": "1.2.0",
            "_model_name": "LayoutModel",
            "_view_count": null,
            "_view_module": "@jupyter-widgets/base",
            "_view_module_version": "1.2.0",
            "_view_name": "LayoutView",
            "align_content": null,
            "align_items": null,
            "align_self": null,
            "border": null,
            "bottom": null,
            "display": null,
            "flex": null,
            "flex_flow": null,
            "grid_area": null,
            "grid_auto_columns": null,
            "grid_auto_flow": null,
            "grid_auto_rows": null,
            "grid_column": null,
            "grid_gap": null,
            "grid_row": null,
            "grid_template_areas": null,
            "grid_template_columns": null,
            "grid_template_rows": null,
            "height": null,
            "justify_content": null,
            "justify_items": null,
            "left": null,
            "margin": null,
            "max_height": null,
            "max_width": null,
            "min_height": null,
            "min_width": null,
            "object_fit": null,
            "object_position": null,
            "order": null,
            "overflow": null,
            "overflow_x": null,
            "overflow_y": null,
            "padding": null,
            "right": null,
            "top": null,
            "visibility": null,
            "width": null
          }
        },
        "e7daae43588149e0938f47e2dcab3952": {
          "model_module": "@jupyter-widgets/base",
          "model_name": "LayoutModel",
          "model_module_version": "1.2.0",
          "state": {
            "_model_module": "@jupyter-widgets/base",
            "_model_module_version": "1.2.0",
            "_model_name": "LayoutModel",
            "_view_count": null,
            "_view_module": "@jupyter-widgets/base",
            "_view_module_version": "1.2.0",
            "_view_name": "LayoutView",
            "align_content": null,
            "align_items": null,
            "align_self": null,
            "border": null,
            "bottom": null,
            "display": null,
            "flex": null,
            "flex_flow": null,
            "grid_area": null,
            "grid_auto_columns": null,
            "grid_auto_flow": null,
            "grid_auto_rows": null,
            "grid_column": null,
            "grid_gap": null,
            "grid_row": null,
            "grid_template_areas": null,
            "grid_template_columns": null,
            "grid_template_rows": null,
            "height": null,
            "justify_content": null,
            "justify_items": null,
            "left": null,
            "margin": null,
            "max_height": null,
            "max_width": null,
            "min_height": null,
            "min_width": null,
            "object_fit": null,
            "object_position": null,
            "order": null,
            "overflow": null,
            "overflow_x": null,
            "overflow_y": null,
            "padding": null,
            "right": null,
            "top": null,
            "visibility": null,
            "width": null
          }
        },
        "f22646d382ec4ed384a9a5457164d1ba": {
          "model_module": "@jupyter-widgets/controls",
          "model_name": "DescriptionStyleModel",
          "model_module_version": "1.5.0",
          "state": {
            "_model_module": "@jupyter-widgets/controls",
            "_model_module_version": "1.5.0",
            "_model_name": "DescriptionStyleModel",
            "_view_count": null,
            "_view_module": "@jupyter-widgets/base",
            "_view_module_version": "1.2.0",
            "_view_name": "StyleView",
            "description_width": ""
          }
        },
        "59adcb114296485eafacf7a1a4a9ad13": {
          "model_module": "@jupyter-widgets/base",
          "model_name": "LayoutModel",
          "model_module_version": "1.2.0",
          "state": {
            "_model_module": "@jupyter-widgets/base",
            "_model_module_version": "1.2.0",
            "_model_name": "LayoutModel",
            "_view_count": null,
            "_view_module": "@jupyter-widgets/base",
            "_view_module_version": "1.2.0",
            "_view_name": "LayoutView",
            "align_content": null,
            "align_items": null,
            "align_self": null,
            "border": null,
            "bottom": null,
            "display": null,
            "flex": null,
            "flex_flow": null,
            "grid_area": null,
            "grid_auto_columns": null,
            "grid_auto_flow": null,
            "grid_auto_rows": null,
            "grid_column": null,
            "grid_gap": null,
            "grid_row": null,
            "grid_template_areas": null,
            "grid_template_columns": null,
            "grid_template_rows": null,
            "height": null,
            "justify_content": null,
            "justify_items": null,
            "left": null,
            "margin": null,
            "max_height": null,
            "max_width": null,
            "min_height": null,
            "min_width": null,
            "object_fit": null,
            "object_position": null,
            "order": null,
            "overflow": null,
            "overflow_x": null,
            "overflow_y": null,
            "padding": null,
            "right": null,
            "top": null,
            "visibility": null,
            "width": null
          }
        },
        "516e3513241e4ea2ae75a978abd13d6c": {
          "model_module": "@jupyter-widgets/controls",
          "model_name": "ProgressStyleModel",
          "model_module_version": "1.5.0",
          "state": {
            "_model_module": "@jupyter-widgets/controls",
            "_model_module_version": "1.5.0",
            "_model_name": "ProgressStyleModel",
            "_view_count": null,
            "_view_module": "@jupyter-widgets/base",
            "_view_module_version": "1.2.0",
            "_view_name": "StyleView",
            "bar_color": null,
            "description_width": ""
          }
        },
        "edfa6070e809407db49399e4004190f1": {
          "model_module": "@jupyter-widgets/base",
          "model_name": "LayoutModel",
          "model_module_version": "1.2.0",
          "state": {
            "_model_module": "@jupyter-widgets/base",
            "_model_module_version": "1.2.0",
            "_model_name": "LayoutModel",
            "_view_count": null,
            "_view_module": "@jupyter-widgets/base",
            "_view_module_version": "1.2.0",
            "_view_name": "LayoutView",
            "align_content": null,
            "align_items": null,
            "align_self": null,
            "border": null,
            "bottom": null,
            "display": null,
            "flex": null,
            "flex_flow": null,
            "grid_area": null,
            "grid_auto_columns": null,
            "grid_auto_flow": null,
            "grid_auto_rows": null,
            "grid_column": null,
            "grid_gap": null,
            "grid_row": null,
            "grid_template_areas": null,
            "grid_template_columns": null,
            "grid_template_rows": null,
            "height": null,
            "justify_content": null,
            "justify_items": null,
            "left": null,
            "margin": null,
            "max_height": null,
            "max_width": null,
            "min_height": null,
            "min_width": null,
            "object_fit": null,
            "object_position": null,
            "order": null,
            "overflow": null,
            "overflow_x": null,
            "overflow_y": null,
            "padding": null,
            "right": null,
            "top": null,
            "visibility": null,
            "width": null
          }
        },
        "10e99ede9f184dfe951d9b65fdf9aaae": {
          "model_module": "@jupyter-widgets/controls",
          "model_name": "DescriptionStyleModel",
          "model_module_version": "1.5.0",
          "state": {
            "_model_module": "@jupyter-widgets/controls",
            "_model_module_version": "1.5.0",
            "_model_name": "DescriptionStyleModel",
            "_view_count": null,
            "_view_module": "@jupyter-widgets/base",
            "_view_module_version": "1.2.0",
            "_view_name": "StyleView",
            "description_width": ""
          }
        },
        "2d6bedbcbfde40c398dcc43c3f785373": {
          "model_module": "@jupyter-widgets/controls",
          "model_name": "HBoxModel",
          "model_module_version": "1.5.0",
          "state": {
            "_dom_classes": [],
            "_model_module": "@jupyter-widgets/controls",
            "_model_module_version": "1.5.0",
            "_model_name": "HBoxModel",
            "_view_count": null,
            "_view_module": "@jupyter-widgets/controls",
            "_view_module_version": "1.5.0",
            "_view_name": "HBoxView",
            "box_style": "",
            "children": [
              "IPY_MODEL_e6a4b9e788834909b1597dcf5ca03030",
              "IPY_MODEL_696cf3d8de154220abe1f4dad19b7326",
              "IPY_MODEL_6fee9287269440fdb8e8e925ab1836a8"
            ],
            "layout": "IPY_MODEL_d24e4cde53f84e7dabb74559f2265342"
          }
        },
        "e6a4b9e788834909b1597dcf5ca03030": {
          "model_module": "@jupyter-widgets/controls",
          "model_name": "HTMLModel",
          "model_module_version": "1.5.0",
          "state": {
            "_dom_classes": [],
            "_model_module": "@jupyter-widgets/controls",
            "_model_module_version": "1.5.0",
            "_model_name": "HTMLModel",
            "_view_count": null,
            "_view_module": "@jupyter-widgets/controls",
            "_view_module_version": "1.5.0",
            "_view_name": "HTMLView",
            "description": "",
            "description_tooltip": null,
            "layout": "IPY_MODEL_52aee17cacf64d38a5e5d5d81ddd09e8",
            "placeholder": "​",
            "style": "IPY_MODEL_47e78349d4e54fd8b0ac8ae1d19f09dd",
            "value": "Downloading (…)solve/main/vocab.txt: 100%"
          }
        },
        "696cf3d8de154220abe1f4dad19b7326": {
          "model_module": "@jupyter-widgets/controls",
          "model_name": "FloatProgressModel",
          "model_module_version": "1.5.0",
          "state": {
            "_dom_classes": [],
            "_model_module": "@jupyter-widgets/controls",
            "_model_module_version": "1.5.0",
            "_model_name": "FloatProgressModel",
            "_view_count": null,
            "_view_module": "@jupyter-widgets/controls",
            "_view_module_version": "1.5.0",
            "_view_name": "ProgressView",
            "bar_style": "success",
            "description": "",
            "description_tooltip": null,
            "layout": "IPY_MODEL_2d0dc2ed80b94bf18e6d929b67c0ab89",
            "max": 93,
            "min": 0,
            "orientation": "horizontal",
            "style": "IPY_MODEL_04ecbe7ea4c24355b3c8a192b4fb2f59",
            "value": 93
          }
        },
        "6fee9287269440fdb8e8e925ab1836a8": {
          "model_module": "@jupyter-widgets/controls",
          "model_name": "HTMLModel",
          "model_module_version": "1.5.0",
          "state": {
            "_dom_classes": [],
            "_model_module": "@jupyter-widgets/controls",
            "_model_module_version": "1.5.0",
            "_model_name": "HTMLModel",
            "_view_count": null,
            "_view_module": "@jupyter-widgets/controls",
            "_view_module_version": "1.5.0",
            "_view_name": "HTMLView",
            "description": "",
            "description_tooltip": null,
            "layout": "IPY_MODEL_2adccb46e4ce42ce92acf097c2e076d8",
            "placeholder": "​",
            "style": "IPY_MODEL_ff4a3e6d316a470ebe79a6b5db1fc2c4",
            "value": " 93.0/93.0 [00:00&lt;00:00, 1.93kB/s]"
          }
        },
        "d24e4cde53f84e7dabb74559f2265342": {
          "model_module": "@jupyter-widgets/base",
          "model_name": "LayoutModel",
          "model_module_version": "1.2.0",
          "state": {
            "_model_module": "@jupyter-widgets/base",
            "_model_module_version": "1.2.0",
            "_model_name": "LayoutModel",
            "_view_count": null,
            "_view_module": "@jupyter-widgets/base",
            "_view_module_version": "1.2.0",
            "_view_name": "LayoutView",
            "align_content": null,
            "align_items": null,
            "align_self": null,
            "border": null,
            "bottom": null,
            "display": null,
            "flex": null,
            "flex_flow": null,
            "grid_area": null,
            "grid_auto_columns": null,
            "grid_auto_flow": null,
            "grid_auto_rows": null,
            "grid_column": null,
            "grid_gap": null,
            "grid_row": null,
            "grid_template_areas": null,
            "grid_template_columns": null,
            "grid_template_rows": null,
            "height": null,
            "justify_content": null,
            "justify_items": null,
            "left": null,
            "margin": null,
            "max_height": null,
            "max_width": null,
            "min_height": null,
            "min_width": null,
            "object_fit": null,
            "object_position": null,
            "order": null,
            "overflow": null,
            "overflow_x": null,
            "overflow_y": null,
            "padding": null,
            "right": null,
            "top": null,
            "visibility": null,
            "width": null
          }
        },
        "52aee17cacf64d38a5e5d5d81ddd09e8": {
          "model_module": "@jupyter-widgets/base",
          "model_name": "LayoutModel",
          "model_module_version": "1.2.0",
          "state": {
            "_model_module": "@jupyter-widgets/base",
            "_model_module_version": "1.2.0",
            "_model_name": "LayoutModel",
            "_view_count": null,
            "_view_module": "@jupyter-widgets/base",
            "_view_module_version": "1.2.0",
            "_view_name": "LayoutView",
            "align_content": null,
            "align_items": null,
            "align_self": null,
            "border": null,
            "bottom": null,
            "display": null,
            "flex": null,
            "flex_flow": null,
            "grid_area": null,
            "grid_auto_columns": null,
            "grid_auto_flow": null,
            "grid_auto_rows": null,
            "grid_column": null,
            "grid_gap": null,
            "grid_row": null,
            "grid_template_areas": null,
            "grid_template_columns": null,
            "grid_template_rows": null,
            "height": null,
            "justify_content": null,
            "justify_items": null,
            "left": null,
            "margin": null,
            "max_height": null,
            "max_width": null,
            "min_height": null,
            "min_width": null,
            "object_fit": null,
            "object_position": null,
            "order": null,
            "overflow": null,
            "overflow_x": null,
            "overflow_y": null,
            "padding": null,
            "right": null,
            "top": null,
            "visibility": null,
            "width": null
          }
        },
        "47e78349d4e54fd8b0ac8ae1d19f09dd": {
          "model_module": "@jupyter-widgets/controls",
          "model_name": "DescriptionStyleModel",
          "model_module_version": "1.5.0",
          "state": {
            "_model_module": "@jupyter-widgets/controls",
            "_model_module_version": "1.5.0",
            "_model_name": "DescriptionStyleModel",
            "_view_count": null,
            "_view_module": "@jupyter-widgets/base",
            "_view_module_version": "1.2.0",
            "_view_name": "StyleView",
            "description_width": ""
          }
        },
        "2d0dc2ed80b94bf18e6d929b67c0ab89": {
          "model_module": "@jupyter-widgets/base",
          "model_name": "LayoutModel",
          "model_module_version": "1.2.0",
          "state": {
            "_model_module": "@jupyter-widgets/base",
            "_model_module_version": "1.2.0",
            "_model_name": "LayoutModel",
            "_view_count": null,
            "_view_module": "@jupyter-widgets/base",
            "_view_module_version": "1.2.0",
            "_view_name": "LayoutView",
            "align_content": null,
            "align_items": null,
            "align_self": null,
            "border": null,
            "bottom": null,
            "display": null,
            "flex": null,
            "flex_flow": null,
            "grid_area": null,
            "grid_auto_columns": null,
            "grid_auto_flow": null,
            "grid_auto_rows": null,
            "grid_column": null,
            "grid_gap": null,
            "grid_row": null,
            "grid_template_areas": null,
            "grid_template_columns": null,
            "grid_template_rows": null,
            "height": null,
            "justify_content": null,
            "justify_items": null,
            "left": null,
            "margin": null,
            "max_height": null,
            "max_width": null,
            "min_height": null,
            "min_width": null,
            "object_fit": null,
            "object_position": null,
            "order": null,
            "overflow": null,
            "overflow_x": null,
            "overflow_y": null,
            "padding": null,
            "right": null,
            "top": null,
            "visibility": null,
            "width": null
          }
        },
        "04ecbe7ea4c24355b3c8a192b4fb2f59": {
          "model_module": "@jupyter-widgets/controls",
          "model_name": "ProgressStyleModel",
          "model_module_version": "1.5.0",
          "state": {
            "_model_module": "@jupyter-widgets/controls",
            "_model_module_version": "1.5.0",
            "_model_name": "ProgressStyleModel",
            "_view_count": null,
            "_view_module": "@jupyter-widgets/base",
            "_view_module_version": "1.2.0",
            "_view_name": "StyleView",
            "bar_color": null,
            "description_width": ""
          }
        },
        "2adccb46e4ce42ce92acf097c2e076d8": {
          "model_module": "@jupyter-widgets/base",
          "model_name": "LayoutModel",
          "model_module_version": "1.2.0",
          "state": {
            "_model_module": "@jupyter-widgets/base",
            "_model_module_version": "1.2.0",
            "_model_name": "LayoutModel",
            "_view_count": null,
            "_view_module": "@jupyter-widgets/base",
            "_view_module_version": "1.2.0",
            "_view_name": "LayoutView",
            "align_content": null,
            "align_items": null,
            "align_self": null,
            "border": null,
            "bottom": null,
            "display": null,
            "flex": null,
            "flex_flow": null,
            "grid_area": null,
            "grid_auto_columns": null,
            "grid_auto_flow": null,
            "grid_auto_rows": null,
            "grid_column": null,
            "grid_gap": null,
            "grid_row": null,
            "grid_template_areas": null,
            "grid_template_columns": null,
            "grid_template_rows": null,
            "height": null,
            "justify_content": null,
            "justify_items": null,
            "left": null,
            "margin": null,
            "max_height": null,
            "max_width": null,
            "min_height": null,
            "min_width": null,
            "object_fit": null,
            "object_position": null,
            "order": null,
            "overflow": null,
            "overflow_x": null,
            "overflow_y": null,
            "padding": null,
            "right": null,
            "top": null,
            "visibility": null,
            "width": null
          }
        },
        "ff4a3e6d316a470ebe79a6b5db1fc2c4": {
          "model_module": "@jupyter-widgets/controls",
          "model_name": "DescriptionStyleModel",
          "model_module_version": "1.5.0",
          "state": {
            "_model_module": "@jupyter-widgets/controls",
            "_model_module_version": "1.5.0",
            "_model_name": "DescriptionStyleModel",
            "_view_count": null,
            "_view_module": "@jupyter-widgets/base",
            "_view_module_version": "1.2.0",
            "_view_name": "StyleView",
            "description_width": ""
          }
        },
        "f0b6410cc13a46b5bfeb1a83f3972dcb": {
          "model_module": "@jupyter-widgets/controls",
          "model_name": "HBoxModel",
          "model_module_version": "1.5.0",
          "state": {
            "_dom_classes": [],
            "_model_module": "@jupyter-widgets/controls",
            "_model_module_version": "1.5.0",
            "_model_name": "HBoxModel",
            "_view_count": null,
            "_view_module": "@jupyter-widgets/controls",
            "_view_module_version": "1.5.0",
            "_view_name": "HBoxView",
            "box_style": "",
            "children": [
              "IPY_MODEL_ea36e4fb7e8144d2b270a16fd9beee24",
              "IPY_MODEL_86a4e10be3c2442fa6e75a792fc12612",
              "IPY_MODEL_2d56b3e78a9446fc8246be70140346e1"
            ],
            "layout": "IPY_MODEL_a6ab8cd8588e41a7a261481f572be1fe"
          }
        },
        "ea36e4fb7e8144d2b270a16fd9beee24": {
          "model_module": "@jupyter-widgets/controls",
          "model_name": "HTMLModel",
          "model_module_version": "1.5.0",
          "state": {
            "_dom_classes": [],
            "_model_module": "@jupyter-widgets/controls",
            "_model_module_version": "1.5.0",
            "_model_name": "HTMLModel",
            "_view_count": null,
            "_view_module": "@jupyter-widgets/controls",
            "_view_module_version": "1.5.0",
            "_view_name": "HTMLView",
            "description": "",
            "description_tooltip": null,
            "layout": "IPY_MODEL_391e88ed18d84ebcbbf8356b4c56ae25",
            "placeholder": "​",
            "style": "IPY_MODEL_a75b2d2d7f18412686f8f166935c505a",
            "value": "Downloading (…)cial_tokens_map.json: 100%"
          }
        },
        "86a4e10be3c2442fa6e75a792fc12612": {
          "model_module": "@jupyter-widgets/controls",
          "model_name": "FloatProgressModel",
          "model_module_version": "1.5.0",
          "state": {
            "_dom_classes": [],
            "_model_module": "@jupyter-widgets/controls",
            "_model_module_version": "1.5.0",
            "_model_name": "FloatProgressModel",
            "_view_count": null,
            "_view_module": "@jupyter-widgets/controls",
            "_view_module_version": "1.5.0",
            "_view_name": "ProgressView",
            "bar_style": "success",
            "description": "",
            "description_tooltip": null,
            "layout": "IPY_MODEL_8479b98edcb4466ba0372c5a2ff235c4",
            "max": 125,
            "min": 0,
            "orientation": "horizontal",
            "style": "IPY_MODEL_98b49377367a4ee1959db7f9fa4429a6",
            "value": 125
          }
        },
        "2d56b3e78a9446fc8246be70140346e1": {
          "model_module": "@jupyter-widgets/controls",
          "model_name": "HTMLModel",
          "model_module_version": "1.5.0",
          "state": {
            "_dom_classes": [],
            "_model_module": "@jupyter-widgets/controls",
            "_model_module_version": "1.5.0",
            "_model_name": "HTMLModel",
            "_view_count": null,
            "_view_module": "@jupyter-widgets/controls",
            "_view_module_version": "1.5.0",
            "_view_name": "HTMLView",
            "description": "",
            "description_tooltip": null,
            "layout": "IPY_MODEL_5cbae2115f1c4792af29a2d636c8d404",
            "placeholder": "​",
            "style": "IPY_MODEL_99878a320aee4017ad881f2cc112c442",
            "value": " 125/125 [00:00&lt;00:00, 1.77kB/s]"
          }
        },
        "a6ab8cd8588e41a7a261481f572be1fe": {
          "model_module": "@jupyter-widgets/base",
          "model_name": "LayoutModel",
          "model_module_version": "1.2.0",
          "state": {
            "_model_module": "@jupyter-widgets/base",
            "_model_module_version": "1.2.0",
            "_model_name": "LayoutModel",
            "_view_count": null,
            "_view_module": "@jupyter-widgets/base",
            "_view_module_version": "1.2.0",
            "_view_name": "LayoutView",
            "align_content": null,
            "align_items": null,
            "align_self": null,
            "border": null,
            "bottom": null,
            "display": null,
            "flex": null,
            "flex_flow": null,
            "grid_area": null,
            "grid_auto_columns": null,
            "grid_auto_flow": null,
            "grid_auto_rows": null,
            "grid_column": null,
            "grid_gap": null,
            "grid_row": null,
            "grid_template_areas": null,
            "grid_template_columns": null,
            "grid_template_rows": null,
            "height": null,
            "justify_content": null,
            "justify_items": null,
            "left": null,
            "margin": null,
            "max_height": null,
            "max_width": null,
            "min_height": null,
            "min_width": null,
            "object_fit": null,
            "object_position": null,
            "order": null,
            "overflow": null,
            "overflow_x": null,
            "overflow_y": null,
            "padding": null,
            "right": null,
            "top": null,
            "visibility": null,
            "width": null
          }
        },
        "391e88ed18d84ebcbbf8356b4c56ae25": {
          "model_module": "@jupyter-widgets/base",
          "model_name": "LayoutModel",
          "model_module_version": "1.2.0",
          "state": {
            "_model_module": "@jupyter-widgets/base",
            "_model_module_version": "1.2.0",
            "_model_name": "LayoutModel",
            "_view_count": null,
            "_view_module": "@jupyter-widgets/base",
            "_view_module_version": "1.2.0",
            "_view_name": "LayoutView",
            "align_content": null,
            "align_items": null,
            "align_self": null,
            "border": null,
            "bottom": null,
            "display": null,
            "flex": null,
            "flex_flow": null,
            "grid_area": null,
            "grid_auto_columns": null,
            "grid_auto_flow": null,
            "grid_auto_rows": null,
            "grid_column": null,
            "grid_gap": null,
            "grid_row": null,
            "grid_template_areas": null,
            "grid_template_columns": null,
            "grid_template_rows": null,
            "height": null,
            "justify_content": null,
            "justify_items": null,
            "left": null,
            "margin": null,
            "max_height": null,
            "max_width": null,
            "min_height": null,
            "min_width": null,
            "object_fit": null,
            "object_position": null,
            "order": null,
            "overflow": null,
            "overflow_x": null,
            "overflow_y": null,
            "padding": null,
            "right": null,
            "top": null,
            "visibility": null,
            "width": null
          }
        },
        "a75b2d2d7f18412686f8f166935c505a": {
          "model_module": "@jupyter-widgets/controls",
          "model_name": "DescriptionStyleModel",
          "model_module_version": "1.5.0",
          "state": {
            "_model_module": "@jupyter-widgets/controls",
            "_model_module_version": "1.5.0",
            "_model_name": "DescriptionStyleModel",
            "_view_count": null,
            "_view_module": "@jupyter-widgets/base",
            "_view_module_version": "1.2.0",
            "_view_name": "StyleView",
            "description_width": ""
          }
        },
        "8479b98edcb4466ba0372c5a2ff235c4": {
          "model_module": "@jupyter-widgets/base",
          "model_name": "LayoutModel",
          "model_module_version": "1.2.0",
          "state": {
            "_model_module": "@jupyter-widgets/base",
            "_model_module_version": "1.2.0",
            "_model_name": "LayoutModel",
            "_view_count": null,
            "_view_module": "@jupyter-widgets/base",
            "_view_module_version": "1.2.0",
            "_view_name": "LayoutView",
            "align_content": null,
            "align_items": null,
            "align_self": null,
            "border": null,
            "bottom": null,
            "display": null,
            "flex": null,
            "flex_flow": null,
            "grid_area": null,
            "grid_auto_columns": null,
            "grid_auto_flow": null,
            "grid_auto_rows": null,
            "grid_column": null,
            "grid_gap": null,
            "grid_row": null,
            "grid_template_areas": null,
            "grid_template_columns": null,
            "grid_template_rows": null,
            "height": null,
            "justify_content": null,
            "justify_items": null,
            "left": null,
            "margin": null,
            "max_height": null,
            "max_width": null,
            "min_height": null,
            "min_width": null,
            "object_fit": null,
            "object_position": null,
            "order": null,
            "overflow": null,
            "overflow_x": null,
            "overflow_y": null,
            "padding": null,
            "right": null,
            "top": null,
            "visibility": null,
            "width": null
          }
        },
        "98b49377367a4ee1959db7f9fa4429a6": {
          "model_module": "@jupyter-widgets/controls",
          "model_name": "ProgressStyleModel",
          "model_module_version": "1.5.0",
          "state": {
            "_model_module": "@jupyter-widgets/controls",
            "_model_module_version": "1.5.0",
            "_model_name": "ProgressStyleModel",
            "_view_count": null,
            "_view_module": "@jupyter-widgets/base",
            "_view_module_version": "1.2.0",
            "_view_name": "StyleView",
            "bar_color": null,
            "description_width": ""
          }
        },
        "5cbae2115f1c4792af29a2d636c8d404": {
          "model_module": "@jupyter-widgets/base",
          "model_name": "LayoutModel",
          "model_module_version": "1.2.0",
          "state": {
            "_model_module": "@jupyter-widgets/base",
            "_model_module_version": "1.2.0",
            "_model_name": "LayoutModel",
            "_view_count": null,
            "_view_module": "@jupyter-widgets/base",
            "_view_module_version": "1.2.0",
            "_view_name": "LayoutView",
            "align_content": null,
            "align_items": null,
            "align_self": null,
            "border": null,
            "bottom": null,
            "display": null,
            "flex": null,
            "flex_flow": null,
            "grid_area": null,
            "grid_auto_columns": null,
            "grid_auto_flow": null,
            "grid_auto_rows": null,
            "grid_column": null,
            "grid_gap": null,
            "grid_row": null,
            "grid_template_areas": null,
            "grid_template_columns": null,
            "grid_template_rows": null,
            "height": null,
            "justify_content": null,
            "justify_items": null,
            "left": null,
            "margin": null,
            "max_height": null,
            "max_width": null,
            "min_height": null,
            "min_width": null,
            "object_fit": null,
            "object_position": null,
            "order": null,
            "overflow": null,
            "overflow_x": null,
            "overflow_y": null,
            "padding": null,
            "right": null,
            "top": null,
            "visibility": null,
            "width": null
          }
        },
        "99878a320aee4017ad881f2cc112c442": {
          "model_module": "@jupyter-widgets/controls",
          "model_name": "DescriptionStyleModel",
          "model_module_version": "1.5.0",
          "state": {
            "_model_module": "@jupyter-widgets/controls",
            "_model_module_version": "1.5.0",
            "_model_name": "DescriptionStyleModel",
            "_view_count": null,
            "_view_module": "@jupyter-widgets/base",
            "_view_module_version": "1.2.0",
            "_view_name": "StyleView",
            "description_width": ""
          }
        },
        "5d5d51b167bb4f00a2d3222b9427bac7": {
          "model_module": "@jupyter-widgets/controls",
          "model_name": "HBoxModel",
          "model_module_version": "1.5.0",
          "state": {
            "_dom_classes": [],
            "_model_module": "@jupyter-widgets/controls",
            "_model_module_version": "1.5.0",
            "_model_name": "HBoxModel",
            "_view_count": null,
            "_view_module": "@jupyter-widgets/controls",
            "_view_module_version": "1.5.0",
            "_view_name": "HBoxView",
            "box_style": "",
            "children": [
              "IPY_MODEL_e8c890e84bca4a0ea523c207168f2f81",
              "IPY_MODEL_5d8b24a65b554d4da69c484234c8b099",
              "IPY_MODEL_4ca67df9ed0942348e1c36b04a967d3e"
            ],
            "layout": "IPY_MODEL_6aada024c8464f8e92b6488e41170fdf"
          }
        },
        "e8c890e84bca4a0ea523c207168f2f81": {
          "model_module": "@jupyter-widgets/controls",
          "model_name": "HTMLModel",
          "model_module_version": "1.5.0",
          "state": {
            "_dom_classes": [],
            "_model_module": "@jupyter-widgets/controls",
            "_model_module_version": "1.5.0",
            "_model_name": "HTMLModel",
            "_view_count": null,
            "_view_module": "@jupyter-widgets/controls",
            "_view_module_version": "1.5.0",
            "_view_name": "HTMLView",
            "description": "",
            "description_tooltip": null,
            "layout": "IPY_MODEL_2b7051596c464070bc23e4227eb8a5fc",
            "placeholder": "​",
            "style": "IPY_MODEL_6f681edef1be4f61ad2793676e704c06",
            "value": "Downloading (…)lve/main/config.json: 100%"
          }
        },
        "5d8b24a65b554d4da69c484234c8b099": {
          "model_module": "@jupyter-widgets/controls",
          "model_name": "FloatProgressModel",
          "model_module_version": "1.5.0",
          "state": {
            "_dom_classes": [],
            "_model_module": "@jupyter-widgets/controls",
            "_model_module_version": "1.5.0",
            "_model_name": "FloatProgressModel",
            "_view_count": null,
            "_view_module": "@jupyter-widgets/controls",
            "_view_module_version": "1.5.0",
            "_view_name": "ProgressView",
            "bar_style": "success",
            "description": "",
            "description_tooltip": null,
            "layout": "IPY_MODEL_2803144bb2a0418dba8ab0baf6688e1e",
            "max": 775,
            "min": 0,
            "orientation": "horizontal",
            "style": "IPY_MODEL_2978d3c75a2540fe900830b2c7b66522",
            "value": 775
          }
        },
        "4ca67df9ed0942348e1c36b04a967d3e": {
          "model_module": "@jupyter-widgets/controls",
          "model_name": "HTMLModel",
          "model_module_version": "1.5.0",
          "state": {
            "_dom_classes": [],
            "_model_module": "@jupyter-widgets/controls",
            "_model_module_version": "1.5.0",
            "_model_name": "HTMLModel",
            "_view_count": null,
            "_view_module": "@jupyter-widgets/controls",
            "_view_module_version": "1.5.0",
            "_view_name": "HTMLView",
            "description": "",
            "description_tooltip": null,
            "layout": "IPY_MODEL_bffcf3feabd64de7824ebf75af8ca0bf",
            "placeholder": "​",
            "style": "IPY_MODEL_dfcc455d075d4269b16dc55f274aaf15",
            "value": " 775/775 [00:00&lt;00:00, 13.1kB/s]"
          }
        },
        "6aada024c8464f8e92b6488e41170fdf": {
          "model_module": "@jupyter-widgets/base",
          "model_name": "LayoutModel",
          "model_module_version": "1.2.0",
          "state": {
            "_model_module": "@jupyter-widgets/base",
            "_model_module_version": "1.2.0",
            "_model_name": "LayoutModel",
            "_view_count": null,
            "_view_module": "@jupyter-widgets/base",
            "_view_module_version": "1.2.0",
            "_view_name": "LayoutView",
            "align_content": null,
            "align_items": null,
            "align_self": null,
            "border": null,
            "bottom": null,
            "display": null,
            "flex": null,
            "flex_flow": null,
            "grid_area": null,
            "grid_auto_columns": null,
            "grid_auto_flow": null,
            "grid_auto_rows": null,
            "grid_column": null,
            "grid_gap": null,
            "grid_row": null,
            "grid_template_areas": null,
            "grid_template_columns": null,
            "grid_template_rows": null,
            "height": null,
            "justify_content": null,
            "justify_items": null,
            "left": null,
            "margin": null,
            "max_height": null,
            "max_width": null,
            "min_height": null,
            "min_width": null,
            "object_fit": null,
            "object_position": null,
            "order": null,
            "overflow": null,
            "overflow_x": null,
            "overflow_y": null,
            "padding": null,
            "right": null,
            "top": null,
            "visibility": null,
            "width": null
          }
        },
        "2b7051596c464070bc23e4227eb8a5fc": {
          "model_module": "@jupyter-widgets/base",
          "model_name": "LayoutModel",
          "model_module_version": "1.2.0",
          "state": {
            "_model_module": "@jupyter-widgets/base",
            "_model_module_version": "1.2.0",
            "_model_name": "LayoutModel",
            "_view_count": null,
            "_view_module": "@jupyter-widgets/base",
            "_view_module_version": "1.2.0",
            "_view_name": "LayoutView",
            "align_content": null,
            "align_items": null,
            "align_self": null,
            "border": null,
            "bottom": null,
            "display": null,
            "flex": null,
            "flex_flow": null,
            "grid_area": null,
            "grid_auto_columns": null,
            "grid_auto_flow": null,
            "grid_auto_rows": null,
            "grid_column": null,
            "grid_gap": null,
            "grid_row": null,
            "grid_template_areas": null,
            "grid_template_columns": null,
            "grid_template_rows": null,
            "height": null,
            "justify_content": null,
            "justify_items": null,
            "left": null,
            "margin": null,
            "max_height": null,
            "max_width": null,
            "min_height": null,
            "min_width": null,
            "object_fit": null,
            "object_position": null,
            "order": null,
            "overflow": null,
            "overflow_x": null,
            "overflow_y": null,
            "padding": null,
            "right": null,
            "top": null,
            "visibility": null,
            "width": null
          }
        },
        "6f681edef1be4f61ad2793676e704c06": {
          "model_module": "@jupyter-widgets/controls",
          "model_name": "DescriptionStyleModel",
          "model_module_version": "1.5.0",
          "state": {
            "_model_module": "@jupyter-widgets/controls",
            "_model_module_version": "1.5.0",
            "_model_name": "DescriptionStyleModel",
            "_view_count": null,
            "_view_module": "@jupyter-widgets/base",
            "_view_module_version": "1.2.0",
            "_view_name": "StyleView",
            "description_width": ""
          }
        },
        "2803144bb2a0418dba8ab0baf6688e1e": {
          "model_module": "@jupyter-widgets/base",
          "model_name": "LayoutModel",
          "model_module_version": "1.2.0",
          "state": {
            "_model_module": "@jupyter-widgets/base",
            "_model_module_version": "1.2.0",
            "_model_name": "LayoutModel",
            "_view_count": null,
            "_view_module": "@jupyter-widgets/base",
            "_view_module_version": "1.2.0",
            "_view_name": "LayoutView",
            "align_content": null,
            "align_items": null,
            "align_self": null,
            "border": null,
            "bottom": null,
            "display": null,
            "flex": null,
            "flex_flow": null,
            "grid_area": null,
            "grid_auto_columns": null,
            "grid_auto_flow": null,
            "grid_auto_rows": null,
            "grid_column": null,
            "grid_gap": null,
            "grid_row": null,
            "grid_template_areas": null,
            "grid_template_columns": null,
            "grid_template_rows": null,
            "height": null,
            "justify_content": null,
            "justify_items": null,
            "left": null,
            "margin": null,
            "max_height": null,
            "max_width": null,
            "min_height": null,
            "min_width": null,
            "object_fit": null,
            "object_position": null,
            "order": null,
            "overflow": null,
            "overflow_x": null,
            "overflow_y": null,
            "padding": null,
            "right": null,
            "top": null,
            "visibility": null,
            "width": null
          }
        },
        "2978d3c75a2540fe900830b2c7b66522": {
          "model_module": "@jupyter-widgets/controls",
          "model_name": "ProgressStyleModel",
          "model_module_version": "1.5.0",
          "state": {
            "_model_module": "@jupyter-widgets/controls",
            "_model_module_version": "1.5.0",
            "_model_name": "ProgressStyleModel",
            "_view_count": null,
            "_view_module": "@jupyter-widgets/base",
            "_view_module_version": "1.2.0",
            "_view_name": "StyleView",
            "bar_color": null,
            "description_width": ""
          }
        },
        "bffcf3feabd64de7824ebf75af8ca0bf": {
          "model_module": "@jupyter-widgets/base",
          "model_name": "LayoutModel",
          "model_module_version": "1.2.0",
          "state": {
            "_model_module": "@jupyter-widgets/base",
            "_model_module_version": "1.2.0",
            "_model_name": "LayoutModel",
            "_view_count": null,
            "_view_module": "@jupyter-widgets/base",
            "_view_module_version": "1.2.0",
            "_view_name": "LayoutView",
            "align_content": null,
            "align_items": null,
            "align_self": null,
            "border": null,
            "bottom": null,
            "display": null,
            "flex": null,
            "flex_flow": null,
            "grid_area": null,
            "grid_auto_columns": null,
            "grid_auto_flow": null,
            "grid_auto_rows": null,
            "grid_column": null,
            "grid_gap": null,
            "grid_row": null,
            "grid_template_areas": null,
            "grid_template_columns": null,
            "grid_template_rows": null,
            "height": null,
            "justify_content": null,
            "justify_items": null,
            "left": null,
            "margin": null,
            "max_height": null,
            "max_width": null,
            "min_height": null,
            "min_width": null,
            "object_fit": null,
            "object_position": null,
            "order": null,
            "overflow": null,
            "overflow_x": null,
            "overflow_y": null,
            "padding": null,
            "right": null,
            "top": null,
            "visibility": null,
            "width": null
          }
        },
        "dfcc455d075d4269b16dc55f274aaf15": {
          "model_module": "@jupyter-widgets/controls",
          "model_name": "DescriptionStyleModel",
          "model_module_version": "1.5.0",
          "state": {
            "_model_module": "@jupyter-widgets/controls",
            "_model_module_version": "1.5.0",
            "_model_name": "DescriptionStyleModel",
            "_view_count": null,
            "_view_module": "@jupyter-widgets/base",
            "_view_module_version": "1.2.0",
            "_view_name": "StyleView",
            "description_width": ""
          }
        },
        "9ded71334f2b45fba962198817e0e111": {
          "model_module": "@jupyter-widgets/controls",
          "model_name": "HBoxModel",
          "model_module_version": "1.5.0",
          "state": {
            "_dom_classes": [],
            "_model_module": "@jupyter-widgets/controls",
            "_model_module_version": "1.5.0",
            "_model_name": "HBoxModel",
            "_view_count": null,
            "_view_module": "@jupyter-widgets/controls",
            "_view_module_version": "1.5.0",
            "_view_name": "HBoxView",
            "box_style": "",
            "children": [
              "IPY_MODEL_d1e3ab5491194cb499870df86c49fb8b",
              "IPY_MODEL_937c376571de4bba967dc7be6e2acf41",
              "IPY_MODEL_f91337dd60a148249d701ebe4aed9932"
            ],
            "layout": "IPY_MODEL_67ea05b61cb441b2b6be8780cb5e5ea9"
          }
        },
        "d1e3ab5491194cb499870df86c49fb8b": {
          "model_module": "@jupyter-widgets/controls",
          "model_name": "HTMLModel",
          "model_module_version": "1.5.0",
          "state": {
            "_dom_classes": [],
            "_model_module": "@jupyter-widgets/controls",
            "_model_module_version": "1.5.0",
            "_model_name": "HTMLModel",
            "_view_count": null,
            "_view_module": "@jupyter-widgets/controls",
            "_view_module_version": "1.5.0",
            "_view_name": "HTMLView",
            "description": "",
            "description_tooltip": null,
            "layout": "IPY_MODEL_a6010c1b348f4b6f92147b14a4a7c4f9",
            "placeholder": "​",
            "style": "IPY_MODEL_ddd739855eaf41cc85c45b39bdff72c2",
            "value": "Downloading model.safetensors: 100%"
          }
        },
        "937c376571de4bba967dc7be6e2acf41": {
          "model_module": "@jupyter-widgets/controls",
          "model_name": "FloatProgressModel",
          "model_module_version": "1.5.0",
          "state": {
            "_dom_classes": [],
            "_model_module": "@jupyter-widgets/controls",
            "_model_module_version": "1.5.0",
            "_model_name": "FloatProgressModel",
            "_view_count": null,
            "_view_module": "@jupyter-widgets/controls",
            "_view_module_version": "1.5.0",
            "_view_name": "ProgressView",
            "bar_style": "success",
            "description": "",
            "description_tooltip": null,
            "layout": "IPY_MODEL_51860bbd50d4468391cfea22d828b34b",
            "max": 31384292,
            "min": 0,
            "orientation": "horizontal",
            "style": "IPY_MODEL_e919067c5f394e37baaf2d82521763b7",
            "value": 31384292
          }
        },
        "f91337dd60a148249d701ebe4aed9932": {
          "model_module": "@jupyter-widgets/controls",
          "model_name": "HTMLModel",
          "model_module_version": "1.5.0",
          "state": {
            "_dom_classes": [],
            "_model_module": "@jupyter-widgets/controls",
            "_model_module_version": "1.5.0",
            "_model_name": "HTMLModel",
            "_view_count": null,
            "_view_module": "@jupyter-widgets/controls",
            "_view_module_version": "1.5.0",
            "_view_name": "HTMLView",
            "description": "",
            "description_tooltip": null,
            "layout": "IPY_MODEL_6c1c5ecbd3854b5db83597f8613adc39",
            "placeholder": "​",
            "style": "IPY_MODEL_c9ded0492d1d49e795f89c5998fad4b3",
            "value": " 31.4M/31.4M [00:01&lt;00:00, 38.6MB/s]"
          }
        },
        "67ea05b61cb441b2b6be8780cb5e5ea9": {
          "model_module": "@jupyter-widgets/base",
          "model_name": "LayoutModel",
          "model_module_version": "1.2.0",
          "state": {
            "_model_module": "@jupyter-widgets/base",
            "_model_module_version": "1.2.0",
            "_model_name": "LayoutModel",
            "_view_count": null,
            "_view_module": "@jupyter-widgets/base",
            "_view_module_version": "1.2.0",
            "_view_name": "LayoutView",
            "align_content": null,
            "align_items": null,
            "align_self": null,
            "border": null,
            "bottom": null,
            "display": null,
            "flex": null,
            "flex_flow": null,
            "grid_area": null,
            "grid_auto_columns": null,
            "grid_auto_flow": null,
            "grid_auto_rows": null,
            "grid_column": null,
            "grid_gap": null,
            "grid_row": null,
            "grid_template_areas": null,
            "grid_template_columns": null,
            "grid_template_rows": null,
            "height": null,
            "justify_content": null,
            "justify_items": null,
            "left": null,
            "margin": null,
            "max_height": null,
            "max_width": null,
            "min_height": null,
            "min_width": null,
            "object_fit": null,
            "object_position": null,
            "order": null,
            "overflow": null,
            "overflow_x": null,
            "overflow_y": null,
            "padding": null,
            "right": null,
            "top": null,
            "visibility": null,
            "width": null
          }
        },
        "a6010c1b348f4b6f92147b14a4a7c4f9": {
          "model_module": "@jupyter-widgets/base",
          "model_name": "LayoutModel",
          "model_module_version": "1.2.0",
          "state": {
            "_model_module": "@jupyter-widgets/base",
            "_model_module_version": "1.2.0",
            "_model_name": "LayoutModel",
            "_view_count": null,
            "_view_module": "@jupyter-widgets/base",
            "_view_module_version": "1.2.0",
            "_view_name": "LayoutView",
            "align_content": null,
            "align_items": null,
            "align_self": null,
            "border": null,
            "bottom": null,
            "display": null,
            "flex": null,
            "flex_flow": null,
            "grid_area": null,
            "grid_auto_columns": null,
            "grid_auto_flow": null,
            "grid_auto_rows": null,
            "grid_column": null,
            "grid_gap": null,
            "grid_row": null,
            "grid_template_areas": null,
            "grid_template_columns": null,
            "grid_template_rows": null,
            "height": null,
            "justify_content": null,
            "justify_items": null,
            "left": null,
            "margin": null,
            "max_height": null,
            "max_width": null,
            "min_height": null,
            "min_width": null,
            "object_fit": null,
            "object_position": null,
            "order": null,
            "overflow": null,
            "overflow_x": null,
            "overflow_y": null,
            "padding": null,
            "right": null,
            "top": null,
            "visibility": null,
            "width": null
          }
        },
        "ddd739855eaf41cc85c45b39bdff72c2": {
          "model_module": "@jupyter-widgets/controls",
          "model_name": "DescriptionStyleModel",
          "model_module_version": "1.5.0",
          "state": {
            "_model_module": "@jupyter-widgets/controls",
            "_model_module_version": "1.5.0",
            "_model_name": "DescriptionStyleModel",
            "_view_count": null,
            "_view_module": "@jupyter-widgets/base",
            "_view_module_version": "1.2.0",
            "_view_name": "StyleView",
            "description_width": ""
          }
        },
        "51860bbd50d4468391cfea22d828b34b": {
          "model_module": "@jupyter-widgets/base",
          "model_name": "LayoutModel",
          "model_module_version": "1.2.0",
          "state": {
            "_model_module": "@jupyter-widgets/base",
            "_model_module_version": "1.2.0",
            "_model_name": "LayoutModel",
            "_view_count": null,
            "_view_module": "@jupyter-widgets/base",
            "_view_module_version": "1.2.0",
            "_view_name": "LayoutView",
            "align_content": null,
            "align_items": null,
            "align_self": null,
            "border": null,
            "bottom": null,
            "display": null,
            "flex": null,
            "flex_flow": null,
            "grid_area": null,
            "grid_auto_columns": null,
            "grid_auto_flow": null,
            "grid_auto_rows": null,
            "grid_column": null,
            "grid_gap": null,
            "grid_row": null,
            "grid_template_areas": null,
            "grid_template_columns": null,
            "grid_template_rows": null,
            "height": null,
            "justify_content": null,
            "justify_items": null,
            "left": null,
            "margin": null,
            "max_height": null,
            "max_width": null,
            "min_height": null,
            "min_width": null,
            "object_fit": null,
            "object_position": null,
            "order": null,
            "overflow": null,
            "overflow_x": null,
            "overflow_y": null,
            "padding": null,
            "right": null,
            "top": null,
            "visibility": null,
            "width": null
          }
        },
        "e919067c5f394e37baaf2d82521763b7": {
          "model_module": "@jupyter-widgets/controls",
          "model_name": "ProgressStyleModel",
          "model_module_version": "1.5.0",
          "state": {
            "_model_module": "@jupyter-widgets/controls",
            "_model_module_version": "1.5.0",
            "_model_name": "ProgressStyleModel",
            "_view_count": null,
            "_view_module": "@jupyter-widgets/base",
            "_view_module_version": "1.2.0",
            "_view_name": "StyleView",
            "bar_color": null,
            "description_width": ""
          }
        },
        "6c1c5ecbd3854b5db83597f8613adc39": {
          "model_module": "@jupyter-widgets/base",
          "model_name": "LayoutModel",
          "model_module_version": "1.2.0",
          "state": {
            "_model_module": "@jupyter-widgets/base",
            "_model_module_version": "1.2.0",
            "_model_name": "LayoutModel",
            "_view_count": null,
            "_view_module": "@jupyter-widgets/base",
            "_view_module_version": "1.2.0",
            "_view_name": "LayoutView",
            "align_content": null,
            "align_items": null,
            "align_self": null,
            "border": null,
            "bottom": null,
            "display": null,
            "flex": null,
            "flex_flow": null,
            "grid_area": null,
            "grid_auto_columns": null,
            "grid_auto_flow": null,
            "grid_auto_rows": null,
            "grid_column": null,
            "grid_gap": null,
            "grid_row": null,
            "grid_template_areas": null,
            "grid_template_columns": null,
            "grid_template_rows": null,
            "height": null,
            "justify_content": null,
            "justify_items": null,
            "left": null,
            "margin": null,
            "max_height": null,
            "max_width": null,
            "min_height": null,
            "min_width": null,
            "object_fit": null,
            "object_position": null,
            "order": null,
            "overflow": null,
            "overflow_x": null,
            "overflow_y": null,
            "padding": null,
            "right": null,
            "top": null,
            "visibility": null,
            "width": null
          }
        },
        "c9ded0492d1d49e795f89c5998fad4b3": {
          "model_module": "@jupyter-widgets/controls",
          "model_name": "DescriptionStyleModel",
          "model_module_version": "1.5.0",
          "state": {
            "_model_module": "@jupyter-widgets/controls",
            "_model_module_version": "1.5.0",
            "_model_name": "DescriptionStyleModel",
            "_view_count": null,
            "_view_module": "@jupyter-widgets/base",
            "_view_module_version": "1.2.0",
            "_view_name": "StyleView",
            "description_width": ""
          }
        }
      }
    }
  },
  "nbformat": 4,
  "nbformat_minor": 5
}