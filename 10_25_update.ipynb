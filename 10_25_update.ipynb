{
  "cells": [
    {
      "cell_type": "markdown",
      "metadata": {
        "id": "view-in-github",
        "colab_type": "text"
      },
      "source": [
        "<a href=\"https://colab.research.google.com/github/pan-emily/protein-clip/blob/main/10_25_update.ipynb\" target=\"_parent\"><img src=\"https://colab.research.google.com/assets/colab-badge.svg\" alt=\"Open In Colab\"/></a>"
      ]
    },
    {
      "cell_type": "code",
      "execution_count": null,
      "metadata": {
        "id": "4BjFV3Do0cMH"
      },
      "outputs": [],
      "source": [
        "import random\n",
        "import numpy as np\n",
        "import torch\n",
        "import torch.nn as nn\n",
        "import torch.nn.functional as F\n",
        "import matplotlib.pyplot as plt\n",
        "\n",
        "\n",
        "def set_seed(seed_value=42):\n",
        "    random.seed(seed_value)\n",
        "    np.random.seed(seed_value)\n",
        "    torch.manual_seed(seed_value)\n",
        "    if torch.cuda.is_available():\n",
        "        torch.cuda.manual_seed(seed_value)\n",
        "        torch.cuda.manual_seed_all(seed_value)\n",
        "        torch.backends.cudnn.deterministic = True\n",
        "        torch.backends.cudnn.benchmark = False\n",
        "        torch.backends.cudnn.enabled = False\n",
        "\n",
        "set_seed()"
      ]
    },
    {
      "cell_type": "code",
      "execution_count": null,
      "metadata": {
        "id": "WAGn1rcCxdlT"
      },
      "outputs": [],
      "source": [
        "from pathlib import Path\n",
        "import requests\n",
        "\n",
        "peptide_url = 'http://bioinfo.dcc.ufmg.br/propedia/public/download/peptide.fasta'\n",
        "receptor_url = 'http://bioinfo.dcc.ufmg.br/propedia/public/download/receptor.fasta'\n",
        "peptide_data = requests.get(peptide_url).text\n",
        "receptor_data = requests.get(receptor_url).text\n",
        "with open('peptide.fasta', 'w') as f:\n",
        "  f.write(peptide_data)\n",
        "with open('receptor.fasta', 'w') as f:\n",
        "  f.write(receptor_data)\n",
        "\n",
        "peptides, receptors = [], []\n",
        "with open('receptor.fasta', 'r') as f:\n",
        "    for line in f.readlines():\n",
        "        if not line.startswith('>'):\n",
        "            receptors.append(line.replace('\\n', ''))\n",
        "\n",
        "with open('peptide.fasta', 'r') as f:\n",
        "    for line in f.readlines():\n",
        "        if not line.startswith('>'):\n",
        "            peptides.append(line.replace('\\n', ''))\n",
        "assert len(peptides) == len(receptors)"
      ]
    },
    {
      "cell_type": "code",
      "execution_count": null,
      "metadata": {
        "colab": {
          "base_uri": "https://localhost:8080/"
        },
        "id": "ftKzYHfZxyJF",
        "outputId": "b17e0120-34ae-4d21-93e8-ca6081836028"
      },
      "outputs": [
        {
          "output_type": "stream",
          "name": "stdout",
          "text": [
            "--2023-11-01 04:18:48--  https://mmseqs.com/latest/mmseqs-linux-avx2.tar.gz\n",
            "Resolving mmseqs.com (mmseqs.com)... 147.46.145.74\n",
            "Connecting to mmseqs.com (mmseqs.com)|147.46.145.74|:443... connected.\n",
            "HTTP request sent, awaiting response... 200 OK\n",
            "Length: 45102888 (43M) [application/octet-stream]\n",
            "Saving to: ‘mmseqs-linux-avx2.tar.gz.6’\n",
            "\n",
            "mmseqs-linux-avx2.t 100%[===================>]  43.01M  4.09MB/s    in 17s     \n",
            "\n",
            "2023-11-01 04:19:05 (2.54 MB/s) - ‘mmseqs-linux-avx2.tar.gz.6’ saved [45102888/45102888]\n",
            "\n",
            "mmseqs/\n",
            "mmseqs/bin/\n",
            "mmseqs/bin/mmseqs\n",
            "mmseqs/examples/\n",
            "mmseqs/examples/DB.fasta\n",
            "mmseqs/examples/QUERY.fasta\n",
            "mmseqs/util/\n",
            "mmseqs/util/bash-completion.sh\n",
            "mmseqs/README.md\n",
            "mmseqs/userguide.pdf\n",
            "mmseqs/matrices/\n",
            "mmseqs/matrices/blosum75.out\n",
            "mmseqs/matrices/PAM20.out\n",
            "mmseqs/matrices/blosum65.out\n",
            "mmseqs/matrices/blosum45.out\n",
            "mmseqs/matrices/blosum90.out\n",
            "mmseqs/matrices/blosum50.out\n",
            "mmseqs/matrices/blosum85.out\n",
            "mmseqs/matrices/blosum30.out\n",
            "mmseqs/matrices/PAM60.out\n",
            "mmseqs/matrices/PAM30.out\n",
            "mmseqs/matrices/nucleotide.out\n",
            "mmseqs/matrices/blosum95.out\n",
            "mmseqs/matrices/PAM100.out\n",
            "mmseqs/matrices/blosum40.out\n",
            "mmseqs/matrices/VTML40.out\n",
            "mmseqs/matrices/VTML160.out\n",
            "mmseqs/matrices/PAM110.out\n",
            "mmseqs/matrices/PAM130.out\n",
            "mmseqs/matrices/blosum55.out\n",
            "mmseqs/matrices/PAM190.out\n",
            "mmseqs/matrices/PAM70.out\n",
            "mmseqs/matrices/PAM170.out\n",
            "mmseqs/matrices/PAM160.out\n",
            "mmseqs/matrices/VTML20.out\n",
            "mmseqs/matrices/PAM10.out\n",
            "mmseqs/matrices/PAM50.out\n",
            "mmseqs/matrices/PAM90.out\n",
            "mmseqs/matrices/VTML80.out\n",
            "mmseqs/matrices/PAM180.out\n",
            "mmseqs/matrices/PAM40.out\n",
            "mmseqs/matrices/VTML10.out\n",
            "mmseqs/matrices/PAM150.out\n",
            "mmseqs/matrices/blosum100.out\n",
            "mmseqs/matrices/blosum80.out\n",
            "mmseqs/matrices/blosum35.out\n",
            "mmseqs/matrices/PAM80.out\n",
            "mmseqs/matrices/PAM140.out\n",
            "mmseqs/matrices/blosum70.out\n",
            "mmseqs/matrices/blosum62.out\n",
            "mmseqs/matrices/VTML120.out\n",
            "mmseqs/matrices/blosum60.out\n",
            "mmseqs/matrices/PAM120.out\n",
            "mmseqs/LICENSE.md\n",
            "Requirement already satisfied: biopython in /usr/local/lib/python3.10/dist-packages (1.81)\n",
            "Requirement already satisfied: numpy in /usr/local/lib/python3.10/dist-packages (from biopython) (1.23.5)\n"
          ]
        }
      ],
      "source": [
        "!wget https://mmseqs.com/latest/mmseqs-linux-avx2.tar.gz\n",
        "!tar xvzf mmseqs-linux-avx2.tar.gz\n",
        "!cp mmseqs/bin/mmseqs /usr/bin/\n",
        "!pip install biopython"
      ]
    },
    {
      "cell_type": "code",
      "execution_count": null,
      "metadata": {
        "colab": {
          "base_uri": "https://localhost:8080/"
        },
        "id": "fWh8JNwDzzIv",
        "outputId": "2d2b25a5-f04a-4b41-991e-e51f3587f35a"
      },
      "outputs": [
        {
          "output_type": "stream",
          "name": "stdout",
          "text": [
            "\u001b[33mreceptorDB exists and will be overwritten\n",
            "\u001b[39mcreatedb receptor.fasta receptorDB \n",
            "\n",
            "MMseqs Version:       \t6f45232ac8daca14e354ae320a4359056ec524c2\n",
            "Database type         \t0\n",
            "Shuffle input database\ttrue\n",
            "Createdb mode         \t0\n",
            "Write lookup file     \t1\n",
            "Offset of numeric ids \t0\n",
            "Compressed            \t0\n",
            "Verbosity             \t3\n",
            "\n",
            "Converting sequences\n",
            "[102] 0s 6ms\r[203] 0s 6ms\r[304] 0s 6ms\r[405] 0s 6ms\r[506] 0s 7ms\r[607] 0s 7ms\r[708] 0s 7ms\r[809] 0s 7ms\r[910] 0s 7ms\r[1011] 0s 7ms\r[1112] 0s 7ms\r[1213] 0s 8ms\r[1314] 0s 8ms\r[1415] 0s 8ms\r[1516] 0s 8ms\r[1617] 0s 8ms\r[1718] 0s 8ms\r[1819] 0s 8ms\r[1920] 0s 9ms\r[2021] 0s 9ms\r[2122] 0s 9ms\r[2223] 0s 9ms\r[2324] 0s 9ms\r[2425] 0s 9ms\r[2526] 0s 9ms\r[2627] 0s 10ms\r[2728] 0s 10ms\r[2829] 0s 10ms\r[2930] 0s 10ms\r[3031] 0s 10ms\r[3132] 0s 10ms\r[3233] 0s 10ms\r[3334] 0s 11ms\r[3435] 0s 11ms\r[3536] 0s 11ms\r[3637] 0s 11ms\r[3738] 0s 11ms\r[3839] 0s 11ms\r[3940] 0s 11ms\r[4041] 0s 12ms\r[4142] 0s 12ms\r[4243] 0s 12ms\r[4344] 0s 12ms\r[4445] 0s 12ms\r[4546] 0s 12ms\r[4647] 0s 12ms\r[4748] 0s 13ms\r[4849] 0s 13ms\r[4950] 0s 13ms\r[5051] 0s 13ms\r[5152] 0s 13ms\r[5253] 0s 13ms\r[5354] 0s 13ms\r[5455] 0s 14ms\r[5556] 0s 14ms\r[5657] 0s 14ms\r[5758] 0s 14ms\r[5859] 0s 14ms\r[5960] 0s 14ms\r[6061] 0s 15ms\r[6162] 0s 15ms\r[6263] 0s 15ms\r[6364] 0s 15ms\r[6465] 0s 15ms\r[6566] 0s 15ms\r[6667] 0s 16ms\r[6768] 0s 16ms\r[6869] 0s 16ms\r[6970] 0s 16ms\r[7071] 0s 16ms\r[7172] 0s 16ms\r[7273] 0s 17ms\r[7374] 0s 17ms\r[7475] 0s 17ms\r[7576] 0s 17ms\r[7677] 0s 18ms\r[7778] 0s 18ms\r[7879] 0s 18ms\r[7980] 0s 18ms\r[8081] 0s 18ms\r[8182] 0s 18ms\r[8283] 0s 18ms\r[8384] 0s 19ms\r[8485] 0s 19ms\r[8586] 0s 19ms\r[8687] 0s 19ms\r[8788] 0s 19ms\r[8889] 0s 19ms\r[8990] 0s 20ms\r[9091] 0s 20ms\r[9192] 0s 20ms\r[9293] 0s 20ms\r[9394] 0s 20ms\r[9495] 0s 21ms\r[9596] 0s 21ms\r[9697] 0s 21ms\r[9798] 0s 21ms\r[9899] 0s 21ms\r[10000] 0s 21ms\r[10101] 0s 21ms\r[10202] 0s 22ms\r[10303] 0s 22ms\r[10404] 0s 22ms\r[10505] 0s 22ms\r[10606] 0s 22ms\r[10707] 0s 22ms\r[10808] 0s 23ms\r[10909] 0s 23ms\r[11010] 0s 23ms\r[11111] 0s 23ms\r[11212] 0s 23ms\r[11313] 0s 23ms\r[11414] 0s 23ms\r[11515] 0s 24ms\r[11616] 0s 24ms\r[11717] 0s 24ms\r[11818] 0s 24ms\r[11919] 0s 24ms\r[12020] 0s 24ms\r[12121] 0s 24ms\r[12222] 0s 25ms\r[12323] 0s 25ms\r[12424] 0s 25ms\r[12525] 0s 25ms\r[12626] 0s 25ms\r[12727] 0s 25ms\r[12828] 0s 25ms\r[12929] 0s 26ms\r[13030] 0s 26ms\r[13131] 0s 26ms\r[13232] 0s 26ms\r[13333] 0s 26ms\r[13434] 0s 26ms\r[13535] 0s 26ms\r[13636] 0s 27ms\r[13737] 0s 27ms\r[13838] 0s 27ms\r[13939] 0s 27ms\r[14040] 0s 27ms\r[14141] 0s 27ms\r[14242] 0s 27ms\r[14343] 0s 28ms\r[14444] 0s 28ms\r[14545] 0s 28ms\r[14646] 0s 28ms\r[14747] 0s 28ms\r[14848] 0s 28ms\r[14949] 0s 28ms\r[15050] 0s 29ms\r[15151] 0s 29ms\r[15252] 0s 29ms\r[15353] 0s 29ms\r[15454] 0s 29ms\r[15555] 0s 29ms\r[15656] 0s 29ms\r[15757] 0s 30ms\r[15858] 0s 30ms\r[15959] 0s 30ms\r[16060] 0s 30ms\r[16161] 0s 30ms\r[16262] 0s 30ms\r[16363] 0s 31ms\r[16464] 0s 31ms\r[16565] 0s 31ms\r[16666] 0s 31ms\r[16767] 0s 31ms\r[16868] 0s 31ms\r[16969] 0s 31ms\r[17070] 0s 32ms\r[17171] 0s 32ms\r[17272] 0s 32ms\r[17373] 0s 32ms\r[17474] 0s 32ms\r[17575] 0s 32ms\r[17676] 0s 33ms\r[17777] 0s 33ms\r[17878] 0s 33ms\r[17979] 0s 33ms\r[18080] 0s 33ms\r[18181] 0s 33ms\r[18282] 0s 34ms\r[18383] 0s 34ms\r[18484] 0s 34ms\r[18585] 0s 34ms\r[18686] 0s 34ms\r[18787] 0s 34ms\r[18888] 0s 35ms\r[18989] 0s 35ms\r[19090] 0s 35ms\r[19191] 0s 35ms\r[19292] 0s 35ms\r[19393] 0s 35ms\r[19494] 0s 35ms\r[19595] 0s 36ms\r[19696] 0s 36ms\r[19797] 0s 36ms\r\n",
            "Time for merging to receptorDB_h: 0h 0m 0s 5ms\n",
            "Time for merging to receptorDB: 0h 0m 0s 8ms\n",
            "Database type: Aminoacid\n",
            "Time for processing: 0h 0m 0s 83ms\n",
            "cluster receptorDB receptorDB_clu tmp --min-seq-id 0.5 \n",
            "\n",
            "MMseqs Version:                     \t6f45232ac8daca14e354ae320a4359056ec524c2\n",
            "Substitution matrix                 \taa:blosum62.out,nucl:nucleotide.out\n",
            "Seed substitution matrix            \taa:VTML80.out,nucl:nucleotide.out\n",
            "Sensitivity                         \t4\n",
            "k-mer length                        \t0\n",
            "Target search mode                  \t0\n",
            "k-score                             \tseq:2147483647,prof:2147483647\n",
            "Alphabet size                       \taa:21,nucl:5\n",
            "Max sequence length                 \t65535\n",
            "Max results per query               \t20\n",
            "Split database                      \t0\n",
            "Split mode                          \t2\n",
            "Split memory limit                  \t0\n",
            "Coverage threshold                  \t0.8\n",
            "Coverage mode                       \t0\n",
            "Compositional bias                  \t1\n",
            "Compositional bias                  \t1\n",
            "Diagonal scoring                    \ttrue\n",
            "Exact k-mer matching                \t0\n",
            "Mask residues                       \t1\n",
            "Mask residues probability           \t0.9\n",
            "Mask lower case residues            \t0\n",
            "Minimum diagonal score              \t15\n",
            "Selected taxa                       \t\n",
            "Include identical seq. id.          \tfalse\n",
            "Spaced k-mers                       \t1\n",
            "Preload mode                        \t0\n",
            "Pseudo count a                      \tsubstitution:1.100,context:1.400\n",
            "Pseudo count b                      \tsubstitution:4.100,context:5.800\n",
            "Spaced k-mer pattern                \t\n",
            "Local temporary path                \t\n",
            "Threads                             \t2\n",
            "Compressed                          \t0\n",
            "Verbosity                           \t3\n",
            "Add backtrace                       \tfalse\n",
            "Alignment mode                      \t3\n",
            "Alignment mode                      \t0\n",
            "Allow wrapped scoring               \tfalse\n",
            "E-value threshold                   \t0.001\n",
            "Seq. id. threshold                  \t0.5\n",
            "Min alignment length                \t0\n",
            "Seq. id. mode                       \t0\n",
            "Alternative alignments              \t0\n",
            "Max reject                          \t2147483647\n",
            "Max accept                          \t2147483647\n",
            "Score bias                          \t0\n",
            "Realign hits                        \tfalse\n",
            "Realign score bias                  \t-0.2\n",
            "Realign max seqs                    \t2147483647\n",
            "Correlation score weight            \t0\n",
            "Gap open cost                       \taa:11,nucl:5\n",
            "Gap extension cost                  \taa:1,nucl:2\n",
            "Zdrop                               \t40\n",
            "Rescore mode                        \t0\n",
            "Remove hits by seq. id. and coverage\tfalse\n",
            "Sort results                        \t0\n",
            "Cluster mode                        \t0\n",
            "Max connected component depth       \t1000\n",
            "Similarity type                     \t2\n",
            "Weight file name                    \t\n",
            "Cluster Weight threshold            \t0.9\n",
            "Single step clustering              \tfalse\n",
            "Cascaded clustering steps           \t3\n",
            "Cluster reassign                    \tfalse\n",
            "Remove temporary files              \tfalse\n",
            "Force restart with latest tmp       \tfalse\n",
            "MPI runner                          \t\n",
            "k-mers per sequence                 \t21\n",
            "Scale k-mers per sequence           \taa:0.000,nucl:0.200\n",
            "Adjust k-mer length                 \tfalse\n",
            "Shift hash                          \t67\n",
            "Include only extendable             \tfalse\n",
            "Skip repeating k-mers               \tfalse\n",
            "\n",
            "Set cluster sensitivity to -s 3.000000\n",
            "Set cluster mode SET COVER\n",
            "Set cluster iterations to 3\n",
            "receptorDB_clu.dbtype exists already!\n",
            "createtsv receptorDB receptorDB receptorDB_clu receptorDB_clu.tsv \n",
            "\n",
            "MMseqs Version:                 \t6f45232ac8daca14e354ae320a4359056ec524c2\n",
            "First sequence as representative\tfalse\n",
            "Target column                   \t1\n",
            "Add full header                 \tfalse\n",
            "Sequence source                 \t0\n",
            "Database output                 \tfalse\n",
            "Threads                         \t2\n",
            "Compressed                      \t0\n",
            "Verbosity                       \t3\n",
            "\n",
            "Time for merging to receptorDB_clu.tsv: 0h 0m 0s 1ms\n",
            "Time for processing: 0h 0m 0s 20ms\n"
          ]
        }
      ],
      "source": [
        "!mmseqs createdb receptor.fasta receptorDB\n",
        "!mmseqs cluster receptorDB receptorDB_clu tmp --min-seq-id 0.5\n",
        "!mmseqs createtsv receptorDB receptorDB receptorDB_clu receptorDB_clu.tsv"
      ]
    },
    {
      "cell_type": "code",
      "execution_count": null,
      "metadata": {
        "id": "okEWpib1z5iW"
      },
      "outputs": [],
      "source": [
        "from Bio import SeqIO\n",
        "id_to_seq = {}\n",
        "receptors_parsed = list(SeqIO.parse('receptor.fasta', 'fasta'))\n",
        "for receptor_parsed in receptors_parsed:\n",
        "    id_to_seq[receptor_parsed.id] = str(receptor_parsed.seq)\n",
        "receptor_to_peptide = dict(zip(receptors, peptides))\n",
        "\n",
        "with open('receptorDB_clu.tsv', 'r') as f:\n",
        "    clusters = {}\n",
        "    for line in f:\n",
        "        cluster_id, receptor_id = line.strip().split(\"\\t\")\n",
        "        if cluster_id not in clusters:\n",
        "            clusters[cluster_id] = []\n",
        "        receptor_sequence = id_to_seq[receptor_id]\n",
        "        peptide_sequence = receptor_to_peptide[receptor_sequence]\n",
        "        clusters[cluster_id].append((peptide_sequence, receptor_sequence))\n",
        "\n",
        "cluster_ids = list(clusters.keys())\n",
        "random.shuffle(cluster_ids)\n",
        "num_train = int(0.7 * len(cluster_ids))\n",
        "num_val = int(0.15 * len(cluster_ids))\n",
        "train_clusters = cluster_ids[:num_train]\n",
        "val_clusters = cluster_ids[num_train:num_train+num_val]\n",
        "test_clusters = cluster_ids[num_train+num_val:]"
      ]
    },
    {
      "cell_type": "code",
      "execution_count": null,
      "metadata": {
        "id": "zeVE53tf93x6"
      },
      "outputs": [],
      "source": [
        "from torch.utils.data import Dataset, DataLoader\n",
        "\n",
        "class PeptideReceptorDataset(Dataset):\n",
        "    def __init__(self, clusters, cluster_ids):\n",
        "        self.clusters = clusters\n",
        "        self.cluster_ids = cluster_ids\n",
        "\n",
        "    def __len__(self):\n",
        "        return len(self.cluster_ids)\n",
        "\n",
        "    def __getitem__(self, idx):\n",
        "        curr_cluster = self.clusters[self.cluster_ids[idx]]\n",
        "        curr_pair = random.choice(curr_cluster)\n",
        "        peptide_sequence = curr_pair[0]\n",
        "        receptor_sequence = curr_pair[1]\n",
        "        return peptide_sequence, receptor_sequence\n",
        "\n",
        "train_dataset = PeptideReceptorDataset(clusters, train_clusters)\n",
        "val_dataset = PeptideReceptorDataset(clusters, val_clusters)\n",
        "test_dataset = PeptideReceptorDataset(clusters, test_clusters)\n",
        "\n",
        "batch_size = 32\n",
        "train_loader = DataLoader(train_dataset, batch_size=batch_size, shuffle=True, drop_last=True)\n",
        "val_loader = DataLoader(val_dataset, batch_size=batch_size, shuffle=False, drop_last=True)\n",
        "test_loader = DataLoader(test_dataset, batch_size=batch_size, shuffle=False, drop_last=True)"
      ]
    },
    {
      "cell_type": "code",
      "execution_count": null,
      "metadata": {
        "colab": {
          "base_uri": "https://localhost:8080/"
        },
        "id": "nXoSkZ3QvInJ",
        "outputId": "ee1c6e5a-b93c-4434-f119-dfe486013266"
      },
      "outputs": [
        {
          "output_type": "stream",
          "name": "stdout",
          "text": [
            "Requirement already satisfied: transformers in /usr/local/lib/python3.10/dist-packages (4.34.1)\n",
            "Requirement already satisfied: filelock in /usr/local/lib/python3.10/dist-packages (from transformers) (3.12.4)\n",
            "Requirement already satisfied: huggingface-hub<1.0,>=0.16.4 in /usr/local/lib/python3.10/dist-packages (from transformers) (0.17.3)\n",
            "Requirement already satisfied: numpy>=1.17 in /usr/local/lib/python3.10/dist-packages (from transformers) (1.23.5)\n",
            "Requirement already satisfied: packaging>=20.0 in /usr/local/lib/python3.10/dist-packages (from transformers) (23.2)\n",
            "Requirement already satisfied: pyyaml>=5.1 in /usr/local/lib/python3.10/dist-packages (from transformers) (6.0.1)\n",
            "Requirement already satisfied: regex!=2019.12.17 in /usr/local/lib/python3.10/dist-packages (from transformers) (2023.6.3)\n",
            "Requirement already satisfied: requests in /usr/local/lib/python3.10/dist-packages (from transformers) (2.31.0)\n",
            "Requirement already satisfied: tokenizers<0.15,>=0.14 in /usr/local/lib/python3.10/dist-packages (from transformers) (0.14.1)\n",
            "Requirement already satisfied: safetensors>=0.3.1 in /usr/local/lib/python3.10/dist-packages (from transformers) (0.4.0)\n",
            "Requirement already satisfied: tqdm>=4.27 in /usr/local/lib/python3.10/dist-packages (from transformers) (4.66.1)\n",
            "Requirement already satisfied: fsspec in /usr/local/lib/python3.10/dist-packages (from huggingface-hub<1.0,>=0.16.4->transformers) (2023.6.0)\n",
            "Requirement already satisfied: typing-extensions>=3.7.4.3 in /usr/local/lib/python3.10/dist-packages (from huggingface-hub<1.0,>=0.16.4->transformers) (4.5.0)\n",
            "Requirement already satisfied: charset-normalizer<4,>=2 in /usr/local/lib/python3.10/dist-packages (from requests->transformers) (3.3.1)\n",
            "Requirement already satisfied: idna<4,>=2.5 in /usr/local/lib/python3.10/dist-packages (from requests->transformers) (3.4)\n",
            "Requirement already satisfied: urllib3<3,>=1.21.1 in /usr/local/lib/python3.10/dist-packages (from requests->transformers) (2.0.7)\n",
            "Requirement already satisfied: certifi>=2017.4.17 in /usr/local/lib/python3.10/dist-packages (from requests->transformers) (2023.7.22)\n"
          ]
        }
      ],
      "source": [
        "!pip install transformers"
      ]
    },
    {
      "cell_type": "code",
      "execution_count": null,
      "metadata": {
        "id": "LxVl-BsiRiyo",
        "colab": {
          "base_uri": "https://localhost:8080/"
        },
        "outputId": "766d2d70-9f6a-43e4-d127-7b69447c9961"
      },
      "outputs": [
        {
          "output_type": "stream",
          "name": "stderr",
          "text": [
            "Some weights of EsmModel were not initialized from the model checkpoint at facebook/esm2_t6_8M_UR50D and are newly initialized: ['esm.pooler.dense.weight', 'esm.pooler.dense.bias']\n",
            "You should probably TRAIN this model on a down-stream task to be able to use it for predictions and inference.\n"
          ]
        }
      ],
      "source": [
        "from transformers import EsmModel, EsmTokenizer\n",
        "tokenizer = EsmTokenizer.from_pretrained(\"facebook/esm2_t6_8M_UR50D\")\n",
        "model = EsmModel.from_pretrained(\"facebook/esm2_t6_8M_UR50D\")"
      ]
    },
    {
      "cell_type": "code",
      "execution_count": null,
      "metadata": {
        "id": "rQDHVHX4InUx"
      },
      "outputs": [],
      "source": [
        "def masked_mean(h, mask):\n",
        "    masked_h = h * mask.unsqueeze(-1)\n",
        "    sum_masked_h = masked_h.sum(dim=1)\n",
        "    count_non_masked = mask.sum(dim=1, keepdim=True).clamp(min=1)\n",
        "    mean_masked_h = sum_masked_h / count_non_masked\n",
        "    return mean_masked_h\n",
        "\n",
        "class ExtendedCLIP(nn.Module):\n",
        "    def __init__(self, input_dim, h1, h2, esm_type='protein'):\n",
        "        super(ExtendedCLIP, self).__init__()\n",
        "\n",
        "        # esm\n",
        "        self.encoder = EsmModel.from_pretrained(\"facebook/esm2_t6_8M_UR50D\")\n",
        "\n",
        "        # freeze all parameters\n",
        "        for param in self.encoder.parameters():\n",
        "            param.requires_grad = False\n",
        "\n",
        "        # h1 feedforward layers\n",
        "        self.pep_amino_acid_ffn = nn.ModuleList()\n",
        "        for _ in range(h1):\n",
        "            self.pep_amino_acid_ffn.append(nn.Linear(input_dim, input_dim))\n",
        "        self.rec_amino_acid_ffn = nn.ModuleList()\n",
        "        for _ in range(h1):\n",
        "            self.rec_amino_acid_ffn.append(nn.Linear(input_dim, input_dim))\n",
        "\n",
        "        # h2 feedforward layers\n",
        "        self.pep_embedding_ffn = nn.ModuleList()\n",
        "        for _ in range(h2):\n",
        "            self.pep_embedding_ffn.append(nn.Linear(input_dim, input_dim))\n",
        "        self.rec_embedding_ffn = nn.ModuleList()\n",
        "        for _ in range(h2):\n",
        "            self.rec_embedding_ffn.append(nn.Linear(input_dim, input_dim))\n",
        "\n",
        "        # temp scaling\n",
        "        self.t = nn.Parameter(torch.tensor(1.0))\n",
        "\n",
        "    def forward(self, pep_seq, rec_seq):\n",
        "        # esm\n",
        "        pep_embedding = self.encoder(**pep_seq).last_hidden_state\n",
        "        rec_embedding = self.encoder(**rec_seq).last_hidden_state\n",
        "\n",
        "        # h1 layers on each amino acid\n",
        "        for i, layer in enumerate(self.pep_amino_acid_ffn):\n",
        "            pep_embedding = layer(pep_embedding)\n",
        "            if i != len(self.pep_amino_acid_ffn) - 1:  # not the last layer\n",
        "                pep_embedding = F.relu(pep_embedding)\n",
        "\n",
        "        for i, layer in enumerate(self.rec_amino_acid_ffn):\n",
        "            rec_embedding = layer(rec_embedding)\n",
        "            if i != len(self.rec_amino_acid_ffn) - 1:  # not the last layer\n",
        "                rec_embedding = F.relu(rec_embedding)\n",
        "\n",
        "        # avg embeddings over sequence length\n",
        "        pep_avg_embedding = masked_mean(pep_embedding, pep_seq['attention_mask'])\n",
        "        rec_avg_embedding = masked_mean(rec_embedding, rec_seq['attention_mask'])\n",
        "\n",
        "        # h2 layers on avg embeddings\n",
        "        for i, layer in enumerate(self.pep_embedding_ffn):\n",
        "            pep_avg_embedding = layer(pep_avg_embedding)\n",
        "            if i != len(self.pep_embedding_ffn) - 1:  # not the last layer\n",
        "                pep_avg_embedding = F.relu(pep_avg_embedding)\n",
        "\n",
        "        for i, layer in enumerate(self.rec_embedding_ffn):\n",
        "            rec_avg_embedding = layer(rec_avg_embedding)\n",
        "            if i != len(self.rec_embedding_ffn) - 1:  # not the last layer\n",
        "                rec_avg_embedding = F.relu(rec_avg_embedding)\n",
        "\n",
        "        # normalize embeddings\n",
        "        pep_norm_embedding = pep_avg_embedding / pep_avg_embedding.norm(dim=-1, keepdim=True).clamp(min=1e-9)\n",
        "        rec_norm_embedding = rec_avg_embedding / rec_avg_embedding.norm(dim=-1, keepdim=True).clamp(min=1e-9)\n",
        "\n",
        "        return pep_norm_embedding, rec_norm_embedding\n",
        "\n",
        "\n",
        "def compute_similarity_matrix(model, peptides, receptors):\n",
        "    pep_norm_embedding, rec_norm_embedding = model(peptides, receptors)\n",
        "    similarity_matrix = torch.mm(pep_norm_embedding, rec_norm_embedding.t())\n",
        "    return similarity_matrix\n",
        "\n",
        "def compute_loss(similarity_matrix, temperature):\n",
        "    logits = similarity_matrix / temperature\n",
        "    n = logits.size(0)\n",
        "    exp_logits = torch.exp(logits)\n",
        "    L_r = -torch.mean(torch.log(torch.exp(torch.diag(logits)) / torch.sum(exp_logits, dim=1)))\n",
        "    L_p = -torch.mean(torch.log(torch.exp(torch.diag(logits)) / torch.sum(exp_logits, dim=0)))\n",
        "    return (L_r + L_p) * 0.5\n",
        "\n",
        "from torch.cuda.amp import autocast, GradScaler\n",
        "import gc\n",
        "\n",
        "def train(model, data_loader, optimizer, device):\n",
        "    model.train()\n",
        "    total_loss = 0\n",
        "    optimizer.zero_grad()\n",
        "\n",
        "    for batch_idx, (peptides, receptors) in enumerate(data_loader):\n",
        "        peptides = tokenizer(peptides, return_tensors='pt', padding=True).to(device)\n",
        "        receptors = tokenizer(receptors, return_tensors='pt', padding=True).to(device)\n",
        "\n",
        "        similarity_matrix = compute_similarity_matrix(model, peptides, receptors)\n",
        "        loss = compute_loss(similarity_matrix, model.t)\n",
        "\n",
        "        loss.backward()\n",
        "        optimizer.step()\n",
        "        optimizer.zero_grad()\n",
        "\n",
        "        total_loss += loss.item()\n",
        "\n",
        "        del peptides\n",
        "        del receptors\n",
        "        del similarity_matrix\n",
        "        del loss\n",
        "\n",
        "    gc.collect()\n",
        "\n",
        "    return total_loss / len(data_loader)\n",
        "\n",
        "\n",
        "# def train(model, data_loader, optimizer, device):\n",
        "#     model.train()\n",
        "#     total_loss = 0\n",
        "#     for batch_idx, (peptides, receptors) in enumerate(data_loader):\n",
        "#         peptides = tokenizer(peptides, return_tensors='pt', padding=True).to(device)\n",
        "#         receptors = tokenizer(receptors, return_tensors='pt', padding=True).to(device)\n",
        "#         optimizer.zero_grad()\n",
        "#         similarity_matrix = compute_similarity_matrix(model, peptides, receptors)\n",
        "#         loss = compute_loss(similarity_matrix, model.t)\n",
        "#         loss.backward()\n",
        "#         optimizer.step()\n",
        "#         total_loss += loss.item()\n",
        "#     return total_loss / len(data_loader)\n",
        "\n",
        "def evaluate(model, data_loader, device):\n",
        "    model.eval()\n",
        "    total_loss = 0\n",
        "    with torch.no_grad():\n",
        "        for batch_idx, (peptides, receptors) in enumerate(data_loader):\n",
        "            peptides = tokenizer(peptides, return_tensors='pt', padding=True).to(device)\n",
        "            receptors = tokenizer(receptors, return_tensors='pt', padding=True).to(device)\n",
        "\n",
        "            similarity_matrix = compute_similarity_matrix(model, peptides, receptors)\n",
        "            loss = compute_loss(similarity_matrix, model.t)\n",
        "\n",
        "            total_loss += loss.item()\n",
        "\n",
        "            del peptides\n",
        "            del receptors\n",
        "            del similarity_matrix\n",
        "            del loss\n",
        "\n",
        "    gc.collect()\n",
        "\n",
        "    return total_loss / len(data_loader)\n"
      ]
    },
    {
      "cell_type": "code",
      "execution_count": null,
      "metadata": {
        "id": "cG_ngdrGIgt8"
      },
      "outputs": [],
      "source": [
        "# cleaning gpu ram\n",
        "torch.cuda.empty_cache()"
      ]
    },
    {
      "cell_type": "code",
      "execution_count": null,
      "metadata": {
        "id": "3GTQ6yh4-Djx",
        "colab": {
          "base_uri": "https://localhost:8080/"
        },
        "outputId": "0fc04579-be07-4d04-bf40-59476e289198"
      },
      "outputs": [
        {
          "output_type": "stream",
          "name": "stderr",
          "text": [
            "Some weights of EsmModel were not initialized from the model checkpoint at facebook/esm2_t6_8M_UR50D and are newly initialized: ['esm.pooler.dense.weight', 'esm.pooler.dense.bias']\n",
            "You should probably TRAIN this model on a down-stream task to be able to use it for predictions and inference.\n"
          ]
        }
      ],
      "source": [
        "device = torch.device(\"cuda\" if torch.cuda.is_available() else \"cpu\")\n",
        "set_seed()\n",
        "input_dim = 320\n",
        "h1 = 2\n",
        "h2 = 2\n",
        "trained_model = ExtendedCLIP(input_dim, h1, h2).to(device)\n",
        "optimizer = torch.optim.Adam(trained_model.parameters(), lr=1e-3)\n",
        "\n",
        "num_epochs = 50\n",
        "train_losses, val_losses = [], []"
      ]
    },
    {
      "cell_type": "code",
      "execution_count": null,
      "metadata": {
        "id": "HEpBMbDDa3FU",
        "colab": {
          "base_uri": "https://localhost:8080/",
          "height": 427
        },
        "outputId": "e2837910-f6b0-4e29-ff3c-ebbd7a8378b5"
      },
      "outputs": [
        {
          "output_type": "display_data",
          "data": {
            "text/plain": [
              "<Figure size 600x400 with 2 Axes>"
            ],
            "image/png": "[encoded data removed]"
          },
          "metadata": {}
        },
        {
          "output_type": "execute_result",
          "data": {
            "text/plain": [
              "6482"
            ]
          },
          "metadata": {},
          "execution_count": 12
        }
      ],
      "source": [
        "curr_peptides, curr_receptors = next(iter(train_loader))\n",
        "curr_peptides = tokenizer(curr_peptides, return_tensors='pt', padding=True).to(device)\n",
        "curr_receptors = tokenizer(curr_receptors, return_tensors='pt', padding=True).to(device)\n",
        "\n",
        "similarity_matrix = compute_similarity_matrix(trained_model, curr_peptides, curr_receptors)\n",
        "similarity_matrix_np = similarity_matrix.cpu().detach().numpy()\n",
        "\n",
        "plt.figure(figsize=(6, 4))\n",
        "plt.imshow(similarity_matrix_np, cmap='viridis')\n",
        "plt.colorbar()\n",
        "plt.title(\"Raw Embedding Cosine Similarities\")\n",
        "plt.xlabel(\"Receptor Protein\")\n",
        "plt.ylabel(\"Peptide\")\n",
        "plt.show()\n",
        "\n",
        "del curr_peptides\n",
        "del curr_receptors\n",
        "del similarity_matrix\n",
        "del similarity_matrix_np\n",
        "gc.collect()"
      ]
    },
    {
      "cell_type": "code",
      "execution_count": null,
      "metadata": {
        "colab": {
          "base_uri": "https://localhost:8080/"
        },
        "id": "QWs6Pzs5XM7H",
        "outputId": "262367ce-5ad0-4125-c66e-f3467755f8f8"
      },
      "outputs": [
        {
          "output_type": "stream",
          "name": "stderr",
          "text": [
            "Token indices sequence length is longer than the specified maximum sequence length for this model (1030 > 1024). Running this sequence through the model will result in indexing errors\n"
          ]
        },
        {
          "output_type": "stream",
          "name": "stdout",
          "text": [
            "Epoch 1/50 - Train Loss: 3.4174, Val Loss: 3.4135\n",
            "Epoch 2/50 - Train Loss: 3.3505, Val Loss: 3.3738\n",
            "Epoch 3/50 - Train Loss: 3.3183, Val Loss: 3.2758\n",
            "Epoch 4/50 - Train Loss: 3.2480, Val Loss: 3.2944\n",
            "Epoch 5/50 - Train Loss: 3.2280, Val Loss: 3.3393\n",
            "Epoch 6/50 - Train Loss: 3.2069, Val Loss: 3.2637\n",
            "Epoch 7/50 - Train Loss: 3.1905, Val Loss: 3.2611\n",
            "Epoch 8/50 - Train Loss: 3.1403, Val Loss: 3.2202\n",
            "Epoch 9/50 - Train Loss: 3.0996, Val Loss: 3.2760\n",
            "Epoch 10/50 - Train Loss: 3.0571, Val Loss: 3.2294\n",
            "Epoch 11/50 - Train Loss: 3.0290, Val Loss: 3.1706\n",
            "Epoch 12/50 - Train Loss: 2.9787, Val Loss: 3.2481\n",
            "Epoch 13/50 - Train Loss: 2.9156, Val Loss: 3.2385\n",
            "Epoch 14/50 - Train Loss: 2.8683, Val Loss: 3.2325\n",
            "Epoch 15/50 - Train Loss: 2.8296, Val Loss: 3.2513\n",
            "Epoch 16/50 - Train Loss: 2.7480, Val Loss: 3.3263\n",
            "Epoch 17/50 - Train Loss: 2.6557, Val Loss: 3.3961\n",
            "Epoch 18/50 - Train Loss: 2.5999, Val Loss: 3.4165\n",
            "Epoch 19/50 - Train Loss: 2.5533, Val Loss: 3.3839\n",
            "Epoch 20/50 - Train Loss: 2.4664, Val Loss: 3.3649\n",
            "Epoch 21/50 - Train Loss: 2.4422, Val Loss: 3.4570\n",
            "Epoch 22/50 - Train Loss: 2.3615, Val Loss: 3.5122\n",
            "Epoch 23/50 - Train Loss: 2.2917, Val Loss: 3.6562\n",
            "Epoch 24/50 - Train Loss: 2.2163, Val Loss: 3.5787\n",
            "Epoch 25/50 - Train Loss: 2.1535, Val Loss: 3.8352\n",
            "Epoch 26/50 - Train Loss: 2.1091, Val Loss: 3.7530\n",
            "Epoch 27/50 - Train Loss: 2.0034, Val Loss: 4.2134\n",
            "Epoch 28/50 - Train Loss: 1.9806, Val Loss: 4.1821\n",
            "Epoch 29/50 - Train Loss: 1.9039, Val Loss: 4.0858\n",
            "Epoch 30/50 - Train Loss: 1.7854, Val Loss: 4.5386\n",
            "Epoch 31/50 - Train Loss: 1.8301, Val Loss: 4.2551\n",
            "Epoch 32/50 - Train Loss: 1.7327, Val Loss: 4.4031\n",
            "Epoch 33/50 - Train Loss: 1.7446, Val Loss: 4.4142\n",
            "Epoch 34/50 - Train Loss: 1.6857, Val Loss: 4.2293\n",
            "Epoch 35/50 - Train Loss: 1.6335, Val Loss: 4.7165\n",
            "Epoch 36/50 - Train Loss: 1.5716, Val Loss: 4.6999\n",
            "Epoch 37/50 - Train Loss: 1.5356, Val Loss: 4.6318\n",
            "Epoch 38/50 - Train Loss: 1.4623, Val Loss: 4.8527\n",
            "Epoch 39/50 - Train Loss: 1.3682, Val Loss: 5.0227\n",
            "Epoch 40/50 - Train Loss: 1.4564, Val Loss: 4.7482\n",
            "Epoch 41/50 - Train Loss: 1.4167, Val Loss: 5.0378\n",
            "Epoch 42/50 - Train Loss: 1.2916, Val Loss: 5.7552\n",
            "Epoch 43/50 - Train Loss: 1.2573, Val Loss: 6.1071\n",
            "Epoch 44/50 - Train Loss: 1.2707, Val Loss: 5.7511\n",
            "Epoch 45/50 - Train Loss: 1.2064, Val Loss: 5.5007\n",
            "Epoch 46/50 - Train Loss: 1.2217, Val Loss: 5.3963\n",
            "Epoch 47/50 - Train Loss: 1.1663, Val Loss: 6.2127\n",
            "Epoch 48/50 - Train Loss: 1.2099, Val Loss: 5.4174\n",
            "Epoch 49/50 - Train Loss: 1.1145, Val Loss: 6.4375\n",
            "Epoch 50/50 - Train Loss: 1.1572, Val Loss: 5.7823\n"
          ]
        }
      ],
      "source": [
        "for epoch in range(num_epochs):\n",
        "    train_loss = train(trained_model, train_loader, optimizer, device)\n",
        "    val_loss = evaluate(trained_model, val_loader, device)\n",
        "\n",
        "    train_losses.append(train_loss)\n",
        "    val_losses.append(val_loss)\n",
        "\n",
        "    torch.cuda.empty_cache()  # Clearing GPU cache after each epoch\n",
        "\n",
        "    print(f\"Epoch {epoch + 1}/{num_epochs} - Train Loss: {train_loss:.4f}, Val Loss: {val_loss:.4f}\")\n"
      ]
    },
    {
      "cell_type": "code",
      "source": [
        "torch.save(model.state_dict(), 'failed_model.pt')"
      ],
      "metadata": {
        "id": "BGh8C65ZHch1"
      },
      "execution_count": null,
      "outputs": []
    },
    {
      "cell_type": "code",
      "execution_count": null,
      "metadata": {
        "id": "a-j6D4gDXGvp",
        "colab": {
          "base_uri": "https://localhost:8080/",
          "height": 489
        },
        "outputId": "02e0d83a-c832-4a80-ceb2-82314c00cfa0"
      },
      "outputs": [
        {
          "output_type": "display_data",
          "data": {
            "text/plain": [
              "<Figure size 640x480 with 1 Axes>"
            ],
            "image/png": "[encoded data removed]"
          },
          "metadata": {}
        },
        {
          "output_type": "stream",
          "name": "stdout",
          "text": [
            "Test Loss: 6.0409\n"
          ]
        }
      ],
      "source": [
        "plt.plot(train_losses, label='Train Loss')\n",
        "plt.plot(val_losses, label='Validation Loss')\n",
        "plt.xlabel('Epochs')\n",
        "plt.ylabel('Loss')\n",
        "plt.title('Training and Validation Loss')\n",
        "plt.legend()\n",
        "plt.show()\n",
        "\n",
        "# eval on test set\n",
        "test_loss = evaluate(trained_model, test_loader, device)\n",
        "print(f\"Test Loss: {test_loss:.4f}\")"
      ]
    },
    {
      "cell_type": "code",
      "execution_count": null,
      "metadata": {
        "id": "sUCD0rowB0KQ",
        "colab": {
          "base_uri": "https://localhost:8080/",
          "height": 427
        },
        "outputId": "aa59d38d-baf7-414d-8e86-29650382b2c4"
      },
      "outputs": [
        {
          "output_type": "display_data",
          "data": {
            "text/plain": [
              "<Figure size 600x400 with 2 Axes>"
            ],
            "image/png": "[encoded data removed]"
          },
          "metadata": {}
        },
        {
          "output_type": "execute_result",
          "data": {
            "text/plain": [
              "6348"
            ]
          },
          "metadata": {},
          "execution_count": 47
        }
      ],
      "source": [
        "curr_peptides, curr_receptors = next(iter(train_loader))\n",
        "curr_peptides = tokenizer(curr_peptides, return_tensors='pt', padding=True).to(device)\n",
        "curr_receptors = tokenizer(curr_receptors, return_tensors='pt', padding=True).to(device)\n",
        "\n",
        "similarity_matrix = compute_similarity_matrix(trained_model, curr_peptides, curr_receptors)\n",
        "similarity_matrix_np = similarity_matrix.cpu().detach().numpy()\n",
        "\n",
        "plt.figure(figsize=(6, 4))\n",
        "plt.imshow(similarity_matrix_np, cmap=\"ocean\", vmin=-1, vmax=1)\n",
        "plt.colorbar()\n",
        "plt.title(\"Trained Embedding Cosine Similarities on Train Set\")\n",
        "plt.xlabel(\"Receptor Protein\")\n",
        "plt.ylabel(\"Peptide\")\n",
        "plt.show()\n",
        "\n",
        "del curr_peptides\n",
        "del curr_receptors\n",
        "del similarity_matrix\n",
        "del similarity_matrix_np\n",
        "gc.collect()"
      ]
    },
    {
      "cell_type": "code",
      "source": [
        "curr_peptides, curr_receptors = next(iter(val_loader))\n",
        "curr_peptides = tokenizer(curr_peptides, return_tensors='pt', padding=True).to(device)\n",
        "curr_receptors = tokenizer(curr_receptors, return_tensors='pt', padding=True).to(device)\n",
        "\n",
        "similarity_matrix = compute_similarity_matrix(trained_model, curr_peptides, curr_receptors)\n",
        "similarity_matrix_np = similarity_matrix.cpu().detach().numpy()\n",
        "\n",
        "plt.figure(figsize=(6, 4))\n",
        "plt.imshow(similarity_matrix_np, cmap='ocean')\n",
        "plt.colorbar()\n",
        "plt.title(\"Trained Embedding Cosine Similarities on Val Set\")\n",
        "plt.xlabel(\"Receptor Protein\")\n",
        "plt.ylabel(\"Peptide\")\n",
        "plt.show()\n",
        "\n",
        "del curr_peptides\n",
        "del curr_receptors\n",
        "del similarity_matrix\n",
        "del similarity_matrix_np\n",
        "gc.collect()"
      ],
      "metadata": {
        "colab": {
          "base_uri": "https://localhost:8080/",
          "height": 427
        },
        "id": "w9tjZNq3MhYN",
        "outputId": "b3d330c6-b5a3-4131-8fb9-da169f8cc709"
      },
      "execution_count": null,
      "outputs": [
        {
          "output_type": "display_data",
          "data": {
            "text/plain": [
              "<Figure size 600x400 with 2 Axes>"
            ],
            "image/png": "[encoded data removed]"
          },
          "metadata": {}
        },
        {
          "output_type": "execute_result",
          "data": {
            "text/plain": [
              "6571"
            ]
          },
          "metadata": {},
          "execution_count": 43
        }
      ]
    },
    {
      "cell_type": "code",
      "execution_count": null,
      "metadata": {
        "id": "v9qWMWKIXYB-"
      },
      "outputs": [],
      "source": [
        "torch.save(trained_model.state_dict(), 'temp.pth')"
      ]
    },
    {
      "cell_type": "code",
      "source": [
        "trained_model = ExtendedCLIP(320, 2, 2)\n",
        "trained_model.load_state_dict(torch.load('temp.pth'))\n",
        "trained_model.to(device)"
      ],
      "metadata": {
        "id": "BXNwc_h6emu8",
        "colab": {
          "base_uri": "https://localhost:8080/"
        },
        "outputId": "76c424d0-edd5-475e-e24e-09b560a960b9"
      },
      "execution_count": null,
      "outputs": [
        {
          "output_type": "stream",
          "name": "stderr",
          "text": [
            "Some weights of EsmModel were not initialized from the model checkpoint at facebook/esm2_t6_8M_UR50D and are newly initialized: ['esm.pooler.dense.weight', 'esm.pooler.dense.bias']\n",
            "You should probably TRAIN this model on a down-stream task to be able to use it for predictions and inference.\n"
          ]
        },
        {
          "output_type": "execute_result",
          "data": {
            "text/plain": [
              "ExtendedCLIP(\n",
              "  (encoder): EsmModel(\n",
              "    (embeddings): EsmEmbeddings(\n",
              "      (word_embeddings): Embedding(33, 320, padding_idx=1)\n",
              "      (dropout): Dropout(p=0.0, inplace=False)\n",
              "      (position_embeddings): Embedding(1026, 320, padding_idx=1)\n",
              "    )\n",
              "    (encoder): EsmEncoder(\n",
              "      (layer): ModuleList(\n",
              "        (0-5): 6 x EsmLayer(\n",
              "          (attention): EsmAttention(\n",
              "            (self): EsmSelfAttention(\n",
              "              (query): Linear(in_features=320, out_features=320, bias=True)\n",
              "              (key): Linear(in_features=320, out_features=320, bias=True)\n",
              "              (value): Linear(in_features=320, out_features=320, bias=True)\n",
              "              (dropout): Dropout(p=0.0, inplace=False)\n",
              "              (rotary_embeddings): RotaryEmbedding()\n",
              "            )\n",
              "            (output): EsmSelfOutput(\n",
              "              (dense): Linear(in_features=320, out_features=320, bias=True)\n",
              "              (dropout): Dropout(p=0.0, inplace=False)\n",
              "            )\n",
              "            (LayerNorm): LayerNorm((320,), eps=1e-05, elementwise_affine=True)\n",
              "          )\n",
              "          (intermediate): EsmIntermediate(\n",
              "            (dense): Linear(in_features=320, out_features=1280, bias=True)\n",
              "          )\n",
              "          (output): EsmOutput(\n",
              "            (dense): Linear(in_features=1280, out_features=320, bias=True)\n",
              "            (dropout): Dropout(p=0.0, inplace=False)\n",
              "          )\n",
              "          (LayerNorm): LayerNorm((320,), eps=1e-05, elementwise_affine=True)\n",
              "        )\n",
              "      )\n",
              "      (emb_layer_norm_after): LayerNorm((320,), eps=1e-05, elementwise_affine=True)\n",
              "    )\n",
              "    (pooler): EsmPooler(\n",
              "      (dense): Linear(in_features=320, out_features=320, bias=True)\n",
              "      (activation): Tanh()\n",
              "    )\n",
              "    (contact_head): EsmContactPredictionHead(\n",
              "      (regression): Linear(in_features=120, out_features=1, bias=True)\n",
              "      (activation): Sigmoid()\n",
              "    )\n",
              "  )\n",
              "  (pep_amino_acid_ffn): ModuleList(\n",
              "    (0-1): 2 x Linear(in_features=320, out_features=320, bias=True)\n",
              "  )\n",
              "  (rec_amino_acid_ffn): ModuleList(\n",
              "    (0-1): 2 x Linear(in_features=320, out_features=320, bias=True)\n",
              "  )\n",
              "  (pep_embedding_ffn): ModuleList(\n",
              "    (0-1): 2 x Linear(in_features=320, out_features=320, bias=True)\n",
              "  )\n",
              "  (rec_embedding_ffn): ModuleList(\n",
              "    (0-1): 2 x Linear(in_features=320, out_features=320, bias=True)\n",
              "  )\n",
              ")"
            ]
          },
          "metadata": {},
          "execution_count": 18
        }
      ]
    },
    {
      "cell_type": "code",
      "source": [],
      "metadata": {
        "id": "tRo3QTlrGa_4"
      },
      "execution_count": null,
      "outputs": []
    }
  ],
  "metadata": {
    "accelerator": "GPU",
    "colab": {
      "provenance": [],
      "gpuType": "T4",
      "include_colab_link": true
    },
    "kernelspec": {
      "display_name": "Python 3",
      "name": "python3"
    },
    "language_info": {
      "name": "python"
    }
  },
  "nbformat": 4,
  "nbformat_minor": 0
}